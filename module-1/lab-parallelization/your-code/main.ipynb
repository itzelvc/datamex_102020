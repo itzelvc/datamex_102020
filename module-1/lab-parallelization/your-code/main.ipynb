{
  "nbformat": 4,
  "nbformat_minor": 0,
  "metadata": {
    "kernelspec": {
      "display_name": "Python 3",
      "language": "python",
      "name": "python3"
    },
    "language_info": {
      "codemirror_mode": {
        "name": "ipython",
        "version": 3
      },
      "file_extension": ".py",
      "mimetype": "text/x-python",
      "name": "python",
      "nbconvert_exporter": "python",
      "pygments_lexer": "ipython3",
      "version": "3.8.3"
    },
    "colab": {
      "name": "main.ipynb",
      "provenance": []
    }
  },
  "cells": [
    {
      "cell_type": "markdown",
      "metadata": {
        "id": "eKlaUoyliEs0"
      },
      "source": [
        "# Parallelization Lab\n",
        "\n",
        "In this lab, you will be leveraging several concepts you have learned to obtain a list of links from a web page and crawl and index the pages referenced by those links - both sequentially and in parallel. Follow the steps below to complete the lab."
      ]
    },
    {
      "cell_type": "markdown",
      "metadata": {
        "id": "cRd464GqiEs4"
      },
      "source": [
        "## Step 1: Use the requests library to retrieve the content from the URL below."
      ]
    },
    {
      "cell_type": "code",
      "metadata": {
        "id": "2IciFRY8iEs6"
      },
      "source": [
        "import requests\n",
        "\n",
        "url = 'https://en.wikipedia.org/wiki/Data_science'"
      ],
      "execution_count": 18,
      "outputs": []
    },
    {
      "cell_type": "code",
      "metadata": {
        "id": "vQGeiVLCiEtX",
        "outputId": "5a7d9571-05bf-476b-9199-6b7acfd4adad",
        "colab": {
          "base_uri": "https://localhost:8080/"
        }
      },
      "source": [
        "req = requests.get(url)\n",
        "req"
      ],
      "execution_count": 19,
      "outputs": [
        {
          "output_type": "execute_result",
          "data": {
            "text/plain": [
              "<Response [200]>"
            ]
          },
          "metadata": {
            "tags": []
          },
          "execution_count": 19
        }
      ]
    },
    {
      "cell_type": "markdown",
      "metadata": {
        "id": "LwzBUJTWiEtl"
      },
      "source": [
        "## Step 2: Use BeautifulSoup to extract a list of all the unique links on the page.\n"
      ]
    },
    {
      "cell_type": "code",
      "metadata": {
        "id": "G78y-eq1iEtq"
      },
      "source": [
        "from bs4 import BeautifulSoup\n",
        "import re\n"
      ],
      "execution_count": 20,
      "outputs": []
    },
    {
      "cell_type": "code",
      "metadata": {
        "id": "kNE144TuiEtz"
      },
      "source": [
        "sopa =  BeautifulSoup(req.content, 'html.parser')\n",
        "\n",
        "# Lista de sopas que contienen href\n",
        "lst_href = sopa.findAll(href = re.compile('.*'))\n",
        "\n",
        "# Lista de links\n",
        "lst_links = []\n",
        "\n",
        "# Ciclo for para guardar cada link\n",
        "for i in range(len(lst_href)):\n",
        "    \n",
        "    # Extraemos y limpiamos el link\n",
        "    x = re.findall('href=\".*?\"', str(lst_href[i]))[0].replace('href=', '').replace('\"', '')\n",
        "    \n",
        "    # Verficamos que no exista en la lista de links\n",
        "    if (x not in lst_links) and (x.startswith('#') == False):\n",
        "        lst_links.append(x)\n",
        "\n",
        "# lst_links"
      ],
      "execution_count": 21,
      "outputs": []
    },
    {
      "cell_type": "markdown",
      "metadata": {
        "id": "0spAF1p9iEt7"
      },
      "source": [
        "## Step 3: Use list comprehensions with conditions to clean the link list.\n",
        "\n",
        "There are two types of links, absolute and relative. Absolute links have the full URL and begin with http while relative links begin with a forward slash (/) and point to an internal page within the wikipedia.org domain. Clean the respective types of URLs as follows.\n",
        "\n",
        "- Absolute Links: Create a list of these and remove any that contain a percentage sign (%).\n",
        "- Relativel Links: Create a list of these, add the domain to the link so that you have the full URL, and remove any that contain a percentage sign (%).\n",
        "- Combine the list of absolute and relative links and ensure there are no duplicates."
      ]
    },
    {
      "cell_type": "code",
      "metadata": {
        "id": "P-e20zvRiEt9"
      },
      "source": [
        "domain = 'http://wikipedia.org'"
      ],
      "execution_count": 22,
      "outputs": []
    },
    {
      "cell_type": "code",
      "metadata": {
        "id": "DJo2Ye5YiEuW"
      },
      "source": [
        "# lst de absolute links\n",
        "lst_abs = [i for i in lst_links if (i.startswith('http')) and ('%' not in i)]\n",
        "\n",
        "# Lista de relative links\n",
        "lst_rel = [domain + i for i in lst_links if (i.startswith('/')) and ('%' not in i)]\n",
        "\n",
        "# Links agregamos los links a una lista consolidad\n",
        "links = []\n",
        "\n",
        "for i in lst_abs:\n",
        "    if i not in links:\n",
        "        links.append(i)\n",
        "        \n",
        "for i in lst_rel:\n",
        "    if i not in links:\n",
        "        links.append(i)    \n"
      ],
      "execution_count": 23,
      "outputs": []
    },
    {
      "cell_type": "code",
      "metadata": {
        "id": "3WXH4i-EiEug",
        "outputId": "cdf52345-971d-47f4-ac28-6a7ae2fa6864",
        "colab": {
          "base_uri": "https://localhost:8080/"
        }
      },
      "source": [
        "links"
      ],
      "execution_count": 24,
      "outputs": [
        {
          "output_type": "execute_result",
          "data": {
            "text/plain": [
              "['https://en.wikipedia.org/wiki/Data_science',\n",
              " 'https://arxiv.org/list/cs.LG/recent',\n",
              " 'https://en.wikipedia.org/w/index.php?title=Template:Machine_learning_bar&amp;action=edit',\n",
              " 'https://en.wikipedia.org/w/index.php?title=Data_science&amp;action=edit',\n",
              " 'http://cacm.acm.org/magazines/2013/12/169933-data-science-and-prediction/fulltext',\n",
              " 'https://api.semanticscholar.org/CorpusID:6107147',\n",
              " 'https://web.archive.org/web/20141109113411/http://cacm.acm.org/magazines/2013/12/169933-data-science-and-prediction/fulltext',\n",
              " 'http://simplystatistics.org/2013/12/12/the-key-word-in-data-science-is-not-data-it-is-science/',\n",
              " 'https://web.archive.org/web/20140102194117/http://simplystatistics.org/2013/12/12/the-key-word-in-data-science-is-not-data-it-is-science/',\n",
              " 'https://www.springer.com/book/9784431702085',\n",
              " 'https://books.google.com/books?id=oGs_AQAAIAAJ',\n",
              " 'https://web.archive.org/web/20170320193019/https://books.google.com/books?id=oGs_AQAAIAAJ',\n",
              " 'https://api.semanticscholar.org/CorpusID:9743327',\n",
              " 'http://www.datascienceassn.org/about-data-science',\n",
              " 'https://www.oreilly.com/library/view/doing-data-science/9781449363871/ch01.html',\n",
              " 'https://medriscoll.com/post/4740157098/the-three-sexy-skills-of-data-geeks',\n",
              " 'https://flowingdata.com/2009/06/04/rise-of-the-data-scientist/',\n",
              " 'https://benfry.com/phd/dissertation/2.html',\n",
              " 'https://magazine.amstat.org/blog/2015/10/01/asa-statement-on-the-role-of-statistics-in-data-science/',\n",
              " 'https://web.archive.org/web/20190620184935/https://magazine.amstat.org/blog/2015/10/01/asa-statement-on-the-role-of-statistics-in-data-science/',\n",
              " 'https://www.statisticsviews.com/details/feature/5133141/Nate-Silver-What-I-need-from-statisticians.html',\n",
              " 'http://priceonomics.com/whats-the-difference-between-data-science-and/',\n",
              " 'https://statmodeling.stat.columbia.edu/2013/11/14/statistics-least-important-part-data-science/',\n",
              " 'https://www.datasciencecentral.com/profiles/blogs/data-science-without-statistics-is-possible-even-desirable',\n",
              " 'http://courses.csail.mit.edu/18.337/2015/docs/50YearsDataScience.pdf',\n",
              " 'https://www.mdpi.com/2504-2289/2/2/14',\n",
              " 'http://www2.isye.gatech.edu/~jeffwu/presentations/datascience.pdf',\n",
              " 'https://www.forbes.com/sites/gilpress/2013/05/28/a-very-short-history-of-data-science/',\n",
              " 'https://www.stat.purdue.edu/~wsc/',\n",
              " 'https://magazine.amstat.org/blog/2016/06/01/datascience-2/',\n",
              " 'https://hbr.org/2012/10/data-scientist-the-sexiest-job-of-the-21st-century',\n",
              " 'https://www.nsf.gov/pubs/2005/nsb0540/',\n",
              " 'https://www.forbes.com/sites/gilpress/2013/08/19/data-science-whats-the-half-life-of-a-buzzword/',\n",
              " 'https://www.forbes.com/sites/peterpham/2015/08/28/the-impacts-of-big-data-that-you-may-not-have-heard-of/',\n",
              " 'https://towardsdatascience.com/how-data-science-will-impact-future-of-businesses-7f11f5699c4d',\n",
              " 'https://sites.engineering.ucsb.edu/~shell/che210d/python.pdf',\n",
              " 'https://cran.r-project.org/doc/FAQ/R-FAQ.html#What-is-R_003f',\n",
              " 'https://www.wired.com/2014/07/a-drag-and-drop-toolkit-that-lets-anyone-create-interactive-maps/',\n",
              " 'https://en.wikipedia.org/w/index.php?title=Template:Data&amp;action=edit',\n",
              " 'https://en.wikipedia.org/w/index.php?title=Data_science&amp;oldid=986108274',\n",
              " 'https://donate.wikimedia.org/wiki/Special:FundraiserRedirector?utm_source=donate&amp;utm_medium=sidebar&amp;utm_campaign=C13_en.wikipedia.org&amp;uselang=en',\n",
              " 'https://www.wikidata.org/wiki/Special:EntityPage/Q2374463',\n",
              " 'https://commons.wikimedia.org/wiki/Category:Data_science',\n",
              " 'https://cs.wikipedia.org/wiki/Data_science',\n",
              " 'https://de.wikipedia.org/wiki/Data_Science',\n",
              " 'https://es.wikipedia.org/wiki/Ciencia_de_datos',\n",
              " 'https://eu.wikipedia.org/wiki/Datu_zientzia',\n",
              " 'https://id.wikipedia.org/wiki/Ilmu_data',\n",
              " 'https://it.wikipedia.org/wiki/Scienza_dei_dati',\n",
              " 'https://ms.wikipedia.org/wiki/Sains_data',\n",
              " 'https://nl.wikipedia.org/wiki/Datawetenschap',\n",
              " 'https://pl.wikipedia.org/wiki/Danologia',\n",
              " 'https://simple.wikipedia.org/wiki/Data_science',\n",
              " 'https://fi.wikipedia.org/wiki/Datatiede',\n",
              " 'https://tr.wikipedia.org/wiki/Veri_bilimi',\n",
              " 'https://www.wikidata.org/wiki/Special:EntityPage/Q2374463#sitelinks-wikipedia',\n",
              " 'https://foundation.wikimedia.org/wiki/Privacy_policy',\n",
              " 'https://www.mediawiki.org/wiki/Special:MyLanguage/How_to_contribute',\n",
              " 'https://stats.wikimedia.org/#/en.wikipedia.org',\n",
              " 'https://foundation.wikimedia.org/wiki/Cookie_statement',\n",
              " 'https://wikimediafoundation.org/',\n",
              " 'https://www.mediawiki.org/',\n",
              " 'http://wikipedia.org/w/load.php?lang=en&amp;modules=site.styles&amp;only=styles&amp;skin=vector',\n",
              " 'http://wikipedia.org//en.m.wikipedia.org/wiki/Data_science',\n",
              " 'http://wikipedia.org/w/index.php?title=Data_science&amp;action=edit',\n",
              " 'http://wikipedia.org/static/apple-touch/wikipedia.png',\n",
              " 'http://wikipedia.org/static/favicon/wikipedia.ico',\n",
              " 'http://wikipedia.org/w/opensearch_desc.php',\n",
              " 'http://wikipedia.org//en.wikipedia.org/w/api.php?action=rsd',\n",
              " 'http://wikipedia.org//creativecommons.org/licenses/by-sa/3.0/',\n",
              " 'http://wikipedia.org//login.wikimedia.org',\n",
              " 'http://wikipedia.org//meta.wikimedia.org',\n",
              " 'http://wikipedia.org/wiki/Information_science',\n",
              " 'http://wikipedia.org/wiki/Machine_learning',\n",
              " 'http://wikipedia.org/wiki/Data_mining',\n",
              " 'http://wikipedia.org/wiki/Statistical_classification',\n",
              " 'http://wikipedia.org/wiki/Cluster_analysis',\n",
              " 'http://wikipedia.org/wiki/Regression_analysis',\n",
              " 'http://wikipedia.org/wiki/Anomaly_detection',\n",
              " 'http://wikipedia.org/wiki/Automated_machine_learning',\n",
              " 'http://wikipedia.org/wiki/Association_rule_learning',\n",
              " 'http://wikipedia.org/wiki/Reinforcement_learning',\n",
              " 'http://wikipedia.org/wiki/Structured_prediction',\n",
              " 'http://wikipedia.org/wiki/Feature_engineering',\n",
              " 'http://wikipedia.org/wiki/Feature_learning',\n",
              " 'http://wikipedia.org/wiki/Online_machine_learning',\n",
              " 'http://wikipedia.org/wiki/Semi-supervised_learning',\n",
              " 'http://wikipedia.org/wiki/Unsupervised_learning',\n",
              " 'http://wikipedia.org/wiki/Learning_to_rank',\n",
              " 'http://wikipedia.org/wiki/Grammar_induction',\n",
              " 'http://wikipedia.org/wiki/Supervised_learning',\n",
              " 'http://wikipedia.org/wiki/Decision_tree_learning',\n",
              " 'http://wikipedia.org/wiki/Ensemble_learning',\n",
              " 'http://wikipedia.org/wiki/Bootstrap_aggregating',\n",
              " 'http://wikipedia.org/wiki/Boosting_(machine_learning)',\n",
              " 'http://wikipedia.org/wiki/Random_forest',\n",
              " 'http://wikipedia.org/wiki/K-nearest_neighbors_algorithm',\n",
              " 'http://wikipedia.org/wiki/Linear_regression',\n",
              " 'http://wikipedia.org/wiki/Naive_Bayes_classifier',\n",
              " 'http://wikipedia.org/wiki/Artificial_neural_network',\n",
              " 'http://wikipedia.org/wiki/Logistic_regression',\n",
              " 'http://wikipedia.org/wiki/Perceptron',\n",
              " 'http://wikipedia.org/wiki/Relevance_vector_machine',\n",
              " 'http://wikipedia.org/wiki/Support-vector_machine',\n",
              " 'http://wikipedia.org/wiki/BIRCH',\n",
              " 'http://wikipedia.org/wiki/CURE_data_clustering_algorithm',\n",
              " 'http://wikipedia.org/wiki/Hierarchical_clustering',\n",
              " 'http://wikipedia.org/wiki/K-means_clustering',\n",
              " 'http://wikipedia.org/wiki/DBSCAN',\n",
              " 'http://wikipedia.org/wiki/OPTICS_algorithm',\n",
              " 'http://wikipedia.org/wiki/Mean-shift',\n",
              " 'http://wikipedia.org/wiki/Dimensionality_reduction',\n",
              " 'http://wikipedia.org/wiki/Factor_analysis',\n",
              " 'http://wikipedia.org/wiki/Canonical_correlation',\n",
              " 'http://wikipedia.org/wiki/Independent_component_analysis',\n",
              " 'http://wikipedia.org/wiki/Linear_discriminant_analysis',\n",
              " 'http://wikipedia.org/wiki/Non-negative_matrix_factorization',\n",
              " 'http://wikipedia.org/wiki/Principal_component_analysis',\n",
              " 'http://wikipedia.org/wiki/Proper_generalized_decomposition',\n",
              " 'http://wikipedia.org/wiki/T-distributed_stochastic_neighbor_embedding',\n",
              " 'http://wikipedia.org/wiki/Graphical_model',\n",
              " 'http://wikipedia.org/wiki/Bayesian_network',\n",
              " 'http://wikipedia.org/wiki/Conditional_random_field',\n",
              " 'http://wikipedia.org/wiki/Hidden_Markov_model',\n",
              " 'http://wikipedia.org/wiki/K-nearest_neighbors_classification',\n",
              " 'http://wikipedia.org/wiki/Local_outlier_factor',\n",
              " 'http://wikipedia.org/wiki/Autoencoder',\n",
              " 'http://wikipedia.org/wiki/Deep_learning',\n",
              " 'http://wikipedia.org/wiki/DeepDream',\n",
              " 'http://wikipedia.org/wiki/Multilayer_perceptron',\n",
              " 'http://wikipedia.org/wiki/Recurrent_neural_network',\n",
              " 'http://wikipedia.org/wiki/Long_short-term_memory',\n",
              " 'http://wikipedia.org/wiki/Gated_recurrent_unit',\n",
              " 'http://wikipedia.org/wiki/Echo_state_network',\n",
              " 'http://wikipedia.org/wiki/Restricted_Boltzmann_machine',\n",
              " 'http://wikipedia.org/wiki/Generative_adversarial_network',\n",
              " 'http://wikipedia.org/wiki/Self-organizing_map',\n",
              " 'http://wikipedia.org/wiki/Convolutional_neural_network',\n",
              " 'http://wikipedia.org/wiki/U-Net',\n",
              " 'http://wikipedia.org/wiki/Transformer_(machine_learning_model)',\n",
              " 'http://wikipedia.org/wiki/Q-learning',\n",
              " 'http://wikipedia.org/wiki/Temporal_difference_learning',\n",
              " 'http://wikipedia.org/wiki/Computational_learning_theory',\n",
              " 'http://wikipedia.org/wiki/Empirical_risk_minimization',\n",
              " 'http://wikipedia.org/wiki/Occam_learning',\n",
              " 'http://wikipedia.org/wiki/Probably_approximately_correct_learning',\n",
              " 'http://wikipedia.org/wiki/Statistical_learning_theory',\n",
              " 'http://wikipedia.org/wiki/Conference_on_Neural_Information_Processing_Systems',\n",
              " 'http://wikipedia.org/wiki/International_Conference_on_Machine_Learning',\n",
              " 'http://wikipedia.org/wiki/Machine_Learning_(journal)',\n",
              " 'http://wikipedia.org/wiki/Journal_of_Machine_Learning_Research',\n",
              " 'http://wikipedia.org/wiki/Glossary_of_artificial_intelligence',\n",
              " 'http://wikipedia.org/wiki/List_of_datasets_for_machine-learning_research',\n",
              " 'http://wikipedia.org/wiki/Outline_of_machine_learning',\n",
              " 'http://wikipedia.org/wiki/Template:Machine_learning_bar',\n",
              " 'http://wikipedia.org/wiki/Template_talk:Machine_learning_bar',\n",
              " 'http://wikipedia.org/wiki/Inter-disciplinary',\n",
              " 'http://wikipedia.org/wiki/Knowledge',\n",
              " 'http://wikipedia.org/wiki/Unstructured_data',\n",
              " 'http://wikipedia.org/wiki/Big_data',\n",
              " 'http://wikipedia.org/wiki/Statistics',\n",
              " 'http://wikipedia.org/wiki/Data_analysis',\n",
              " 'http://wikipedia.org/wiki/Mathematics',\n",
              " 'http://wikipedia.org/wiki/Computer_science',\n",
              " 'http://wikipedia.org/wiki/Domain_knowledge',\n",
              " 'http://wikipedia.org/wiki/Turing_award',\n",
              " 'http://wikipedia.org/wiki/Jim_Gray_(computer_scientist)',\n",
              " 'http://wikipedia.org/wiki/Empirical_research',\n",
              " 'http://wikipedia.org/wiki/Basic_research',\n",
              " 'http://wikipedia.org/wiki/Computational_science',\n",
              " 'http://wikipedia.org/wiki/Information_explosion',\n",
              " 'http://wikipedia.org/w/index.php?title=Data_science&amp;action=edit&amp;section=1',\n",
              " 'http://wikipedia.org/wiki/Information_visualization',\n",
              " 'http://wikipedia.org/wiki/Complex_systems',\n",
              " 'http://wikipedia.org/wiki/Communication',\n",
              " 'http://wikipedia.org/wiki/Nathan_Yau',\n",
              " 'http://wikipedia.org/wiki/Ben_Fry',\n",
              " 'http://wikipedia.org/wiki/American_Statistical_Association',\n",
              " 'http://wikipedia.org/wiki/Database',\n",
              " 'http://wikipedia.org/wiki/Distributed_computing',\n",
              " 'http://wikipedia.org/w/index.php?title=Data_science&amp;action=edit&amp;section=2',\n",
              " 'http://wikipedia.org/wiki/Nate_Silver',\n",
              " 'http://wikipedia.org/wiki/Vasant_Dhar',\n",
              " 'http://wikipedia.org/wiki/Andrew_Gelman',\n",
              " 'http://wikipedia.org/wiki/David_Donoho',\n",
              " 'http://wikipedia.org/w/index.php?title=Data_science&amp;action=edit&amp;section=3',\n",
              " 'http://wikipedia.org/w/index.php?title=Data_science&amp;action=edit&amp;section=4',\n",
              " 'http://wikipedia.org/wiki/John_Tukey',\n",
              " 'http://wikipedia.org/wiki/Montpellier_2_University',\n",
              " 'http://wikipedia.org/wiki/Peter_Naur',\n",
              " 'http://wikipedia.org/wiki/C.F._Jeff_Wu',\n",
              " 'http://wikipedia.org/w/index.php?title=Data_science&amp;action=edit&amp;section=5',\n",
              " 'http://wikipedia.org/wiki/William_S._Cleveland',\n",
              " 'http://wikipedia.org/wiki/Committee_on_Data_for_Science_and_Technology',\n",
              " 'http://wikipedia.org/wiki/DJ_Patil',\n",
              " 'http://wikipedia.org/wiki/Jeff_Hammerbacher',\n",
              " 'http://wikipedia.org/wiki/National_Science_Board',\n",
              " 'http://wikipedia.org/w/index.php?title=Data_science&amp;action=edit&amp;section=6',\n",
              " 'http://wikipedia.org/w/index.php?title=Data_science&amp;action=edit&amp;section=7',\n",
              " 'http://wikipedia.org/wiki/Wikipedia:LSC',\n",
              " 'http://wikipedia.org/wiki/Wikipedia:Manual_of_Style/Stand-alone_lists',\n",
              " 'http://wikipedia.org/wiki/Talk:Data_science',\n",
              " 'http://wikipedia.org/w/index.php?title=Data_science&amp;action=edit&amp;section=8',\n",
              " 'http://wikipedia.org/wiki/Decision_tree',\n",
              " 'http://wikipedia.org/wiki/Support_vector_machine',\n",
              " 'http://wikipedia.org/w/index.php?title=Data_science&amp;action=edit&amp;section=9',\n",
              " 'http://wikipedia.org/wiki/Python_(programming_language)',\n",
              " 'http://wikipedia.org/wiki/R_(programming_language)',\n",
              " 'http://wikipedia.org/wiki/Julia_(programming_language)',\n",
              " 'http://wikipedia.org/w/index.php?title=Data_science&amp;action=edit&amp;section=10',\n",
              " 'http://wikipedia.org/wiki/TensorFlow',\n",
              " 'http://wikipedia.org/wiki/Pytorch',\n",
              " 'http://wikipedia.org/wiki/Jupyter_Notebook',\n",
              " 'http://wikipedia.org/wiki/Apache_Hadoop',\n",
              " 'http://wikipedia.org/w/index.php?title=Data_science&amp;action=edit&amp;section=11',\n",
              " 'http://wikipedia.org/wiki/Plotly',\n",
              " 'http://wikipedia.org/wiki/Tableau_Software',\n",
              " 'http://wikipedia.org/wiki/Microsoft_Power_BI',\n",
              " 'http://wikipedia.org/wiki/Qlik',\n",
              " 'http://wikipedia.org/wiki/AnyChart',\n",
              " 'http://wikipedia.org/wiki/Google_Charts',\n",
              " 'http://wikipedia.org/wiki/Sisense',\n",
              " 'http://wikipedia.org/wiki/Webix',\n",
              " 'http://wikipedia.org/w/index.php?title=Data_science&amp;action=edit&amp;section=12',\n",
              " 'http://wikipedia.org/wiki/RapidMiner',\n",
              " 'http://wikipedia.org/wiki/Dataiku',\n",
              " 'http://wikipedia.org/wiki/Anaconda_(Python_distribution)',\n",
              " 'http://wikipedia.org/wiki/MATLAB',\n",
              " 'http://wikipedia.org/wiki/Databricks',\n",
              " 'http://wikipedia.org/w/index.php?title=Data_science&amp;action=edit&amp;section=13',\n",
              " 'http://wikipedia.org/wiki/Doi_(identifier)',\n",
              " 'http://wikipedia.org/wiki/S2CID_(identifier)',\n",
              " 'http://wikipedia.org/wiki/Jeffrey_T._Leek',\n",
              " 'http://wikipedia.org/wiki/ISBN_(identifier)',\n",
              " 'http://wikipedia.org/wiki/Special:BookSources/9784431702085',\n",
              " 'http://wikipedia.org/wiki/Special:BookSources/978-0-9825442-0-4',\n",
              " 'http://wikipedia.org/wiki/ISSN_(identifier)',\n",
              " 'http://wikipedia.org//www.worldcat.org/issn/0036-8075',\n",
              " 'http://wikipedia.org/wiki/PMID_(identifier)',\n",
              " 'http://wikipedia.org//pubmed.ncbi.nlm.nih.gov/19265007',\n",
              " 'http://wikipedia.org/wiki/Special:BookSources/0-12-241770-4',\n",
              " 'http://wikipedia.org/wiki/OCLC_(identifier)',\n",
              " 'http://wikipedia.org//www.worldcat.org/oclc/489990740',\n",
              " 'http://wikipedia.org/wiki/Category:CS1_maint:_others',\n",
              " 'http://wikipedia.org//www.worldcat.org/issn/0017-8012',\n",
              " 'http://wikipedia.org/wiki/Template:Data',\n",
              " 'http://wikipedia.org/wiki/Template_talk:Data',\n",
              " 'http://wikipedia.org/wiki/Data_(computing)',\n",
              " 'http://wikipedia.org/wiki/Data_augmentation',\n",
              " 'http://wikipedia.org/wiki/Data_archaeology',\n",
              " 'http://wikipedia.org/wiki/Data_cleansing',\n",
              " 'http://wikipedia.org/wiki/Data_collection',\n",
              " 'http://wikipedia.org/wiki/Data_compression',\n",
              " 'http://wikipedia.org/wiki/Data_corruption',\n",
              " 'http://wikipedia.org/wiki/Data_curation',\n",
              " 'http://wikipedia.org/wiki/Data_degradation',\n",
              " 'http://wikipedia.org/wiki/Data_editing',\n",
              " 'http://wikipedia.org/wiki/Extract,_transform,_load',\n",
              " 'http://wikipedia.org/wiki/Data_farming',\n",
              " 'http://wikipedia.org/wiki/Data_format_management',\n",
              " 'http://wikipedia.org/wiki/Data_fusion',\n",
              " 'http://wikipedia.org/wiki/Data_integration',\n",
              " 'http://wikipedia.org/wiki/Data_integrity',\n",
              " 'http://wikipedia.org/wiki/Data_library',\n",
              " 'http://wikipedia.org/wiki/Data_loss',\n",
              " 'http://wikipedia.org/wiki/Data_management',\n",
              " 'http://wikipedia.org/wiki/Data_migration',\n",
              " 'http://wikipedia.org/wiki/Data_pre-processing',\n",
              " 'http://wikipedia.org/wiki/Data_preservation',\n",
              " 'http://wikipedia.org/wiki/Information_privacy',\n",
              " 'http://wikipedia.org/wiki/Data_recovery',\n",
              " 'http://wikipedia.org/wiki/Data_reduction',\n",
              " 'http://wikipedia.org/wiki/Data_retention',\n",
              " 'http://wikipedia.org/wiki/Data_quality',\n",
              " 'http://wikipedia.org/wiki/Data_scraping',\n",
              " 'http://wikipedia.org/wiki/Data_scrubbing',\n",
              " 'http://wikipedia.org/wiki/Data_security',\n",
              " 'http://wikipedia.org/wiki/Data_steward',\n",
              " 'http://wikipedia.org/wiki/Data_storage',\n",
              " 'http://wikipedia.org/wiki/Data_validation',\n",
              " 'http://wikipedia.org/wiki/Data_warehouse',\n",
              " 'http://wikipedia.org/wiki/Data_wrangling',\n",
              " 'http://wikipedia.org/wiki/Help:Category',\n",
              " 'http://wikipedia.org/wiki/Category:Information_science',\n",
              " 'http://wikipedia.org/wiki/Category:Computer_occupations',\n",
              " 'http://wikipedia.org/wiki/Category:Computational_fields_of_study',\n",
              " 'http://wikipedia.org/wiki/Category:Data_analysis',\n",
              " 'http://wikipedia.org/wiki/Category:Use_dmy_dates_from_December_2012',\n",
              " 'http://wikipedia.org/wiki/Category:Lists_having_no_precise_inclusion_criteria_from_June_2020',\n",
              " 'http://wikipedia.org/wiki/Category:All_lists_having_no_precise_inclusion_criteria',\n",
              " 'http://wikipedia.org/wiki/Special:MyTalk',\n",
              " 'http://wikipedia.org/wiki/Special:MyContributions',\n",
              " 'http://wikipedia.org/w/index.php?title=Special:CreateAccount&amp;returnto=Data+science',\n",
              " 'http://wikipedia.org/w/index.php?title=Special:UserLogin&amp;returnto=Data+science',\n",
              " 'http://wikipedia.org/wiki/Data_science',\n",
              " 'http://wikipedia.org/w/index.php?title=Data_science&amp;action=history',\n",
              " 'http://wikipedia.org/wiki/Main_Page',\n",
              " 'http://wikipedia.org/wiki/Wikipedia:Contents',\n",
              " 'http://wikipedia.org/wiki/Portal:Current_events',\n",
              " 'http://wikipedia.org/wiki/Special:Random',\n",
              " 'http://wikipedia.org/wiki/Wikipedia:About',\n",
              " 'http://wikipedia.org//en.wikipedia.org/wiki/Wikipedia:Contact_us',\n",
              " 'http://wikipedia.org/wiki/Help:Contents',\n",
              " 'http://wikipedia.org/wiki/Help:Introduction',\n",
              " 'http://wikipedia.org/wiki/Wikipedia:Community_portal',\n",
              " 'http://wikipedia.org/wiki/Special:RecentChanges',\n",
              " 'http://wikipedia.org/wiki/Wikipedia:File_Upload_Wizard',\n",
              " 'http://wikipedia.org/wiki/Special:WhatLinksHere/Data_science',\n",
              " 'http://wikipedia.org/wiki/Special:RecentChangesLinked/Data_science',\n",
              " 'http://wikipedia.org/wiki/Special:SpecialPages',\n",
              " 'http://wikipedia.org/w/index.php?title=Data_science&amp;oldid=986108274',\n",
              " 'http://wikipedia.org/w/index.php?title=Data_science&amp;action=info',\n",
              " 'http://wikipedia.org/w/index.php?title=Special:CiteThisPage&amp;page=Data_science&amp;id=986108274&amp;wpFormIdentifier=titleform',\n",
              " 'http://wikipedia.org/w/index.php?title=Special:DownloadAsPdf&amp;page=Data_science&amp;action=show-download-screen',\n",
              " 'http://wikipedia.org/w/index.php?title=Data_science&amp;printable=yes',\n",
              " 'http://wikipedia.org//en.wikipedia.org/wiki/Wikipedia:Text_of_Creative_Commons_Attribution-ShareAlike_3.0_Unported_License',\n",
              " 'http://wikipedia.org//foundation.wikimedia.org/wiki/Terms_of_Use',\n",
              " 'http://wikipedia.org//foundation.wikimedia.org/wiki/Privacy_policy',\n",
              " 'http://wikipedia.org//www.wikimediafoundation.org/',\n",
              " 'http://wikipedia.org/wiki/Wikipedia:General_disclaimer',\n",
              " 'http://wikipedia.org//en.m.wikipedia.org/w/index.php?title=Data_science&amp;mobileaction=toggle_view_mobile']"
            ]
          },
          "metadata": {
            "tags": []
          },
          "execution_count": 24
        }
      ]
    },
    {
      "cell_type": "markdown",
      "metadata": {
        "id": "c98kIPTfiEuo"
      },
      "source": [
        "## Step 4: Use the os library to create a folder called *wikipedia* and make that the current working directory."
      ]
    },
    {
      "cell_type": "code",
      "metadata": {
        "id": "_8-JuXIGiEur"
      },
      "source": [
        "import os"
      ],
      "execution_count": null,
      "outputs": []
    },
    {
      "cell_type": "code",
      "metadata": {
        "scrolled": false,
        "id": "-zOaclNSiEu3"
      },
      "source": [
        "# os.mkdir('wikipedia')"
      ],
      "execution_count": null,
      "outputs": []
    },
    {
      "cell_type": "code",
      "metadata": {
        "id": "OJ9hddSoiEvA"
      },
      "source": [
        "# Cambiar de directorio\n",
        "os.chdir(\"./wikipedia\")"
      ],
      "execution_count": null,
      "outputs": []
    },
    {
      "cell_type": "code",
      "metadata": {
        "id": "1bZwhgwIiEvS",
        "outputId": "acf07f07-ffb8-440b-f232-157a65ddb71a"
      },
      "source": [
        "os.getcwd()"
      ],
      "execution_count": null,
      "outputs": [
        {
          "output_type": "execute_result",
          "data": {
            "text/plain": [
              "'C:\\\\Users\\\\Itzel\\\\Documents\\\\datamex_102020\\\\module-1\\\\lab-parallelization\\\\your-code\\\\wikipedia'"
            ]
          },
          "metadata": {
            "tags": []
          },
          "execution_count": 11
        }
      ]
    },
    {
      "cell_type": "markdown",
      "metadata": {
        "id": "e_ZO7ESBiEvY"
      },
      "source": [
        "## Step 5: Write a function called index_page that accepts a link and does the following.\n",
        "\n",
        "- Tries to request the content of the page referenced by that link.\n",
        "- Slugifies the filename using the `slugify` function from the [python-slugify](https://pypi.org/project/python-slugify/) library and adds a .html file extension.\n",
        "    - If you don't already have the python-slugify library installed, you can pip install it as follows: `$ pip install python-slugify`.\n",
        "    - To import the slugify function, you would do the following: `from slugify import slugify`.\n",
        "    - You can then slugify a link as follows `slugify(link)`.\n",
        "- Creates a file in the wikipedia folder using the slugified filename and writes the contents of the page to the file.\n",
        "- If an exception occurs during the process above, just `pass`."
      ]
    },
    {
      "cell_type": "code",
      "metadata": {
        "id": "4iJMIlGxiEva"
      },
      "source": [
        "# conda install -c conda-forge python-slugify"
      ],
      "execution_count": null,
      "outputs": []
    },
    {
      "cell_type": "code",
      "metadata": {
        "id": "UPV_xTn0iEvo"
      },
      "source": [
        "from slugify import slugify"
      ],
      "execution_count": 25,
      "outputs": []
    },
    {
      "cell_type": "code",
      "metadata": {
        "id": "-4fh4e6viEvz"
      },
      "source": [
        "def index_page(link):\n",
        "    try:\n",
        "        req = requests.get(link)\n",
        "\n",
        "        # Crear nombre del archivo\n",
        "        name_file = slugify(link)+'.html'\n",
        "\n",
        "        # extraer la sopa\n",
        "        data = BeautifulSoup(req.content, 'html.parser').text\n",
        "\n",
        "        # Crear archivo y agregar contenido\n",
        "        file = open(name_file, 'w', encoding='UTF-8')\n",
        "        file.write(data)\n",
        "        file.close()\n",
        "\n",
        "    except:\n",
        "        pass"
      ],
      "execution_count": 26,
      "outputs": []
    },
    {
      "cell_type": "markdown",
      "metadata": {
        "id": "3L7D_r9oiEwE"
      },
      "source": [
        "## Step 6: Sequentially loop through the list of links, running the index_page function each time.\n",
        "\n",
        "Remember to include `%%time` at the beginning of the cell so that it measures the time it takes for the cell to run."
      ]
    },
    {
      "cell_type": "code",
      "metadata": {
        "id": "JqjGKSSgiEwF",
        "outputId": "563feac6-76ba-4ae2-b0dd-2c6a847a5607"
      },
      "source": [
        "len(links)"
      ],
      "execution_count": null,
      "outputs": [
        {
          "output_type": "execute_result",
          "data": {
            "text/plain": [
              "321"
            ]
          },
          "metadata": {
            "tags": []
          },
          "execution_count": 15
        }
      ]
    },
    {
      "cell_type": "code",
      "metadata": {
        "id": "B-AGRQy-iEwS",
        "outputId": "e4359cf2-261c-4c18-cca5-392a9476ac5e"
      },
      "source": [
        "%%time\n",
        "for link in links:\n",
        "    index_page(link)"
      ],
      "execution_count": null,
      "outputs": [
        {
          "output_type": "stream",
          "text": [
            "Some characters could not be decoded, and were replaced with REPLACEMENT CHARACTER.\n",
            "Some characters could not be decoded, and were replaced with REPLACEMENT CHARACTER.\n",
            "Some characters could not be decoded, and were replaced with REPLACEMENT CHARACTER.\n",
            "Some characters could not be decoded, and were replaced with REPLACEMENT CHARACTER.\n"
          ],
          "name": "stderr"
        },
        {
          "output_type": "stream",
          "text": [
            "Wall time: 6min 26s\n"
          ],
          "name": "stdout"
        }
      ]
    },
    {
      "cell_type": "markdown",
      "metadata": {
        "id": "yNEXxpP4iEwa"
      },
      "source": [
        "## Step 7: Perform the page indexing in parallel and note the difference in performance.\n",
        "\n",
        "Remember to include `%%time` at the beginning of the cell so that it measures the time it takes for the cell to run."
      ]
    },
    {
      "cell_type": "code",
      "metadata": {
        "id": "3AuU_T6AiEwf"
      },
      "source": [
        "import multiprocessing"
      ],
      "execution_count": 27,
      "outputs": []
    },
    {
      "cell_type": "code",
      "metadata": {
        "id": "92pcSQ8LiEw9",
        "outputId": "b72cdd5a-30f1-4852-e8bc-efac1de05c3c",
        "colab": {
          "base_uri": "https://localhost:8080/"
        }
      },
      "source": [
        "%%time\n",
        "pool = multiprocessing.Pool()\n",
        "result = pool.map(index_page, links)\n",
        "pool.terminate()\n",
        "pool.join()"
      ],
      "execution_count": 28,
      "outputs": [
        {
          "output_type": "stream",
          "text": [
            "Some characters could not be decoded, and were replaced with REPLACEMENT CHARACTER.\n",
            "Some characters could not be decoded, and were replaced with REPLACEMENT CHARACTER.\n",
            "Some characters could not be decoded, and were replaced with REPLACEMENT CHARACTER.\n",
            "Some characters could not be decoded, and were replaced with REPLACEMENT CHARACTER.\n"
          ],
          "name": "stderr"
        },
        {
          "output_type": "stream",
          "text": [
            "CPU times: user 97.4 ms, sys: 45.2 ms, total: 143 ms\n",
            "Wall time: 1min 11s\n"
          ],
          "name": "stdout"
        }
      ]
    }
  ]
}