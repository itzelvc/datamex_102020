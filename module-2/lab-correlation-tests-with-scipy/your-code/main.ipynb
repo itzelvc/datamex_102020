{
 "cells": [
  {
   "cell_type": "markdown",
   "metadata": {},
   "source": [
    "# Before your start:\n",
    "- Read the README.md file\n",
    "- Comment as much as you can and use the resources (README.md file)\n",
    "- Happy learning!"
   ]
  },
  {
   "cell_type": "code",
   "execution_count": 28,
   "metadata": {},
   "outputs": [],
   "source": [
    "%matplotlib inline\n",
    "# import numpy and pandas\n",
    "import numpy as np \n",
    "import pandas as pd\n"
   ]
  },
  {
   "cell_type": "markdown",
   "metadata": {},
   "source": [
    "# Challenge 1 - Analysis of Variance\n",
    "\n",
    "In this part of the lesson, we will perform an analysis of variance to determine whether the factors in our model create a significant difference in the group means. We will be examining a dataset of FIFA players. We'll start by loading the data using the code in the cell below."
   ]
  },
  {
   "cell_type": "code",
   "execution_count": 29,
   "metadata": {},
   "outputs": [],
   "source": [
    "# Run this code:\n",
    "\n",
    "fifa = pd.read_csv('fifa.csv')"
   ]
  },
  {
   "cell_type": "markdown",
   "metadata": {},
   "source": [
    "Let's examine the dataset by looking at the `head`."
   ]
  },
  {
   "cell_type": "code",
   "execution_count": 30,
   "metadata": {},
   "outputs": [
    {
     "data": {
      "text/html": [
       "<div>\n",
       "<style scoped>\n",
       "    .dataframe tbody tr th:only-of-type {\n",
       "        vertical-align: middle;\n",
       "    }\n",
       "\n",
       "    .dataframe tbody tr th {\n",
       "        vertical-align: top;\n",
       "    }\n",
       "\n",
       "    .dataframe thead th {\n",
       "        text-align: right;\n",
       "    }\n",
       "</style>\n",
       "<table border=\"1\" class=\"dataframe\">\n",
       "  <thead>\n",
       "    <tr style=\"text-align: right;\">\n",
       "      <th></th>\n",
       "      <th>Name</th>\n",
       "      <th>Age</th>\n",
       "      <th>Nationality</th>\n",
       "      <th>Overall</th>\n",
       "      <th>Potential</th>\n",
       "      <th>Club</th>\n",
       "      <th>Value</th>\n",
       "      <th>Preferred Foot</th>\n",
       "      <th>Position</th>\n",
       "      <th>Weak Foot</th>\n",
       "      <th>Acceleration</th>\n",
       "      <th>SprintSpeed</th>\n",
       "      <th>Stamina</th>\n",
       "      <th>Strength</th>\n",
       "      <th>LongShots</th>\n",
       "      <th>Aggression</th>\n",
       "      <th>Interceptions</th>\n",
       "      <th>Positioning</th>\n",
       "      <th>Vision</th>\n",
       "      <th>Penalties</th>\n",
       "    </tr>\n",
       "  </thead>\n",
       "  <tbody>\n",
       "    <tr>\n",
       "      <th>0</th>\n",
       "      <td>L. Messi</td>\n",
       "      <td>31</td>\n",
       "      <td>Argentina</td>\n",
       "      <td>94</td>\n",
       "      <td>94</td>\n",
       "      <td>FC Barcelona</td>\n",
       "      <td>€110.5M</td>\n",
       "      <td>Left</td>\n",
       "      <td>RF</td>\n",
       "      <td>4.0</td>\n",
       "      <td>91.0</td>\n",
       "      <td>86.0</td>\n",
       "      <td>72.0</td>\n",
       "      <td>59.0</td>\n",
       "      <td>94.0</td>\n",
       "      <td>48.0</td>\n",
       "      <td>22.0</td>\n",
       "      <td>94.0</td>\n",
       "      <td>94.0</td>\n",
       "      <td>75.0</td>\n",
       "    </tr>\n",
       "    <tr>\n",
       "      <th>1</th>\n",
       "      <td>Cristiano Ronaldo</td>\n",
       "      <td>33</td>\n",
       "      <td>Portugal</td>\n",
       "      <td>94</td>\n",
       "      <td>94</td>\n",
       "      <td>Juventus</td>\n",
       "      <td>€77M</td>\n",
       "      <td>Right</td>\n",
       "      <td>ST</td>\n",
       "      <td>4.0</td>\n",
       "      <td>89.0</td>\n",
       "      <td>91.0</td>\n",
       "      <td>88.0</td>\n",
       "      <td>79.0</td>\n",
       "      <td>93.0</td>\n",
       "      <td>63.0</td>\n",
       "      <td>29.0</td>\n",
       "      <td>95.0</td>\n",
       "      <td>82.0</td>\n",
       "      <td>85.0</td>\n",
       "    </tr>\n",
       "    <tr>\n",
       "      <th>2</th>\n",
       "      <td>Neymar Jr</td>\n",
       "      <td>26</td>\n",
       "      <td>Brazil</td>\n",
       "      <td>92</td>\n",
       "      <td>93</td>\n",
       "      <td>Paris Saint-Germain</td>\n",
       "      <td>€118.5M</td>\n",
       "      <td>Right</td>\n",
       "      <td>LW</td>\n",
       "      <td>5.0</td>\n",
       "      <td>94.0</td>\n",
       "      <td>90.0</td>\n",
       "      <td>81.0</td>\n",
       "      <td>49.0</td>\n",
       "      <td>82.0</td>\n",
       "      <td>56.0</td>\n",
       "      <td>36.0</td>\n",
       "      <td>89.0</td>\n",
       "      <td>87.0</td>\n",
       "      <td>81.0</td>\n",
       "    </tr>\n",
       "    <tr>\n",
       "      <th>3</th>\n",
       "      <td>De Gea</td>\n",
       "      <td>27</td>\n",
       "      <td>Spain</td>\n",
       "      <td>91</td>\n",
       "      <td>93</td>\n",
       "      <td>Manchester United</td>\n",
       "      <td>€72M</td>\n",
       "      <td>Right</td>\n",
       "      <td>GK</td>\n",
       "      <td>3.0</td>\n",
       "      <td>57.0</td>\n",
       "      <td>58.0</td>\n",
       "      <td>43.0</td>\n",
       "      <td>64.0</td>\n",
       "      <td>12.0</td>\n",
       "      <td>38.0</td>\n",
       "      <td>30.0</td>\n",
       "      <td>12.0</td>\n",
       "      <td>68.0</td>\n",
       "      <td>40.0</td>\n",
       "    </tr>\n",
       "    <tr>\n",
       "      <th>4</th>\n",
       "      <td>K. De Bruyne</td>\n",
       "      <td>27</td>\n",
       "      <td>Belgium</td>\n",
       "      <td>91</td>\n",
       "      <td>92</td>\n",
       "      <td>Manchester City</td>\n",
       "      <td>€102M</td>\n",
       "      <td>Right</td>\n",
       "      <td>RCM</td>\n",
       "      <td>5.0</td>\n",
       "      <td>78.0</td>\n",
       "      <td>76.0</td>\n",
       "      <td>90.0</td>\n",
       "      <td>75.0</td>\n",
       "      <td>91.0</td>\n",
       "      <td>76.0</td>\n",
       "      <td>61.0</td>\n",
       "      <td>87.0</td>\n",
       "      <td>94.0</td>\n",
       "      <td>79.0</td>\n",
       "    </tr>\n",
       "  </tbody>\n",
       "</table>\n",
       "</div>"
      ],
      "text/plain": [
       "                Name  Age Nationality  Overall  Potential  \\\n",
       "0           L. Messi   31   Argentina       94         94   \n",
       "1  Cristiano Ronaldo   33    Portugal       94         94   \n",
       "2          Neymar Jr   26      Brazil       92         93   \n",
       "3             De Gea   27       Spain       91         93   \n",
       "4       K. De Bruyne   27     Belgium       91         92   \n",
       "\n",
       "                  Club    Value Preferred Foot Position  Weak Foot  \\\n",
       "0         FC Barcelona  €110.5M           Left       RF        4.0   \n",
       "1             Juventus     €77M          Right       ST        4.0   \n",
       "2  Paris Saint-Germain  €118.5M          Right       LW        5.0   \n",
       "3    Manchester United     €72M          Right       GK        3.0   \n",
       "4      Manchester City    €102M          Right      RCM        5.0   \n",
       "\n",
       "   Acceleration  SprintSpeed  Stamina  Strength  LongShots  Aggression  \\\n",
       "0          91.0         86.0     72.0      59.0       94.0        48.0   \n",
       "1          89.0         91.0     88.0      79.0       93.0        63.0   \n",
       "2          94.0         90.0     81.0      49.0       82.0        56.0   \n",
       "3          57.0         58.0     43.0      64.0       12.0        38.0   \n",
       "4          78.0         76.0     90.0      75.0       91.0        76.0   \n",
       "\n",
       "   Interceptions  Positioning  Vision  Penalties  \n",
       "0           22.0         94.0    94.0       75.0  \n",
       "1           29.0         95.0    82.0       85.0  \n",
       "2           36.0         89.0    87.0       81.0  \n",
       "3           30.0         12.0    68.0       40.0  \n",
       "4           61.0         87.0    94.0       79.0  "
      ]
     },
     "execution_count": 30,
     "metadata": {},
     "output_type": "execute_result"
    }
   ],
   "source": [
    "# Your code here:\n",
    "fifa.head()"
   ]
  },
  {
   "cell_type": "markdown",
   "metadata": {},
   "source": [
    "Player's values are expressed in millions of euros. We would like this column to be numeric. Therefore, let's create a numeric value column. Do this by stripping all non-numeric characters from each cell. Assign this new data to `ValueNumeric`. There is no need to multiply the value to be expressed in millions. "
   ]
  },
  {
   "cell_type": "code",
   "execution_count": 67,
   "metadata": {},
   "outputs": [],
   "source": [
    "# Your code here:\n",
    "\n",
    "# Función para quitar caracteres diferente a numericos del valor y expresar miles en millones\n",
    "def transform_value(x):\n",
    "    x =  x.replace('€', '')\n",
    "    if 'M'in x:\n",
    "        return float(x.replace('M', ''))\n",
    "    elif 'K' in x:\n",
    "        return 0.001*float(x.replace('K', ''))\n",
    "\n",
    "fifa['ValueNumeric'] = fifa['Value'].apply(lambda x: transform_value(x))\n"
   ]
  },
  {
   "cell_type": "markdown",
   "metadata": {},
   "source": [
    "#### We'd like to determine whether a player's preffered foot and position have an impact on their value. \n",
    "\n",
    "Using the `statsmodels` library, we are able to produce an ANOVA table without munging our data. Create an ANOVA table with value as a function of position and preferred foot. Recall that pivoting is performed by the `C` function.\n",
    "\n",
    "Hint: For columns that have a space in their name, it is best to refer to the column using the dataframe (For example: for column `A`, we will use `df['A']`)."
   ]
  },
  {
   "cell_type": "code",
   "execution_count": 75,
   "metadata": {},
   "outputs": [
    {
     "data": {
      "text/html": [
       "<div>\n",
       "<style scoped>\n",
       "    .dataframe tbody tr th:only-of-type {\n",
       "        vertical-align: middle;\n",
       "    }\n",
       "\n",
       "    .dataframe tbody tr th {\n",
       "        vertical-align: top;\n",
       "    }\n",
       "\n",
       "    .dataframe thead th {\n",
       "        text-align: right;\n",
       "    }\n",
       "</style>\n",
       "<table border=\"1\" class=\"dataframe\">\n",
       "  <thead>\n",
       "    <tr style=\"text-align: right;\">\n",
       "      <th></th>\n",
       "      <th>sum_sq</th>\n",
       "      <th>df</th>\n",
       "      <th>F</th>\n",
       "      <th>PR(&gt;F)</th>\n",
       "    </tr>\n",
       "  </thead>\n",
       "  <tbody>\n",
       "    <tr>\n",
       "      <th>C(fifa['Preferred Foot'])</th>\n",
       "      <td>231.646105</td>\n",
       "      <td>1.0</td>\n",
       "      <td>7.570476</td>\n",
       "      <td>5.939195e-03</td>\n",
       "    </tr>\n",
       "    <tr>\n",
       "      <th>C(Position)</th>\n",
       "      <td>16596.095506</td>\n",
       "      <td>26.0</td>\n",
       "      <td>20.860790</td>\n",
       "      <td>2.309558e-96</td>\n",
       "    </tr>\n",
       "    <tr>\n",
       "      <th>C(fifa['Preferred Foot']):C(Position)</th>\n",
       "      <td>5182.139505</td>\n",
       "      <td>26.0</td>\n",
       "      <td>6.513793</td>\n",
       "      <td>7.422724e-23</td>\n",
       "    </tr>\n",
       "    <tr>\n",
       "      <th>Residual</th>\n",
       "      <td>546277.142441</td>\n",
       "      <td>17853.0</td>\n",
       "      <td>NaN</td>\n",
       "      <td>NaN</td>\n",
       "    </tr>\n",
       "  </tbody>\n",
       "</table>\n",
       "</div>"
      ],
      "text/plain": [
       "                                              sum_sq       df          F  \\\n",
       "C(fifa['Preferred Foot'])                 231.646105      1.0   7.570476   \n",
       "C(Position)                             16596.095506     26.0  20.860790   \n",
       "C(fifa['Preferred Foot']):C(Position)    5182.139505     26.0   6.513793   \n",
       "Residual                               546277.142441  17853.0        NaN   \n",
       "\n",
       "                                             PR(>F)  \n",
       "C(fifa['Preferred Foot'])              5.939195e-03  \n",
       "C(Position)                            2.309558e-96  \n",
       "C(fifa['Preferred Foot']):C(Position)  7.422724e-23  \n",
       "Residual                                        NaN  "
      ]
     },
     "execution_count": 75,
     "metadata": {},
     "output_type": "execute_result"
    }
   ],
   "source": [
    "# Your code here:\n",
    "import statsmodels.api as sm\n",
    "from statsmodels.formula.api import ols\n",
    "\n",
    "model = ols(\"ValueNumeric ~ C(fifa['Preferred Foot']) * C(Position)\",fifa).fit()\n",
    "anova = sm.stats.anova_lm(model, typ = 2)\n",
    "anova"
   ]
  },
  {
   "cell_type": "markdown",
   "metadata": {},
   "source": [
    "What is your conclusion from this ANOVA?"
   ]
  },
  {
   "cell_type": "code",
   "execution_count": 6,
   "metadata": {},
   "outputs": [],
   "source": [
    "# Your conclusions here:\n",
    "\"\"\"Ambas variables tanto como su interacción son estadisticamente significativas sobre la variable value\"\"\"\n"
   ]
  },
  {
   "cell_type": "markdown",
   "metadata": {},
   "source": [
    "After looking at a model of both preffered foot and position, we decide to create an ANOVA table for nationality. Create an ANOVA table for numeric value as a function of nationality."
   ]
  },
  {
   "cell_type": "code",
   "execution_count": 76,
   "metadata": {},
   "outputs": [
    {
     "data": {
      "text/html": [
       "<div>\n",
       "<style scoped>\n",
       "    .dataframe tbody tr th:only-of-type {\n",
       "        vertical-align: middle;\n",
       "    }\n",
       "\n",
       "    .dataframe tbody tr th {\n",
       "        vertical-align: top;\n",
       "    }\n",
       "\n",
       "    .dataframe thead th {\n",
       "        text-align: right;\n",
       "    }\n",
       "</style>\n",
       "<table border=\"1\" class=\"dataframe\">\n",
       "  <thead>\n",
       "    <tr style=\"text-align: right;\">\n",
       "      <th></th>\n",
       "      <th>sum_sq</th>\n",
       "      <th>df</th>\n",
       "      <th>F</th>\n",
       "      <th>PR(&gt;F)</th>\n",
       "    </tr>\n",
       "  </thead>\n",
       "  <tbody>\n",
       "    <tr>\n",
       "      <th>C(Nationality)</th>\n",
       "      <td>32816.950752</td>\n",
       "      <td>162.0</td>\n",
       "      <td>6.713684</td>\n",
       "      <td>8.383689e-132</td>\n",
       "    </tr>\n",
       "    <tr>\n",
       "      <th>Residual</th>\n",
       "      <td>535394.461682</td>\n",
       "      <td>17744.0</td>\n",
       "      <td>NaN</td>\n",
       "      <td>NaN</td>\n",
       "    </tr>\n",
       "  </tbody>\n",
       "</table>\n",
       "</div>"
      ],
      "text/plain": [
       "                       sum_sq       df         F         PR(>F)\n",
       "C(Nationality)   32816.950752    162.0  6.713684  8.383689e-132\n",
       "Residual        535394.461682  17744.0       NaN            NaN"
      ]
     },
     "execution_count": 76,
     "metadata": {},
     "output_type": "execute_result"
    }
   ],
   "source": [
    "# Your code here:\n",
    "model = ols(\"ValueNumeric ~ C(Nationality)\",fifa).fit()\n",
    "anova = sm.stats.anova_lm(model, typ = 2)\n",
    "anova\n"
   ]
  },
  {
   "cell_type": "markdown",
   "metadata": {},
   "source": [
    "What is your conclusion from this ANOVA?"
   ]
  },
  {
   "cell_type": "code",
   "execution_count": null,
   "metadata": {},
   "outputs": [],
   "source": [
    "\"\"\"La variable de Nacionalidad es estadisticamente significativa para la variable value\"\"\""
   ]
  },
  {
   "cell_type": "markdown",
   "metadata": {},
   "source": [
    "# Challenge 2 - Linear Regression\n",
    "\n",
    "Our goal with using linear regression is to create a mathematical model that will enable us to predict the outcome of one variable using one or more additional independent variables.\n",
    "\n",
    "We'll start by ensuring there are no missing values. Examine all variables for all missing values. If there are missing values in a row, remove the entire row."
   ]
  },
  {
   "cell_type": "code",
   "execution_count": 70,
   "metadata": {},
   "outputs": [
    {
     "data": {
      "text/plain": [
       "Name              0.0\n",
       "Age               0.0\n",
       "Nationality       0.0\n",
       "Overall           0.0\n",
       "Potential         0.0\n",
       "Club              0.0\n",
       "Value             0.0\n",
       "Preferred Foot    0.0\n",
       "Position          0.0\n",
       "Weak Foot         0.0\n",
       "Acceleration      0.0\n",
       "SprintSpeed       0.0\n",
       "Stamina           0.0\n",
       "Strength          0.0\n",
       "LongShots         0.0\n",
       "Aggression        0.0\n",
       "Interceptions     0.0\n",
       "Positioning       0.0\n",
       "Vision            0.0\n",
       "Penalties         0.0\n",
       "ValueNumeric      0.0\n",
       "dtype: float64"
      ]
     },
     "execution_count": 70,
     "metadata": {},
     "output_type": "execute_result"
    }
   ],
   "source": [
    "# Your code here:\n",
    "fifa.isna().sum()/fifa.shape[0]*100"
   ]
  },
  {
   "cell_type": "code",
   "execution_count": 61,
   "metadata": {},
   "outputs": [],
   "source": [
    "# Observamos del codigo anterior que exist un porcentahe pequeño de valores nulos\n",
    "fifa.dropna(inplace=True)"
   ]
  },
  {
   "cell_type": "markdown",
   "metadata": {},
   "source": [
    "Using the FIFA dataset, in the cell below, create a linear model predicting value using stamina and sprint speed. create the model using `statsmodels`. Print the model summary.\n",
    "\n",
    "Hint: remember to add an intercept to the model using the `add_constant` function."
   ]
  },
  {
   "cell_type": "code",
   "execution_count": 62,
   "metadata": {},
   "outputs": [
    {
     "data": {
      "text/plain": [
       "const         -3.072232\n",
       "Stamina        0.060389\n",
       "SprintSpeed    0.026326\n",
       "dtype: float64"
      ]
     },
     "execution_count": 62,
     "metadata": {},
     "output_type": "execute_result"
    }
   ],
   "source": [
    "# Your code here:\n",
    "import statsmodels.api as sm\n",
    "\n",
    "# Variable dependiente\n",
    "Y = fifa['ValueNumeric']\n",
    "\n",
    "# Variables explicativas\n",
    "X = fifa[['Stamina', 'SprintSpeed']]\n",
    "\n",
    "# Agregar una constante al modelo\n",
    "X = sm.add_constant(X)\n",
    "\n",
    "model = sm.OLS(Y,X)\n",
    "\n",
    "#Entrenear el modelo\n",
    "results = model.fit()\n",
    "\n",
    "# Parametros de salida\n",
    "results.params"
   ]
  },
  {
   "cell_type": "code",
   "execution_count": 63,
   "metadata": {},
   "outputs": [
    {
     "data": {
      "text/html": [
       "<table class=\"simpletable\">\n",
       "<caption>OLS Regression Results</caption>\n",
       "<tr>\n",
       "  <th>Dep. Variable:</th>      <td>ValueNumeric</td>   <th>  R-squared:         </th> <td>   0.048</td> \n",
       "</tr>\n",
       "<tr>\n",
       "  <th>Model:</th>                   <td>OLS</td>       <th>  Adj. R-squared:    </th> <td>   0.048</td> \n",
       "</tr>\n",
       "<tr>\n",
       "  <th>Method:</th>             <td>Least Squares</td>  <th>  F-statistic:       </th> <td>   452.2</td> \n",
       "</tr>\n",
       "<tr>\n",
       "  <th>Date:</th>             <td>Wed, 11 Nov 2020</td> <th>  Prob (F-statistic):</th> <td>2.64e-192</td>\n",
       "</tr>\n",
       "<tr>\n",
       "  <th>Time:</th>                 <td>17:33:39</td>     <th>  Log-Likelihood:    </th> <td> -55923.</td> \n",
       "</tr>\n",
       "<tr>\n",
       "  <th>No. Observations:</th>      <td> 17907</td>      <th>  AIC:               </th> <td>1.119e+05</td>\n",
       "</tr>\n",
       "<tr>\n",
       "  <th>Df Residuals:</th>          <td> 17904</td>      <th>  BIC:               </th> <td>1.119e+05</td>\n",
       "</tr>\n",
       "<tr>\n",
       "  <th>Df Model:</th>              <td>     2</td>      <th>                     </th>     <td> </td>    \n",
       "</tr>\n",
       "<tr>\n",
       "  <th>Covariance Type:</th>      <td>nonrobust</td>    <th>                     </th>     <td> </td>    \n",
       "</tr>\n",
       "</table>\n",
       "<table class=\"simpletable\">\n",
       "<tr>\n",
       "       <td></td>          <th>coef</th>     <th>std err</th>      <th>t</th>      <th>P>|t|</th>  <th>[0.025</th>    <th>0.975]</th>  \n",
       "</tr>\n",
       "<tr>\n",
       "  <th>const</th>       <td>   -3.0722</td> <td>    0.197</td> <td>  -15.576</td> <td> 0.000</td> <td>   -3.459</td> <td>   -2.686</td>\n",
       "</tr>\n",
       "<tr>\n",
       "  <th>Stamina</th>     <td>    0.0604</td> <td>    0.003</td> <td>   18.346</td> <td> 0.000</td> <td>    0.054</td> <td>    0.067</td>\n",
       "</tr>\n",
       "<tr>\n",
       "  <th>SprintSpeed</th> <td>    0.0263</td> <td>    0.004</td> <td>    7.376</td> <td> 0.000</td> <td>    0.019</td> <td>    0.033</td>\n",
       "</tr>\n",
       "</table>\n",
       "<table class=\"simpletable\">\n",
       "<tr>\n",
       "  <th>Omnibus:</th>       <td>22822.402</td> <th>  Durbin-Watson:     </th>  <td>   0.187</td>  \n",
       "</tr>\n",
       "<tr>\n",
       "  <th>Prob(Omnibus):</th>  <td> 0.000</td>   <th>  Jarque-Bera (JB):  </th> <td>4639541.011</td>\n",
       "</tr>\n",
       "<tr>\n",
       "  <th>Skew:</th>           <td> 7.039</td>   <th>  Prob(JB):          </th>  <td>    0.00</td>  \n",
       "</tr>\n",
       "<tr>\n",
       "  <th>Kurtosis:</th>       <td>80.588</td>   <th>  Cond. No.          </th>  <td>    444.</td>  \n",
       "</tr>\n",
       "</table><br/><br/>Warnings:<br/>[1] Standard Errors assume that the covariance matrix of the errors is correctly specified."
      ],
      "text/plain": [
       "<class 'statsmodels.iolib.summary.Summary'>\n",
       "\"\"\"\n",
       "                            OLS Regression Results                            \n",
       "==============================================================================\n",
       "Dep. Variable:           ValueNumeric   R-squared:                       0.048\n",
       "Model:                            OLS   Adj. R-squared:                  0.048\n",
       "Method:                 Least Squares   F-statistic:                     452.2\n",
       "Date:                Wed, 11 Nov 2020   Prob (F-statistic):          2.64e-192\n",
       "Time:                        17:33:39   Log-Likelihood:                -55923.\n",
       "No. Observations:               17907   AIC:                         1.119e+05\n",
       "Df Residuals:                   17904   BIC:                         1.119e+05\n",
       "Df Model:                           2                                         \n",
       "Covariance Type:            nonrobust                                         \n",
       "===============================================================================\n",
       "                  coef    std err          t      P>|t|      [0.025      0.975]\n",
       "-------------------------------------------------------------------------------\n",
       "const          -3.0722      0.197    -15.576      0.000      -3.459      -2.686\n",
       "Stamina         0.0604      0.003     18.346      0.000       0.054       0.067\n",
       "SprintSpeed     0.0263      0.004      7.376      0.000       0.019       0.033\n",
       "==============================================================================\n",
       "Omnibus:                    22822.402   Durbin-Watson:                   0.187\n",
       "Prob(Omnibus):                  0.000   Jarque-Bera (JB):          4639541.011\n",
       "Skew:                           7.039   Prob(JB):                         0.00\n",
       "Kurtosis:                      80.588   Cond. No.                         444.\n",
       "==============================================================================\n",
       "\n",
       "Warnings:\n",
       "[1] Standard Errors assume that the covariance matrix of the errors is correctly specified.\n",
       "\"\"\""
      ]
     },
     "execution_count": 63,
     "metadata": {},
     "output_type": "execute_result"
    }
   ],
   "source": [
    "results.summary()"
   ]
  },
  {
   "cell_type": "markdown",
   "metadata": {},
   "source": [
    "Report your findings from the model summary. In particular, report about the model as a whole using the F-test and how much variation is predicted by the model using the r squared."
   ]
  },
  {
   "cell_type": "code",
   "execution_count": 42,
   "metadata": {},
   "outputs": [],
   "source": [
    "# Your conclusions here:\n",
    "\"\"\"Prob (F-statistic) (2.64e-192) < (0.1, 0.05, 0.01), lo que a un 90%,95% y 99% de confianza, \n",
    "las variables del modelo, en general, son significativas.\n",
    "\n",
    "Por otro lado, el r cuadrado = 0.048, lo que significa que nuestro modelo no explica lo suficiente\n",
    "a la variable dependiente \"\"\"\n",
    "\n"
   ]
  },
  {
   "cell_type": "markdown",
   "metadata": {},
   "source": [
    "Next, create a second regression model predicting value using potential. Create the model using `statsmodels` and print the model summary. Remember to add a constant term."
   ]
  },
  {
   "cell_type": "code",
   "execution_count": 64,
   "metadata": {},
   "outputs": [
    {
     "data": {
      "text/plain": [
       "const       -35.521200\n",
       "Potential     0.532294\n",
       "dtype: float64"
      ]
     },
     "execution_count": 64,
     "metadata": {},
     "output_type": "execute_result"
    }
   ],
   "source": [
    "# Your code here:\n",
    "\n",
    "# Variables explicativas\n",
    "X = fifa['Potential']\n",
    "\n",
    "# Agregar una constante al modelo\n",
    "X = sm.add_constant(X)\n",
    "\n",
    "model2 = sm.OLS(Y,X)\n",
    "\n",
    "#Entrenear el modelo\n",
    "results2 = model2.fit()\n",
    "\n",
    "# Parametros de salida\n",
    "results2.params\n"
   ]
  },
  {
   "cell_type": "code",
   "execution_count": 65,
   "metadata": {},
   "outputs": [
    {
     "data": {
      "text/html": [
       "<table class=\"simpletable\">\n",
       "<caption>OLS Regression Results</caption>\n",
       "<tr>\n",
       "  <th>Dep. Variable:</th>      <td>ValueNumeric</td>   <th>  R-squared:         </th> <td>   0.336</td> \n",
       "</tr>\n",
       "<tr>\n",
       "  <th>Model:</th>                   <td>OLS</td>       <th>  Adj. R-squared:    </th> <td>   0.336</td> \n",
       "</tr>\n",
       "<tr>\n",
       "  <th>Method:</th>             <td>Least Squares</td>  <th>  F-statistic:       </th> <td>   9073.</td> \n",
       "</tr>\n",
       "<tr>\n",
       "  <th>Date:</th>             <td>Wed, 11 Nov 2020</td> <th>  Prob (F-statistic):</th>  <td>  0.00</td>  \n",
       "</tr>\n",
       "<tr>\n",
       "  <th>Time:</th>                 <td>17:34:49</td>     <th>  Log-Likelihood:    </th> <td> -52693.</td> \n",
       "</tr>\n",
       "<tr>\n",
       "  <th>No. Observations:</th>      <td> 17907</td>      <th>  AIC:               </th> <td>1.054e+05</td>\n",
       "</tr>\n",
       "<tr>\n",
       "  <th>Df Residuals:</th>          <td> 17905</td>      <th>  BIC:               </th> <td>1.054e+05</td>\n",
       "</tr>\n",
       "<tr>\n",
       "  <th>Df Model:</th>              <td>     1</td>      <th>                     </th>     <td> </td>    \n",
       "</tr>\n",
       "<tr>\n",
       "  <th>Covariance Type:</th>      <td>nonrobust</td>    <th>                     </th>     <td> </td>    \n",
       "</tr>\n",
       "</table>\n",
       "<table class=\"simpletable\">\n",
       "<tr>\n",
       "      <td></td>         <th>coef</th>     <th>std err</th>      <th>t</th>      <th>P>|t|</th>  <th>[0.025</th>    <th>0.975]</th>  \n",
       "</tr>\n",
       "<tr>\n",
       "  <th>const</th>     <td>  -35.5212</td> <td>    0.400</td> <td>  -88.778</td> <td> 0.000</td> <td>  -36.305</td> <td>  -34.737</td>\n",
       "</tr>\n",
       "<tr>\n",
       "  <th>Potential</th> <td>    0.5323</td> <td>    0.006</td> <td>   95.252</td> <td> 0.000</td> <td>    0.521</td> <td>    0.543</td>\n",
       "</tr>\n",
       "</table>\n",
       "<table class=\"simpletable\">\n",
       "<tr>\n",
       "  <th>Omnibus:</th>       <td>23011.631</td> <th>  Durbin-Watson:     </th>  <td>   0.551</td>  \n",
       "</tr>\n",
       "<tr>\n",
       "  <th>Prob(Omnibus):</th>  <td> 0.000</td>   <th>  Jarque-Bera (JB):  </th> <td>6334620.314</td>\n",
       "</tr>\n",
       "<tr>\n",
       "  <th>Skew:</th>           <td> 7.010</td>   <th>  Prob(JB):          </th>  <td>    0.00</td>  \n",
       "</tr>\n",
       "<tr>\n",
       "  <th>Kurtosis:</th>       <td>94.068</td>   <th>  Cond. No.          </th>  <td>    835.</td>  \n",
       "</tr>\n",
       "</table><br/><br/>Warnings:<br/>[1] Standard Errors assume that the covariance matrix of the errors is correctly specified."
      ],
      "text/plain": [
       "<class 'statsmodels.iolib.summary.Summary'>\n",
       "\"\"\"\n",
       "                            OLS Regression Results                            \n",
       "==============================================================================\n",
       "Dep. Variable:           ValueNumeric   R-squared:                       0.336\n",
       "Model:                            OLS   Adj. R-squared:                  0.336\n",
       "Method:                 Least Squares   F-statistic:                     9073.\n",
       "Date:                Wed, 11 Nov 2020   Prob (F-statistic):               0.00\n",
       "Time:                        17:34:49   Log-Likelihood:                -52693.\n",
       "No. Observations:               17907   AIC:                         1.054e+05\n",
       "Df Residuals:                   17905   BIC:                         1.054e+05\n",
       "Df Model:                           1                                         \n",
       "Covariance Type:            nonrobust                                         \n",
       "==============================================================================\n",
       "                 coef    std err          t      P>|t|      [0.025      0.975]\n",
       "------------------------------------------------------------------------------\n",
       "const        -35.5212      0.400    -88.778      0.000     -36.305     -34.737\n",
       "Potential      0.5323      0.006     95.252      0.000       0.521       0.543\n",
       "==============================================================================\n",
       "Omnibus:                    23011.631   Durbin-Watson:                   0.551\n",
       "Prob(Omnibus):                  0.000   Jarque-Bera (JB):          6334620.314\n",
       "Skew:                           7.010   Prob(JB):                         0.00\n",
       "Kurtosis:                      94.068   Cond. No.                         835.\n",
       "==============================================================================\n",
       "\n",
       "Warnings:\n",
       "[1] Standard Errors assume that the covariance matrix of the errors is correctly specified.\n",
       "\"\"\""
      ]
     },
     "execution_count": 65,
     "metadata": {},
     "output_type": "execute_result"
    }
   ],
   "source": [
    "results2.summary()"
   ]
  },
  {
   "cell_type": "markdown",
   "metadata": {},
   "source": [
    "Report your findings from the model summary. In particular, report about the model as a whole using the F-test and how much variation is predicted by the model using the r squared."
   ]
  },
  {
   "cell_type": "code",
   "execution_count": 13,
   "metadata": {},
   "outputs": [],
   "source": [
    "# Your conclusions here:\n",
    "\"\"\"Prob (F-statistic) (0.00) < (0.1, 0.05, 0.01), lo que a un 90%,95% y 99% de confianza, \n",
    "las variables del modelo, en general, son significativas.\n",
    "Por otro lado, el r cuadrado = 0.336, lo que significa que nuestro modelo no explica lo suficiente\n",
    "a la variable dependiente sin embargo es mayor que el primer modelo\"\"\"\n"
   ]
  },
  {
   "cell_type": "markdown",
   "metadata": {},
   "source": [
    "Plot a scatter plot of value vs. potential. Do you see a linear relationship?"
   ]
  },
  {
   "cell_type": "code",
   "execution_count": 66,
   "metadata": {},
   "outputs": [
    {
     "data": {
      "image/png": "[encoded data removed]",
      "text/plain": [
       "<Figure size 432x288 with 1 Axes>"
      ]
     },
     "metadata": {
      "needs_background": "light"
     },
     "output_type": "display_data"
    }
   ],
   "source": [
    "# Your code here:\n",
    "import matplotlib.pyplot as plt\n",
    "\n",
    "plt.scatter('ValueNumeric', 'Potential', data = fifa)\n",
    "plt.xlabel('ValueNumeric')\n",
    "plt.ylabel('Potential');"
   ]
  },
  {
   "cell_type": "code",
   "execution_count": null,
   "metadata": {},
   "outputs": [],
   "source": [
    "\"\"\"Se observa que para valores muy pequeños de ValueNumeric hay una aglomeración sin embargo después se observa una ligera\n",
    "tendencia lineal\"\"\""
   ]
  }
 ],
 "metadata": {
  "kernelspec": {
   "display_name": "Python 3",
   "language": "python",
   "name": "python3"
  },
  "language_info": {
   "codemirror_mode": {
    "name": "ipython",
    "version": 3
   },
   "file_extension": ".py",
   "mimetype": "text/x-python",
   "name": "python",
   "nbconvert_exporter": "python",
   "pygments_lexer": "ipython3",
   "version": "3.8.3"
  }
 },
 "nbformat": 4,
 "nbformat_minor": 2
}
