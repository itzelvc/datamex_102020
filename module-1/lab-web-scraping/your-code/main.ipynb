{
 "cells": [
  {
   "cell_type": "markdown",
   "metadata": {},
   "source": [
    "# Web Scraping Lab\n",
    "\n",
    "You will find in this notebook some scrapy exercises to practise your scraping skills.\n",
    "\n",
    "**Tips:**\n",
    "\n",
    "- Check the response status code for each request to ensure you have obtained the intended contennt.\n",
    "- Print the response text in each request to understand the kind of info you are getting and its format.\n",
    "- Check for patterns in the response text to extract the data/info requested in each question.\n",
    "- Visit each url and take a look at its source through Chrome DevTools. You'll need to identify the html tags, special class names etc. used for the html content you are expected to extract."
   ]
  },
  {
   "cell_type": "markdown",
   "metadata": {},
   "source": [
    "- [Requests library](http://docs.python-requests.org/en/master/#the-user-guide) documentation \n",
    "- [Beautiful Soup Doc](https://www.crummy.com/software/BeautifulSoup/bs4/doc/)\n",
    "- [Urllib](https://docs.python.org/3/library/urllib.html#module-urllib)\n",
    "- [re lib](https://docs.python.org/3/library/re.html)\n",
    "- [lxml lib](https://lxml.de/)\n",
    "- [Scrapy](https://scrapy.org/)\n",
    "- [List of HTTP status codes](https://en.wikipedia.org/wiki/List_of_HTTP_status_codes)\n",
    "- [HTML basics](http://www.simplehtmlguide.com/cheatsheet.php)\n",
    "- [CSS basics](https://www.cssbasics.com/#page_start)"
   ]
  },
  {
   "cell_type": "markdown",
   "metadata": {},
   "source": [
    "#### Below are the libraries and modules you may need. `requests`,  `BeautifulSoup` and `pandas` are imported for you. If you prefer to use additional libraries feel free to uncomment them."
   ]
  },
  {
   "cell_type": "code",
   "execution_count": 1,
   "metadata": {},
   "outputs": [],
   "source": [
    "import requests\n",
    "from bs4 import BeautifulSoup\n",
    "import pandas as pd\n",
    "# from pprint import pprint\n",
    "# from lxml import html\n",
    "# from lxml.html import fromstring\n",
    "# import urllib.request\n",
    "# from urllib.request import urlopen\n",
    "# import random\n",
    "import re\n",
    "# import scrapy"
   ]
  },
  {
   "cell_type": "markdown",
   "metadata": {},
   "source": [
    "#### Download, parse (using BeautifulSoup), and print the content from the Trending Developers page from GitHub:"
   ]
  },
  {
   "cell_type": "code",
   "execution_count": 2,
   "metadata": {},
   "outputs": [],
   "source": [
    "# This is the url you will scrape in this exercise\n",
    "url = 'https://github.com/trending/developers'"
   ]
  },
  {
   "cell_type": "code",
   "execution_count": 3,
   "metadata": {},
   "outputs": [
    {
     "data": {
      "text/plain": [
       "<Response [200]>"
      ]
     },
     "execution_count": 3,
     "metadata": {},
     "output_type": "execute_result"
    }
   ],
   "source": [
    "#your code\n",
    "req = requests.get(url)\n",
    "req"
   ]
  },
  {
   "cell_type": "code",
   "execution_count": 4,
   "metadata": {},
   "outputs": [],
   "source": [
    "sopa = BeautifulSoup(req.content, 'html.parser')\n",
    "# sopa"
   ]
  },
  {
   "cell_type": "markdown",
   "metadata": {},
   "source": [
    "#### Display the names of the trending developers retrieved in the previous step.\n",
    "\n",
    "Your output should be a Python list of developer names. Each name should not contain any html tag.\n",
    "\n",
    "**Instructions:**\n",
    "\n",
    "1. Find out the html tag and class names used for the developer names. You can achieve this using Chrome DevTools.\n",
    "\n",
    "1. Use BeautifulSoup to extract all the html elements that contain the developer names.\n",
    "\n",
    "1. Use string manipulation techniques to replace whitespaces and linebreaks (i.e. `\\n`) in the *text* of each html element. Use a list to store the clean names.\n",
    "\n",
    "1. Print the list of names.\n",
    "\n",
    "Your output should look like below:\n",
    "\n",
    "```\n",
    "['trimstray (@trimstray)',\n",
    " 'joewalnes (JoeWalnes)',\n",
    " 'charlax (Charles-AxelDein)',\n",
    " 'ForrestKnight (ForrestKnight)',\n",
    " 'revery-ui (revery-ui)',\n",
    " 'alibaba (Alibaba)',\n",
    " 'Microsoft (Microsoft)',\n",
    " 'github (GitHub)',\n",
    " 'facebook (Facebook)',\n",
    " 'boazsegev (Bo)',\n",
    " 'google (Google)',\n",
    " 'cloudfetch',\n",
    " 'sindresorhus (SindreSorhus)',\n",
    " 'tensorflow',\n",
    " 'apache (TheApacheSoftwareFoundation)',\n",
    " 'DevonCrawford (DevonCrawford)',\n",
    " 'ARMmbed (ArmMbed)',\n",
    " 'vuejs (vuejs)',\n",
    " 'fastai (fast.ai)',\n",
    " 'QiShaoXuan (Qi)',\n",
    " 'joelparkerhenderson (JoelParkerHenderson)',\n",
    " 'torvalds (LinusTorvalds)',\n",
    " 'CyC2018',\n",
    " 'komeiji-satori (神楽坂覚々)',\n",
    " 'script-8']\n",
    " ```"
   ]
  },
  {
   "cell_type": "code",
   "execution_count": 5,
   "metadata": {},
   "outputs": [
    {
     "name": "stdout",
     "output_type": "stream",
     "text": [
      "Total de nombres de usuarios: 25 \n",
      "\n",
      "['Henrik Rydgård', 'Samuel Colvin', 'Francois Zaninotto', 'Gal Schlezinger', 'Nico Schlömer', 'William Durand', 'Jared Palmer', 'Michiel Borkent', 'PySimpleGUI', 'Anton Medvedev', 'Jonah Williams', 'hackerman', 'Natalie Weizenbaum', 'Luís Cobucci', 'Mike Penz', 'Liam DeBeasi', 'David Khourshid', 'Greg Bergé', 'Jeffrey T. Fritz', 'Yannick Assogba', 'Prosper Otemuyiwa', 'Daniel Vaz Gaspar', 'Richard Schneeman', 'Pranav Raj S', 'Leonardo Grasso'] \n",
      "\n",
      "Total de usuarios: 25 \n",
      "\n",
      "['@hrydgard', '@samuelcolvin', '@fzaninotto', '@Schniz', '@nschloe', '@willdurand', '@jaredpalmer', '@borkdude', '@PySimpleGUI', '@antonmedv', '@jonahwilliams', '@aeneasr', '@nex3', '@lcobucci', '@mikepenz', '@liamdebeasi', '@davidkpiano', '@gregberge', '@csharpfritz', '@tafsiri', '@unicodeveloper', '@dpgaspar', '@schneems', '@pranavrajs', '@leogr'] \n",
      "\n"
     ]
    },
    {
     "data": {
      "text/plain": [
       "['Henrik Rydgård (@hrydgard)',\n",
       " 'Samuel Colvin (@samuelcolvin)',\n",
       " 'Francois Zaninotto (@fzaninotto)',\n",
       " 'Gal Schlezinger (@Schniz)',\n",
       " 'Nico Schlömer (@nschloe)',\n",
       " 'William Durand (@willdurand)',\n",
       " 'Jared Palmer (@jaredpalmer)',\n",
       " 'Michiel Borkent (@borkdude)',\n",
       " 'PySimpleGUI (@PySimpleGUI)',\n",
       " 'Anton Medvedev (@antonmedv)',\n",
       " 'Jonah Williams (@jonahwilliams)',\n",
       " 'hackerman (@aeneasr)',\n",
       " 'Natalie Weizenbaum (@nex3)',\n",
       " 'Luís Cobucci (@lcobucci)',\n",
       " 'Mike Penz (@mikepenz)',\n",
       " 'Liam DeBeasi (@liamdebeasi)',\n",
       " 'David Khourshid (@davidkpiano)',\n",
       " 'Greg Bergé (@gregberge)',\n",
       " 'Jeffrey T. Fritz (@csharpfritz)',\n",
       " 'Yannick Assogba (@tafsiri)',\n",
       " 'Prosper Otemuyiwa (@unicodeveloper)',\n",
       " 'Daniel Vaz Gaspar (@dpgaspar)',\n",
       " 'Richard Schneeman (@schneems)',\n",
       " 'Pranav Raj S (@pranavrajs)',\n",
       " 'Leonardo Grasso (@leogr)']"
      ]
     },
     "execution_count": 5,
     "metadata": {},
     "output_type": "execute_result"
    }
   ],
   "source": [
    "# Listas de usuarios\n",
    "names_users = sopa.findAll('h1',{'class':'h3 lh-condensed'})\n",
    "\n",
    "print('Total de nombres de usuarios:', len(names_users), '\\n')\n",
    "\n",
    "# Ciclo for para obtener el nombre de cada usuario\n",
    "name_users_clean=[]\n",
    "for i in range(len(names_users)):\n",
    "    name_users_clean.append(names_users[i].text.replace('\\n', '').strip())\n",
    "    \n",
    "print(name_users_clean, '\\n')\n",
    "\n",
    "users = sopa.findAll('img',{'class':'rounded-1 avatar-user'})\n",
    "\n",
    "print('Total de usuarios:', len(users), '\\n')\n",
    "\n",
    "# Ciclo for para obtener el usuario de cada desarrollador\n",
    "users_clean=[]\n",
    "for i in range(len(users)):\n",
    "    \n",
    "    x = str(sopa.findAll('img',{'class':'rounded-1 avatar-user'})[i])\n",
    "    \n",
    "    users_clean.append(re.findall(r'\"@\\w+\"', x)[0].replace('\"', ''))\n",
    "    \n",
    "print(users_clean, '\\n')\n",
    "\n",
    "# Juntamos ambas listas:\n",
    "lst_dev = []\n",
    "\n",
    "for i in range(len(users)):\n",
    "    lst_dev.append( f'{name_users_clean[i]} ({users_clean[i]})')\n",
    "\n",
    "lst_dev                   "
   ]
  },
  {
   "cell_type": "markdown",
   "metadata": {},
   "source": [
    "#### Display the trending Python repositories in GitHub\n",
    "\n",
    "The steps to solve this problem is similar to the previous one except that you need to find out the repository names instead of developer names."
   ]
  },
  {
   "cell_type": "code",
   "execution_count": 6,
   "metadata": {},
   "outputs": [],
   "source": [
    "# This is the url you will scrape in this exercise\n",
    "url = 'https://github.com/trending/python?since=daily'"
   ]
  },
  {
   "cell_type": "code",
   "execution_count": 7,
   "metadata": {},
   "outputs": [
    {
     "data": {
      "text/plain": [
       "<Response [200]>"
      ]
     },
     "execution_count": 7,
     "metadata": {},
     "output_type": "execute_result"
    }
   ],
   "source": [
    "#your code\n",
    "req = requests.get(url)\n",
    "req"
   ]
  },
  {
   "cell_type": "code",
   "execution_count": 8,
   "metadata": {},
   "outputs": [
    {
     "data": {
      "text/plain": [
       "['lrvick/youtube-dl',\n",
       " 'sherlock-project/sherlock',\n",
       " 'blackjack4494/yt-dlc',\n",
       " 'l1ving/youtube-dl',\n",
       " 'EssayKillerBrain/EssayKiller_V2',\n",
       " 'scastillo/not-youtube-dl',\n",
       " 'vinta/awesome-python',\n",
       " 'donnemartin/system-design-primer',\n",
       " 'youtube-dl2/youtube-dl',\n",
       " 'corkami/mitra',\n",
       " 'argusswift/YOLOv4-pytorch',\n",
       " 'pyca/cryptography',\n",
       " 'alexandreborges/malwoverview',\n",
       " 'man-group/dtale',\n",
       " 'alexa/bort',\n",
       " 'mbadry1/Top-Deep-Learning',\n",
       " 'twintproject/twint',\n",
       " 'openai/gym',\n",
       " 'CyberMrlink/Ddos404',\n",
       " 'pfnet/pfrl',\n",
       " 'angr/angr',\n",
       " 'awslabs/aws-data-wrangler',\n",
       " 'google-research/football',\n",
       " 'aws/serverless-application-model',\n",
       " 'nficano/pytube']"
      ]
     },
     "execution_count": 8,
     "metadata": {},
     "output_type": "execute_result"
    }
   ],
   "source": [
    "sopa_repo = BeautifulSoup(req.content, 'html.parser')\n",
    "sopa_repo_names= sopa_repo.findAll('h1',{'class':'h3 lh-condensed'})\n",
    "repos=[]\n",
    "for i in range(len(sopa_repo_names)):\n",
    "    x = sopa_repo_names[i].text\n",
    "    x = x.replace('\\n', '').strip()\n",
    "    \n",
    "    repos.append(''.join(x.split()))\n",
    "\n",
    "repos"
   ]
  },
  {
   "cell_type": "markdown",
   "metadata": {},
   "source": [
    "#### Display all the image links from Walt Disney wikipedia page"
   ]
  },
  {
   "cell_type": "code",
   "execution_count": 9,
   "metadata": {},
   "outputs": [],
   "source": [
    "# This is the url you will scrape in this exercise\n",
    "url = 'https://en.wikipedia.org/wiki/Walt_Disney'"
   ]
  },
  {
   "cell_type": "code",
   "execution_count": 10,
   "metadata": {},
   "outputs": [
    {
     "data": {
      "text/plain": [
       "<Response [200]>"
      ]
     },
     "execution_count": 10,
     "metadata": {},
     "output_type": "execute_result"
    }
   ],
   "source": [
    "req =  requests.get(url)\n",
    "req"
   ]
  },
  {
   "cell_type": "code",
   "execution_count": 11,
   "metadata": {},
   "outputs": [],
   "source": [
    "sopa = BeautifulSoup(req.content, 'html.parser')"
   ]
  },
  {
   "cell_type": "code",
   "execution_count": 12,
   "metadata": {},
   "outputs": [
    {
     "name": "stdout",
     "output_type": "stream",
     "text": [
      "https://upload.wikimedia.org/wikipedia/commons/thumb/d/df/Walt_Disney_1946.JPG/220px-Walt_Disney_1946.JPG\n",
      "https://upload.wikimedia.org/wikipedia/commons/thumb/8/87/Walt_Disney_1942_signature.svg/150px-Walt_Disney_1942_signature.svg.png\n",
      "https://upload.wikimedia.org/wikipedia/commons/thumb/c/c4/Walt_Disney_envelope_ca._1921.jpg/220px-Walt_Disney_envelope_ca._1921.jpg\n",
      "https://upload.wikimedia.org/wikipedia/commons/thumb/0/0d/Trolley_Troubles_poster.jpg/170px-Trolley_Troubles_poster.jpg\n",
      "https://upload.wikimedia.org/wikipedia/commons/thumb/7/71/Walt_Disney_and_his_cartoon_creation_%22Mickey_Mouse%22_-_National_Board_of_Review_Magazine.jpg/170px-Walt_Disney_and_his_cartoon_creation_%22Mickey_Mouse%22_-_National_Board_of_Review_Magazine.jpg\n",
      "https://upload.wikimedia.org/wikipedia/en/thumb/4/4e/Steamboat-willie.jpg/170px-Steamboat-willie.jpg\n",
      "https://upload.wikimedia.org/wikipedia/commons/thumb/5/57/Walt_Disney_1935.jpg/170px-Walt_Disney_1935.jpg\n",
      "https://upload.wikimedia.org/wikipedia/commons/thumb/c/cd/Walt_Disney_Snow_white_1937_trailer_screenshot_%2813%29.jpg/220px-Walt_Disney_Snow_white_1937_trailer_screenshot_%2813%29.jpg\n",
      "https://upload.wikimedia.org/wikipedia/commons/thumb/1/15/Disney_drawing_goofy.jpg/170px-Disney_drawing_goofy.jpg\n",
      "https://upload.wikimedia.org/wikipedia/commons/thumb/1/13/DisneySchiphol1951.jpg/220px-DisneySchiphol1951.jpg\n",
      "https://upload.wikimedia.org/wikipedia/commons/thumb/8/8c/WaltDisneyplansDisneylandDec1954.jpg/220px-WaltDisneyplansDisneylandDec1954.jpg\n",
      "https://upload.wikimedia.org/wikipedia/commons/thumb/f/ff/Walt_disney_portrait_right.jpg/170px-Walt_disney_portrait_right.jpg\n",
      "https://upload.wikimedia.org/wikipedia/commons/thumb/1/1a/Walt_Disney_Grave.JPG/170px-Walt_Disney_Grave.JPG\n",
      "https://upload.wikimedia.org/wikipedia/commons/thumb/2/2d/Roy_O._Disney_with_Company_at_Press_Conference.jpg/170px-Roy_O._Disney_with_Company_at_Press_Conference.jpg\n",
      "https://upload.wikimedia.org/wikipedia/commons/thumb/a/a9/Disney_Display_Case.JPG/170px-Disney_Display_Case.JPG\n",
      "https://upload.wikimedia.org/wikipedia/commons/thumb/6/6c/Disney1968.jpg/170px-Disney1968.jpg\n",
      "https://upload.wikimedia.org/wikipedia/commons/thumb/d/da/Animation_disc.svg/30px-Animation_disc.svg.png\n",
      "https://upload.wikimedia.org/wikipedia/en/thumb/6/69/P_vip.svg/29px-P_vip.svg.png\n",
      "https://upload.wikimedia.org/wikipedia/commons/thumb/1/1a/Magic_Kingdom_castle.jpg/24px-Magic_Kingdom_castle.jpg\n",
      "https://upload.wikimedia.org/wikipedia/en/thumb/e/e7/Video-x-generic.svg/30px-Video-x-generic.svg.png\n",
      "https://upload.wikimedia.org/wikipedia/commons/thumb/a/a3/Flag_of_Los_Angeles_County%2C_California.svg/30px-Flag_of_Los_Angeles_County%2C_California.svg.png\n",
      "https://upload.wikimedia.org/wikipedia/commons/thumb/8/8c/Blank_television_set.svg/30px-Blank_television_set.svg.png\n",
      "https://upload.wikimedia.org/wikipedia/en/thumb/a/a4/Flag_of_the_United_States.svg/30px-Flag_of_the_United_States.svg.png\n"
     ]
    }
   ],
   "source": [
    "sopa_image =sopa.findAll('a', {'class':'image'})\n",
    "\n",
    "lst_link_image=[]\n",
    "\n",
    "for i in range(len(sopa_image)):\n",
    "    \n",
    "    x= str(sopa_image[i])\n",
    "    link_image = re.findall('src=\\\".*?\\\"', x)[0].replace('src=\"//', '').replace('\"', '')\n",
    "    lst_link_image.append('https://'+ link_image)\n",
    "    \n",
    "for i in lst_link_image:\n",
    "    print(i)"
   ]
  },
  {
   "cell_type": "markdown",
   "metadata": {},
   "source": [
    "#### Retrieve an arbitary Wikipedia page of \"Python\" and create a list of links on that page"
   ]
  },
  {
   "cell_type": "code",
   "execution_count": 13,
   "metadata": {},
   "outputs": [],
   "source": [
    "# This is the url you will scrape in this exercise\n",
    "url ='https://en.wikipedia.org/wiki/Python' "
   ]
  },
  {
   "cell_type": "code",
   "execution_count": 14,
   "metadata": {},
   "outputs": [
    {
     "data": {
      "text/plain": [
       "<Response [200]>"
      ]
     },
     "execution_count": 14,
     "metadata": {},
     "output_type": "execute_result"
    }
   ],
   "source": [
    "#your code\n",
    "req = requests.get(url)\n",
    "req"
   ]
  },
  {
   "cell_type": "code",
   "execution_count": 15,
   "metadata": {},
   "outputs": [
    {
     "name": "stdout",
     "output_type": "stream",
     "text": [
      "151\n",
      "151\n",
      "\n",
      "Lista de links:\n",
      "https://en.wikipedia.org/wiki/Python#mw-head\n",
      "https://en.wikipedia.org/wiki/Python#searchInput\n",
      "https://en.wiktionary.org/wiki/Python\n",
      "https://en.wiktionary.org/wiki/python\n",
      "https://en.wikipedia.org/wiki/Pythons\n",
      "https://en.wikipedia.org/wiki/Python_(genus)\n",
      "https://en.wikipedia.org/wiki/Python#Computing\n",
      "https://en.wikipedia.org/wiki/Python#People\n",
      "https://en.wikipedia.org/wiki/Python#Roller_coasters\n",
      "https://en.wikipedia.org/wiki/Python#Vehicles\n",
      "https://en.wikipedia.org/wiki/Python#Weaponry\n",
      "https://en.wikipedia.org/wiki/Python#Other_uses\n",
      "https://en.wikipedia.org/wiki/Python#See_also\n",
      "https://en.wikipedia.org/w/index.php?title=Python&amp;action=edit&amp;section=1\n",
      "https://en.wikipedia.org/wiki/Python_(programming_language)\n",
      "https://en.wikipedia.org/wiki/CMU_Common_Lisp\n",
      "https://en.wikipedia.org/wiki/PERQ#PERQ_3\n",
      "https://en.wikipedia.org/w/index.php?title=Python&amp;action=edit&amp;section=2\n",
      "https://en.wikipedia.org/wiki/Python_of_Aenus\n",
      "https://en.wikipedia.org/wiki/Python_(painter)\n",
      "https://en.wikipedia.org/wiki/Python_of_Byzantium\n",
      "https://en.wikipedia.org/wiki/Python_of_Catana\n",
      "https://en.wikipedia.org/wiki/Python_Anghelo\n",
      "https://en.wikipedia.org/w/index.php?title=Python&amp;action=edit&amp;section=3\n",
      "https://en.wikipedia.org/wiki/Python_(Efteling)\n",
      "https://en.wikipedia.org/wiki/Python_(Busch_Gardens_Tampa_Bay)\n",
      "https://en.wikipedia.org/wiki/Python_(Coney_Island,_Cincinnati,_Ohio)\n",
      "https://en.wikipedia.org/w/index.php?title=Python&amp;action=edit&amp;section=4\n",
      "https://en.wikipedia.org/wiki/Python_(automobile_maker)\n",
      "https://en.wikipedia.org/wiki/Python_(Ford_prototype)\n",
      "https://en.wikipedia.org/w/index.php?title=Python&amp;action=edit&amp;section=5\n",
      "https://en.wikipedia.org/wiki/Python_(missile)\n",
      "https://en.wikipedia.org/wiki/Python_(nuclear_primary)\n",
      "https://en.wikipedia.org/wiki/Colt_Python\n",
      "https://en.wikipedia.org/w/index.php?title=Python&amp;action=edit&amp;section=6\n",
      "https://en.wikipedia.org/wiki/PYTHON\n",
      "https://en.wikipedia.org/wiki/Python_(film)\n",
      "https://en.wikipedia.org/wiki/Python_(mythology)\n",
      "https://en.wikipedia.org/wiki/Monty_Python\n",
      "https://en.wikipedia.org/wiki/Python_(Monty)_Pictures\n",
      "https://en.wikipedia.org/w/index.php?title=Python&amp;action=edit&amp;section=7\n",
      "https://en.wikipedia.org/wiki/Cython\n",
      "https://en.wikipedia.org/wiki/Pyton\n",
      "https://en.wikipedia.org/wiki/Pithon\n",
      "https://en.wikipedia.org/wiki/File:Disambig_gray.svg\n",
      "https://en.wikipedia.org/wiki/Help:Disambiguation\n",
      "https://en.wikipedia.org/w/index.php?title=Special:WhatLinksHere/Python&amp;namespace=0\n",
      "https://en.wikipedia.org/w/index.php?title=Python&amp;oldid=985721723\n",
      "https://en.wikipedia.org/wiki/Help:Category\n",
      "https://en.wikipedia.org/wiki/Category:Disambiguation_pages\n",
      "https://en.wikipedia.org/wiki/Category:Human_name_disambiguation_pages\n",
      "https://en.wikipedia.org/wiki/Category:Disambiguation_pages_with_given-name-holder_lists\n",
      "https://en.wikipedia.org/wiki/Category:Disambiguation_pages_with_short_descriptions\n",
      "https://en.wikipedia.org/wiki/Category:Short_description_is_different_from_Wikidata\n",
      "https://en.wikipedia.org/wiki/Category:All_article_disambiguation_pages\n",
      "https://en.wikipedia.org/wiki/Category:All_disambiguation_pages\n",
      "https://en.wikipedia.org/wiki/Category:Animal_common_name_disambiguation_pages\n",
      "https://en.wikipedia.org/wiki/Special:MyTalk\n",
      "https://en.wikipedia.org/wiki/Special:MyContributions\n",
      "https://en.wikipedia.org/w/index.php?title=Special:CreateAccount&amp;returnto=Python\n",
      "https://en.wikipedia.org/w/index.php?title=Special:UserLogin&amp;returnto=Python\n",
      "https://en.wikipedia.org/wiki/Python\n",
      "https://en.wikipedia.org/wiki/Talk:Python\n",
      "https://en.wikipedia.org/wiki/Python\n",
      "https://en.wikipedia.org/w/index.php?title=Python&amp;action=edit\n",
      "https://en.wikipedia.org/w/index.php?title=Python&amp;action=history\n",
      "https://en.wikipedia.org/wiki/Main_Page\n",
      "https://en.wikipedia.org/wiki/Main_Page\n",
      "https://en.wikipedia.org/wiki/Wikipedia:Contents\n",
      "https://en.wikipedia.org/wiki/Portal:Current_events\n",
      "https://en.wikipedia.org/wiki/Special:Random\n",
      "https://en.wikipedia.org/wiki/Wikipedia:About\n",
      "https://en.wikipedia.org//en.wikipedia.org/wiki/Wikipedia:Contact_us\n",
      "https://donate.wikimedia.org/wiki/Special:FundraiserRedirector?utm_source=donate&amp;utm_medium=sidebar&amp;utm_campaign=C13_en.wikipedia.org&amp;uselang=en\n",
      "https://en.wikipedia.org/wiki/Help:Contents\n",
      "https://en.wikipedia.org/wiki/Help:Introduction\n",
      "https://en.wikipedia.org/wiki/Wikipedia:Community_portal\n",
      "https://en.wikipedia.org/wiki/Special:RecentChanges\n",
      "https://en.wikipedia.org/wiki/Wikipedia:File_Upload_Wizard\n",
      "https://en.wikipedia.org/wiki/Special:WhatLinksHere/Python\n",
      "https://en.wikipedia.org/wiki/Special:RecentChangesLinked/Python\n",
      "https://en.wikipedia.org/wiki/Wikipedia:File_Upload_Wizard\n",
      "https://en.wikipedia.org/wiki/Special:SpecialPages\n",
      "https://en.wikipedia.org/w/index.php?title=Python&amp;oldid=985721723\n",
      "https://en.wikipedia.org/w/index.php?title=Python&amp;action=info\n",
      "https://en.wikipedia.org/w/index.php?title=Special:CiteThisPage&amp;page=Python&amp;id=985721723&amp;wpFormIdentifier=titleform\n",
      "https://www.wikidata.org/wiki/Special:EntityPage/Q747452\n",
      "https://en.wikipedia.org/w/index.php?title=Special:DownloadAsPdf&amp;page=Python&amp;action=show-download-screen\n",
      "https://en.wikipedia.org/w/index.php?title=Python&amp;printable=yes\n",
      "https://commons.wikimedia.org/wiki/Category:Python\n",
      "https://af.wikipedia.org/wiki/Python\n",
      "https://als.wikipedia.org/wiki/Python\n",
      "https://ar.wikipedia.org/wiki/%D8%A8%D8%A7%D9%8A%D8%AB%D9%88%D9%86_(%D8%AA%D9%88%D8%B6%D9%8A%D8%AD)\n",
      "https://az.wikipedia.org/wiki/Python\n",
      "https://bn.wikipedia.org/wiki/%E0%A6%AA%E0%A6%BE%E0%A6%87%E0%A6%A5%E0%A6%A8_(%E0%A6%A6%E0%A7%8D%E0%A6%AC%E0%A7%8D%E0%A6%AF%E0%A6%B0%E0%A7%8D%E0%A6%A5%E0%A6%A4%E0%A6%BE_%E0%A6%A8%E0%A6%BF%E0%A6%B0%E0%A6%B8%E0%A6%A8)\n",
      "https://be.wikipedia.org/wiki/Python\n",
      "https://bg.wikipedia.org/wiki/%D0%9F%D0%B8%D1%82%D0%BE%D0%BD_(%D0%BF%D0%BE%D1%8F%D1%81%D0%BD%D0%B5%D0%BD%D0%B8%D0%B5)\n",
      "https://cs.wikipedia.org/wiki/Python_(rozcestn%C3%ADk)\n",
      "https://da.wikipedia.org/wiki/Python\n",
      "https://de.wikipedia.org/wiki/Python\n",
      "https://eo.wikipedia.org/wiki/Pitono_(apartigilo)\n",
      "https://eu.wikipedia.org/wiki/Python_(argipena)\n",
      "https://fa.wikipedia.org/wiki/%D9%BE%D8%A7%DB%8C%D8%AA%D9%88%D9%86\n",
      "https://fr.wikipedia.org/wiki/Python\n",
      "https://ko.wikipedia.org/wiki/%ED%8C%8C%EC%9D%B4%EC%84%A0\n",
      "https://hr.wikipedia.org/wiki/Python_(razdvojba)\n",
      "https://io.wikipedia.org/wiki/Pitono\n",
      "https://id.wikipedia.org/wiki/Python\n",
      "https://ia.wikipedia.org/wiki/Python_(disambiguation)\n",
      "https://is.wikipedia.org/wiki/Python_(a%C3%B0greining)\n",
      "https://it.wikipedia.org/wiki/Python_(disambigua)\n",
      "https://he.wikipedia.org/wiki/%D7%A4%D7%99%D7%AA%D7%95%D7%9F\n",
      "https://ka.wikipedia.org/wiki/%E1%83%9E%E1%83%98%E1%83%97%E1%83%9D%E1%83%9C%E1%83%98_(%E1%83%9B%E1%83%A0%E1%83%90%E1%83%95%E1%83%90%E1%83%9A%E1%83%9B%E1%83%9C%E1%83%98%E1%83%A8%E1%83%95%E1%83%9C%E1%83%94%E1%83%9A%E1%83%9D%E1%83%95%E1%83%90%E1%83%9C%E1%83%98)\n",
      "https://kg.wikipedia.org/wiki/Mboma_(nyoka)\n",
      "https://la.wikipedia.org/wiki/Python_(discretiva)\n",
      "https://lb.wikipedia.org/wiki/Python\n",
      "https://hu.wikipedia.org/wiki/Python_(egy%C3%A9rtelm%C5%B1s%C3%ADt%C5%91_lap)\n",
      "https://mr.wikipedia.org/wiki/%E0%A4%AA%E0%A4%BE%E0%A4%AF%E0%A4%A5%E0%A5%89%E0%A4%A8_(%E0%A4%86%E0%A4%9C%E0%A5%8D%E0%A4%9E%E0%A4%BE%E0%A4%B5%E0%A4%B2%E0%A5%80_%E0%A4%AD%E0%A4%BE%E0%A4%B7%E0%A4%BE)\n",
      "https://nl.wikipedia.org/wiki/Python\n",
      "https://ja.wikipedia.org/wiki/%E3%83%91%E3%82%A4%E3%82%BD%E3%83%B3\n",
      "https://no.wikipedia.org/wiki/Pyton\n",
      "https://pl.wikipedia.org/wiki/Pyton\n",
      "https://pt.wikipedia.org/wiki/Python_(desambigua%C3%A7%C3%A3o)\n",
      "https://ru.wikipedia.org/wiki/Python_(%D0%B7%D0%BD%D0%B0%D1%87%D0%B5%D0%BD%D0%B8%D1%8F)\n",
      "https://sk.wikipedia.org/wiki/Python\n",
      "https://sr.wikipedia.org/wiki/%D0%9F%D0%B8%D1%82%D0%BE%D0%BD_(%D0%B2%D0%B8%D1%88%D0%B5%D0%B7%D0%BD%D0%B0%D1%87%D0%BD%D0%B0_%D0%BE%D0%B4%D1%80%D0%B5%D0%B4%D0%BD%D0%B8%D1%86%D0%B0)\n",
      "https://sh.wikipedia.org/wiki/Python\n",
      "https://fi.wikipedia.org/wiki/Python\n",
      "https://sv.wikipedia.org/wiki/Pyton\n",
      "https://th.wikipedia.org/wiki/%E0%B9%84%E0%B8%9E%E0%B8%97%E0%B8%AD%E0%B8%99\n",
      "https://tr.wikipedia.org/wiki/Python\n",
      "https://uk.wikipedia.org/wiki/%D0%9F%D1%96%D1%84%D0%BE%D0%BD\n",
      "https://ur.wikipedia.org/wiki/%D9%BE%D8%A7%D8%A6%DB%8C%D8%AA%DA%BE%D9%88%D9%86\n",
      "https://vi.wikipedia.org/wiki/Python\n",
      "https://zh.wikipedia.org/wiki/Python_(%E6%B6%88%E6%AD%A7%E4%B9%89)\n",
      "https://www.wikidata.org/wiki/Special:EntityPage/Q747452#sitelinks-wikipedia\n",
      "https://en.wikipedia.org//en.wikipedia.org/wiki/Wikipedia:Text_of_Creative_Commons_Attribution-ShareAlike_3.0_Unported_License\n",
      "https://en.wikipedia.org//creativecommons.org/licenses/by-sa/3.0/\n",
      "https://en.wikipedia.org//foundation.wikimedia.org/wiki/Terms_of_Use\n",
      "https://en.wikipedia.org//foundation.wikimedia.org/wiki/Privacy_policy\n",
      "https://en.wikipedia.org//www.wikimediafoundation.org/\n",
      "https://foundation.wikimedia.org/wiki/Privacy_policy\n",
      "https://en.wikipedia.org/wiki/Wikipedia:About\n",
      "https://en.wikipedia.org/wiki/Wikipedia:General_disclaimer\n",
      "https://en.wikipedia.org//en.wikipedia.org/wiki/Wikipedia:Contact_us\n",
      "https://en.wikipedia.org//en.m.wikipedia.org/w/index.php?title=Python&amp;mobileaction=toggle_view_mobile\n",
      "https://www.mediawiki.org/wiki/Special:MyLanguage/How_to_contribute\n",
      "https://stats.wikimedia.org/#/en.wikipedia.org\n",
      "https://foundation.wikimedia.org/wiki/Cookie_statement\n",
      "https://wikimediafoundation.org/\n",
      "https://www.mediawiki.org/\n"
     ]
    }
   ],
   "source": [
    "sopa = BeautifulSoup(req.content, 'html.parser')\n",
    "sopa_a = sopa.findAll('a',href=True)\n",
    "\n",
    "len(sopa_a)\n",
    "\n",
    "links = []\n",
    "for i in range(len(sopa_a)):\n",
    "    x = str(sopa_a[i])\n",
    "    strng = re.findall('href=\\\".*?\\\"', x)[0].replace('href=\"', '').replace('\"', '')\n",
    "    links.append(strng)\n",
    "\n",
    "links\n",
    "url1='https://en.wikipedia.org'\n",
    "url2=''\n",
    "\n",
    "links_clean = []\n",
    "for link in links:\n",
    "    if link.startswith('https'):\n",
    "        links_clean.append(link)\n",
    "    elif (link.startswith('/w/')) or (link.startswith('/wiki/')):\n",
    "        links_clean.append(url1 + link)\n",
    "    elif link.startswith('#'):\n",
    "        links_clean.append(url + link)\n",
    "    else:\n",
    "        links_clean.append(url1 + link)\n",
    "        \n",
    "print(len(links))\n",
    "print(len(links_clean))\n",
    "\n",
    "print('')\n",
    "print('Lista de links:')\n",
    "for i in links_clean:\n",
    "    print(i)"
   ]
  },
  {
   "cell_type": "markdown",
   "metadata": {},
   "source": [
    "#### Number of Titles that have changed in the United States Code since its last release point "
   ]
  },
  {
   "cell_type": "code",
   "execution_count": 16,
   "metadata": {},
   "outputs": [],
   "source": [
    "# This is the url you will scrape in this exercise\n",
    "url = 'http://uscode.house.gov/download/download.shtml'"
   ]
  },
  {
   "cell_type": "code",
   "execution_count": 17,
   "metadata": {},
   "outputs": [
    {
     "data": {
      "text/plain": [
       "<Response [200]>"
      ]
     },
     "execution_count": 17,
     "metadata": {},
     "output_type": "execute_result"
    }
   ],
   "source": [
    "#your code\n",
    "req =  requests.get(url)\n",
    "req"
   ]
  },
  {
   "cell_type": "code",
   "execution_count": 18,
   "metadata": {},
   "outputs": [
    {
     "data": {
      "text/plain": [
       "['Title 1 - General Provisions',\n",
       " 'Title 2 - The Congress',\n",
       " 'Title 3 - The President',\n",
       " 'Title 4 - Flag and Seal, Seat of Government, and the States',\n",
       " 'Title 5 - Government Organization and Employees',\n",
       " 'Title 6 - Domestic Security',\n",
       " 'Title 7 - Agriculture',\n",
       " 'Title 8 - Aliens and Nationality',\n",
       " 'Title 9 - Arbitration',\n",
       " 'Title 10 - Armed Forces',\n",
       " 'Title 11 - Bankruptcy',\n",
       " 'Title 12 - Banks and Banking',\n",
       " 'Title 13 - Census',\n",
       " 'Title 14 - Coast Guard',\n",
       " 'Title 15 - Commerce and Trade',\n",
       " 'Title 16 - Conservation',\n",
       " 'Title 17 - Copyrights',\n",
       " 'Title 18 - Crimes and Criminal Procedure',\n",
       " 'Title 19 - Customs Duties',\n",
       " 'Title 20 - Education',\n",
       " 'Title 21 - Food and Drugs',\n",
       " 'Title 22 - Foreign Relations and Intercourse',\n",
       " 'Title 23 - Highways',\n",
       " 'Title 24 - Hospitals and Asylums',\n",
       " 'Title 25 - Indians',\n",
       " 'Title 26 - Internal Revenue Code',\n",
       " 'Title 27 - Intoxicating Liquors',\n",
       " 'Title 28 - Judiciary and Judicial Procedure',\n",
       " 'Title 29 - Labor',\n",
       " 'Title 30 - Mineral Lands and Mining',\n",
       " 'Title 31 - Money and Finance',\n",
       " 'Title 32 - National Guard',\n",
       " 'Title 33 - Navigation and Navigable Waters',\n",
       " 'Title 34 - Crime Control and Law Enforcement',\n",
       " 'Title 35 - Patents',\n",
       " 'Title 36 - Patriotic and National Observances, Ceremonies, and Organizations',\n",
       " 'Title 37 - Pay and Allowances of the Uniformed Services',\n",
       " \"Title 38 - Veterans' Benefits\",\n",
       " 'Title 39 - Postal Service',\n",
       " 'Title 40 - Public Buildings, Property, and Works',\n",
       " 'Title 41 - Public Contracts',\n",
       " 'Title 42 - The Public Health and Welfare',\n",
       " 'Title 43 - Public Lands',\n",
       " 'Title 44 - Public Printing and Documents',\n",
       " 'Title 45 - Railroads',\n",
       " 'Title 46 - Shipping',\n",
       " 'Title 47 - Telecommunications',\n",
       " 'Title 48 - Territories and Insular Possessions',\n",
       " 'Title 49 - Transportation',\n",
       " 'Title 50 - War and National Defense',\n",
       " 'Title 51 - National and Commercial Space Programs',\n",
       " 'Title 52 - Voting and Elections',\n",
       " 'Title 53 [Reserved]',\n",
       " 'Title 54 - National Park Service and Related Programs']"
      ]
     },
     "execution_count": 18,
     "metadata": {},
     "output_type": "execute_result"
    }
   ],
   "source": [
    "sopa = BeautifulSoup(req.content, 'html.parser')\n",
    "lst_title = sopa.findAll('div', {'id':re.compile(\"us.usc.?\")})\n",
    "\n",
    "len(lst_title)\n",
    "\n",
    "lst_titlte_clean =[]\n",
    "\n",
    "for i in range(len(lst_title)):\n",
    "    x=lst_title[i].text\n",
    "    x = x.replace('٭', '').strip()\n",
    "    if x != 'Appendix':\n",
    "        lst_titlte_clean.append(x)\n",
    "\n",
    "lst_titlte_clean    "
   ]
  },
  {
   "cell_type": "markdown",
   "metadata": {},
   "source": [
    "#### A Python list with the top ten FBI's Most Wanted names "
   ]
  },
  {
   "cell_type": "code",
   "execution_count": 19,
   "metadata": {},
   "outputs": [],
   "source": [
    "# This is the url you will scrape in this exercise\n",
    "url = 'https://www.fbi.gov/wanted/topten'"
   ]
  },
  {
   "cell_type": "code",
   "execution_count": 20,
   "metadata": {},
   "outputs": [
    {
     "data": {
      "text/plain": [
       "<Response [200]>"
      ]
     },
     "execution_count": 20,
     "metadata": {},
     "output_type": "execute_result"
    }
   ],
   "source": [
    "#your code \n",
    "req =  requests.get(url)\n",
    "req"
   ]
  },
  {
   "cell_type": "code",
   "execution_count": 21,
   "metadata": {},
   "outputs": [
    {
     "name": "stdout",
     "output_type": "stream",
     "text": [
      "['ALEXIS FLORES', 'JOSE RODOLFO VILLARREAL HERNANDEZ', 'EUGENE PALMER', 'RAFAEL CARO QUINTERO', 'ROBERT WILLIAM FISHER', 'BHADRESHKUMAR CHETANBHAI PATEL', 'ALEJANDRO ROSALES CASTILLO', 'ARNOLDO JIMENEZ', 'JASON DEREK BROWN', 'YASER ABDEL SAID']\n"
     ]
    }
   ],
   "source": [
    "sopa_fbi = BeautifulSoup(req.content, 'html.parser')\n",
    "\n",
    "sopa_people = sopa_fbi.findAll('img', alt = re.compile(\"[A-Z]$\"))\n",
    "\n",
    "lst_people = []\n",
    "for i in range(len(sopa_people)):\n",
    "    x = str(sopa_people[i])\n",
    "    x = re.findall('alt=\".*?\"', x)[0].replace('alt=', '').replace('\"', '').replace('-', ' ')\n",
    "    lst_people.append(x)\n",
    "\n",
    "print(lst_people)"
   ]
  },
  {
   "cell_type": "markdown",
   "metadata": {},
   "source": [
    "####  20 latest earthquakes info (date, time, latitude, longitude and region name) by the EMSC as a pandas dataframe"
   ]
  },
  {
   "cell_type": "code",
   "execution_count": 22,
   "metadata": {},
   "outputs": [],
   "source": [
    "# This is the url you will scrape in this exercise\n",
    "url = 'https://www.emsc-csem.org/Earthquake/'"
   ]
  },
  {
   "cell_type": "code",
   "execution_count": 23,
   "metadata": {},
   "outputs": [
    {
     "data": {
      "text/plain": [
       "<Response [200]>"
      ]
     },
     "execution_count": 23,
     "metadata": {},
     "output_type": "execute_result"
    }
   ],
   "source": [
    "#your code\n",
    "req = requests.get(url)\n",
    "req"
   ]
  },
  {
   "cell_type": "code",
   "execution_count": 24,
   "metadata": {},
   "outputs": [
    {
     "data": {
      "text/html": [
       "<div>\n",
       "<style scoped>\n",
       "    .dataframe tbody tr th:only-of-type {\n",
       "        vertical-align: middle;\n",
       "    }\n",
       "\n",
       "    .dataframe tbody tr th {\n",
       "        vertical-align: top;\n",
       "    }\n",
       "\n",
       "    .dataframe thead th {\n",
       "        text-align: right;\n",
       "    }\n",
       "</style>\n",
       "<table border=\"1\" class=\"dataframe\">\n",
       "  <thead>\n",
       "    <tr style=\"text-align: right;\">\n",
       "      <th></th>\n",
       "      <th>region</th>\n",
       "      <th>date</th>\n",
       "      <th>time</th>\n",
       "      <th>latitud</th>\n",
       "      <th>longitud</th>\n",
       "    </tr>\n",
       "  </thead>\n",
       "  <tbody>\n",
       "    <tr>\n",
       "      <th>0</th>\n",
       "      <td>GREECE</td>\n",
       "      <td>2020-10-29</td>\n",
       "      <td>03:09</td>\n",
       "      <td>39.40</td>\n",
       "      <td>22.95</td>\n",
       "    </tr>\n",
       "    <tr>\n",
       "      <th>1</th>\n",
       "      <td>SWITZERLAND</td>\n",
       "      <td>2020-10-29</td>\n",
       "      <td>02:41</td>\n",
       "      <td>46.99</td>\n",
       "      <td>9.21</td>\n",
       "    </tr>\n",
       "    <tr>\n",
       "      <th>2</th>\n",
       "      <td>SOUTHERN IDAHO</td>\n",
       "      <td>2020-10-29</td>\n",
       "      <td>02:27</td>\n",
       "      <td>44.22</td>\n",
       "      <td>115.07</td>\n",
       "    </tr>\n",
       "    <tr>\n",
       "      <th>3</th>\n",
       "      <td>MOLUCCA SEA</td>\n",
       "      <td>2020-10-29</td>\n",
       "      <td>02:07</td>\n",
       "      <td>0.32</td>\n",
       "      <td>124.54</td>\n",
       "    </tr>\n",
       "    <tr>\n",
       "      <th>4</th>\n",
       "      <td>OFFSHORE BIO-BIO, CHILE</td>\n",
       "      <td>2020-10-29</td>\n",
       "      <td>02:49</td>\n",
       "      <td>38.19</td>\n",
       "      <td>74.59</td>\n",
       "    </tr>\n",
       "    <tr>\n",
       "      <th>5</th>\n",
       "      <td>PUERTO RICO REGION</td>\n",
       "      <td>2020-10-29</td>\n",
       "      <td>02:14</td>\n",
       "      <td>17.89</td>\n",
       "      <td>66.88</td>\n",
       "    </tr>\n",
       "    <tr>\n",
       "      <th>6</th>\n",
       "      <td>WESTERN TEXAS</td>\n",
       "      <td>2020-10-29</td>\n",
       "      <td>02:33</td>\n",
       "      <td>31.66</td>\n",
       "      <td>104.33</td>\n",
       "    </tr>\n",
       "    <tr>\n",
       "      <th>7</th>\n",
       "      <td>COQUIMBO, CHILE</td>\n",
       "      <td>2020-10-29</td>\n",
       "      <td>01:22</td>\n",
       "      <td>31.41</td>\n",
       "      <td>71.14</td>\n",
       "    </tr>\n",
       "    <tr>\n",
       "      <th>8</th>\n",
       "      <td>SOUTHERN ALASKA</td>\n",
       "      <td>2020-10-29</td>\n",
       "      <td>01:12</td>\n",
       "      <td>59.86</td>\n",
       "      <td>152.92</td>\n",
       "    </tr>\n",
       "    <tr>\n",
       "      <th>9</th>\n",
       "      <td>OKLAHOMA</td>\n",
       "      <td>2020-10-29</td>\n",
       "      <td>01:11</td>\n",
       "      <td>36.46</td>\n",
       "      <td>98.77</td>\n",
       "    </tr>\n",
       "    <tr>\n",
       "      <th>10</th>\n",
       "      <td>NUEVO LEON, MEXICO</td>\n",
       "      <td>2020-10-29</td>\n",
       "      <td>01:35</td>\n",
       "      <td>26.03</td>\n",
       "      <td>100.19</td>\n",
       "    </tr>\n",
       "    <tr>\n",
       "      <th>11</th>\n",
       "      <td>SOUTHERN CALIFORNIA</td>\n",
       "      <td>2020-10-29</td>\n",
       "      <td>00:40</td>\n",
       "      <td>32.83</td>\n",
       "      <td>115.94</td>\n",
       "    </tr>\n",
       "    <tr>\n",
       "      <th>12</th>\n",
       "      <td>SOUTH OF ALASKA</td>\n",
       "      <td>2020-10-29</td>\n",
       "      <td>00:54</td>\n",
       "      <td>54.33</td>\n",
       "      <td>159.56</td>\n",
       "    </tr>\n",
       "    <tr>\n",
       "      <th>13</th>\n",
       "      <td>BAJA CALIFORNIA, MEXICO</td>\n",
       "      <td>2020-10-28</td>\n",
       "      <td>23:57</td>\n",
       "      <td>32.50</td>\n",
       "      <td>115.58</td>\n",
       "    </tr>\n",
       "    <tr>\n",
       "      <th>14</th>\n",
       "      <td>SWITZERLAND</td>\n",
       "      <td>2020-10-28</td>\n",
       "      <td>23:51</td>\n",
       "      <td>46.90</td>\n",
       "      <td>9.13</td>\n",
       "    </tr>\n",
       "    <tr>\n",
       "      <th>15</th>\n",
       "      <td>CERAM SEA, INDONESIA</td>\n",
       "      <td>2020-10-28</td>\n",
       "      <td>23:50</td>\n",
       "      <td>2.87</td>\n",
       "      <td>128.11</td>\n",
       "    </tr>\n",
       "    <tr>\n",
       "      <th>16</th>\n",
       "      <td>SALTA, ARGENTINA</td>\n",
       "      <td>2020-10-28</td>\n",
       "      <td>23:58</td>\n",
       "      <td>24.17</td>\n",
       "      <td>67.29</td>\n",
       "    </tr>\n",
       "    <tr>\n",
       "      <th>17</th>\n",
       "      <td>WEST OF GIBRALTAR</td>\n",
       "      <td>2020-10-29</td>\n",
       "      <td>03:05</td>\n",
       "      <td>35.88</td>\n",
       "      <td>9.93</td>\n",
       "    </tr>\n",
       "    <tr>\n",
       "      <th>18</th>\n",
       "      <td>PUERTO RICO REGION</td>\n",
       "      <td>2020-10-28</td>\n",
       "      <td>23:53</td>\n",
       "      <td>17.87</td>\n",
       "      <td>66.87</td>\n",
       "    </tr>\n",
       "    <tr>\n",
       "      <th>19</th>\n",
       "      <td>SOUTH OF ALASKA</td>\n",
       "      <td>2020-10-28</td>\n",
       "      <td>23:41</td>\n",
       "      <td>54.57</td>\n",
       "      <td>159.55</td>\n",
       "    </tr>\n",
       "  </tbody>\n",
       "</table>\n",
       "</div>"
      ],
      "text/plain": [
       "                     region        date   time latitud longitud\n",
       "0                    GREECE  2020-10-29  03:09   39.40    22.95\n",
       "1               SWITZERLAND  2020-10-29  02:41   46.99     9.21\n",
       "2            SOUTHERN IDAHO  2020-10-29  02:27   44.22   115.07\n",
       "3               MOLUCCA SEA  2020-10-29  02:07    0.32   124.54\n",
       "4   OFFSHORE BIO-BIO, CHILE  2020-10-29  02:49   38.19    74.59\n",
       "5        PUERTO RICO REGION  2020-10-29  02:14   17.89    66.88\n",
       "6             WESTERN TEXAS  2020-10-29  02:33   31.66   104.33\n",
       "7           COQUIMBO, CHILE  2020-10-29  01:22   31.41    71.14\n",
       "8           SOUTHERN ALASKA  2020-10-29  01:12   59.86   152.92\n",
       "9                  OKLAHOMA  2020-10-29  01:11   36.46    98.77\n",
       "10       NUEVO LEON, MEXICO  2020-10-29  01:35   26.03   100.19\n",
       "11      SOUTHERN CALIFORNIA  2020-10-29  00:40   32.83   115.94\n",
       "12          SOUTH OF ALASKA  2020-10-29  00:54   54.33   159.56\n",
       "13  BAJA CALIFORNIA, MEXICO  2020-10-28  23:57   32.50   115.58\n",
       "14              SWITZERLAND  2020-10-28  23:51   46.90     9.13\n",
       "15     CERAM SEA, INDONESIA  2020-10-28  23:50    2.87   128.11\n",
       "16         SALTA, ARGENTINA  2020-10-28  23:58   24.17    67.29\n",
       "17        WEST OF GIBRALTAR  2020-10-29  03:05   35.88     9.93\n",
       "18       PUERTO RICO REGION  2020-10-28  23:53   17.87    66.87\n",
       "19          SOUTH OF ALASKA  2020-10-28  23:41   54.57   159.55"
      ]
     },
     "execution_count": 24,
     "metadata": {},
     "output_type": "execute_result"
    }
   ],
   "source": [
    "sopa = BeautifulSoup( req.content, 'html.parser')\n",
    "lst_sopa_region = sopa.findAll('td', {'class': \"tb_region\"})\n",
    "\n",
    "# Obtenemos la region\n",
    "lst_region=[]\n",
    "# print(len(lst_sopa_region))\n",
    "for i in lst_sopa_region:\n",
    "    lst_region.append(i.text.replace('\\xa0', ''))\n",
    "\n",
    "# Obtenemos date y time\n",
    "lst_sopa_date = sopa.findAll('td', {'class': \"comment updatetimeno\"})\n",
    "lst_date=[]\n",
    "lst_time=[]\n",
    "# print(len(lst_sopa_date))\n",
    "for i in lst_sopa_date:\n",
    "    lst_date.append(i.text.replace('\\xa0', '')[0:10])\n",
    "    lst_time.append(i.text.replace('\\xa0', '')[-5:])\n",
    "\n",
    "# Obtenemos latitud\n",
    "lst_sopa_latitud = sopa.findAll('td', {'class': \"tabev1\"})\n",
    "lst_ll=[]\n",
    "# print(len(lst_sopa_latitud))\n",
    "for i in lst_sopa_latitud:\n",
    "    lst_ll.append(i.text.replace('\\xa0', ''))\n",
    "\n",
    "lst_lat = [ lst_ll[i] for i in range(len(lst_ll)) if i%2 == 0]\n",
    "lst_lon = [ lst_ll[i] for i in range(len(lst_ll)) if i%2 != 0]\n",
    "\n",
    "# Pasando la informción a un df\n",
    "df=pd.DataFrame({'region': lst_region, 'date': lst_date, 'time': lst_time, 'latitud': lst_lat, 'longitud':lst_lon})\n",
    "df.head(20)"
   ]
  },
  {
   "cell_type": "markdown",
   "metadata": {},
   "source": [
    "#### Display the date, days, title, city, country of next 25 hackathon events as a Pandas dataframe table"
   ]
  },
  {
   "cell_type": "code",
   "execution_count": 25,
   "metadata": {},
   "outputs": [],
   "source": [
    "# This is the url you will scrape in this exercise\n",
    "url ='https://hackevents.co/hackathons'"
   ]
  },
  {
   "cell_type": "code",
   "execution_count": 26,
   "metadata": {},
   "outputs": [],
   "source": [
    "#your code"
   ]
  },
  {
   "cell_type": "markdown",
   "metadata": {},
   "source": [
    "#### Count number of tweets by a given Twitter account."
   ]
  },
  {
   "cell_type": "markdown",
   "metadata": {},
   "source": [
    "You will need to include a ***try/except block*** for account names not found. \n",
    "<br>***Hint:*** the program should count the number of tweets for any provided account"
   ]
  },
  {
   "cell_type": "code",
   "execution_count": 27,
   "metadata": {},
   "outputs": [],
   "source": [
    "# This is the url you will scrape in this exercise \n",
    "# You will need to add the account credentials to this url\n",
    "url = 'https://twitter.com/'"
   ]
  },
  {
   "cell_type": "code",
   "execution_count": 28,
   "metadata": {},
   "outputs": [],
   "source": [
    "#your code"
   ]
  },
  {
   "cell_type": "markdown",
   "metadata": {},
   "source": [
    "#### Number of followers of a given twitter account"
   ]
  },
  {
   "cell_type": "markdown",
   "metadata": {},
   "source": [
    "You will need to include a ***try/except block*** in case account/s name not found. \n",
    "<br>***Hint:*** the program should count the followers for any provided account"
   ]
  },
  {
   "cell_type": "code",
   "execution_count": 29,
   "metadata": {},
   "outputs": [],
   "source": [
    "# This is the url you will scrape in this exercise \n",
    "# You will need to add the account credentials to this url\n",
    "url = 'https://twitter.com/'"
   ]
  },
  {
   "cell_type": "code",
   "execution_count": 30,
   "metadata": {},
   "outputs": [],
   "source": [
    "#your code"
   ]
  },
  {
   "cell_type": "markdown",
   "metadata": {},
   "source": [
    "#### List all language names and number of related articles in the order they appear in wikipedia.org"
   ]
  },
  {
   "cell_type": "code",
   "execution_count": 31,
   "metadata": {},
   "outputs": [],
   "source": [
    "# This is the url you will scrape in this exercise\n",
    "url = 'https://www.wikipedia.org/'"
   ]
  },
  {
   "cell_type": "code",
   "execution_count": 32,
   "metadata": {},
   "outputs": [
    {
     "data": {
      "text/plain": [
       "<Response [200]>"
      ]
     },
     "execution_count": 32,
     "metadata": {},
     "output_type": "execute_result"
    }
   ],
   "source": [
    "#your code\n",
    "req = requests.get(url)\n",
    "req"
   ]
  },
  {
   "cell_type": "code",
   "execution_count": 33,
   "metadata": {},
   "outputs": [
    {
     "name": "stdout",
     "output_type": "stream",
     "text": [
      "\n",
      "English\n",
      "6 168 000+ articles\n",
      "\n",
      "\n",
      "Español\n",
      "1 630 000+ artículos\n",
      "\n",
      "\n",
      "日本語\n",
      "1 231 000+ 記事\n",
      "\n",
      "\n",
      "Deutsch\n",
      "2 486 000+ Artikel\n",
      "\n",
      "\n",
      "Русский\n",
      "1 665 000+ статей\n",
      "\n",
      "\n",
      "Français\n",
      "2 254 000+ articles\n",
      "\n",
      "\n",
      "Italiano\n",
      "1 639 000+ voci\n",
      "\n",
      "\n",
      "中文\n",
      "1 150 000+ 條目\n",
      "\n",
      "\n",
      "Português\n",
      "1 044 000+ artigos\n",
      "\n",
      "\n",
      "العربية\n",
      "1 068 000+ مقالة\n",
      "\n"
     ]
    }
   ],
   "source": [
    "sopa = BeautifulSoup(req.content, 'html.parser')\n",
    "sopa_lang = sopa.findAll('a', {'class':'link-box'})\n",
    "\n",
    "lst_lang = []\n",
    "# print(len(sopa_lang))\n",
    "for i in sopa_lang:\n",
    "    print(i.text)\n",
    "    "
   ]
  },
  {
   "cell_type": "markdown",
   "metadata": {},
   "source": [
    "#### A list with the different kind of datasets available in data.gov.uk "
   ]
  },
  {
   "cell_type": "code",
   "execution_count": 34,
   "metadata": {},
   "outputs": [],
   "source": [
    "# This is the url you will scrape in this exercise\n",
    "url = 'https://data.gov.uk/'"
   ]
  },
  {
   "cell_type": "code",
   "execution_count": 35,
   "metadata": {},
   "outputs": [
    {
     "data": {
      "text/plain": [
       "<Response [200]>"
      ]
     },
     "execution_count": 35,
     "metadata": {},
     "output_type": "execute_result"
    }
   ],
   "source": [
    "#your code \n",
    "req= requests.get(url)\n",
    "req"
   ]
  },
  {
   "cell_type": "code",
   "execution_count": 36,
   "metadata": {},
   "outputs": [
    {
     "data": {
      "text/plain": [
       "['Business and economy',\n",
       " 'Crime and justice',\n",
       " 'Defence',\n",
       " 'Education',\n",
       " 'Environment',\n",
       " 'Government',\n",
       " 'Government spending',\n",
       " 'Health',\n",
       " 'Mapping',\n",
       " 'Society',\n",
       " 'Towns and cities',\n",
       " 'Transport']"
      ]
     },
     "execution_count": 36,
     "metadata": {},
     "output_type": "execute_result"
    }
   ],
   "source": [
    "sopa = BeautifulSoup(req.content, 'html.parser')\n",
    "sopa_db = sopa.findAll('a', {'class': 'govuk-link'})\n",
    "\n",
    "lst_db=[]\n",
    "for i in sopa_db:\n",
    "    lst_db.append(i.text)\n",
    "    \n",
    "lst_db = lst_db[3:]\n",
    "lst_db"
   ]
  },
  {
   "cell_type": "markdown",
   "metadata": {},
   "source": [
    "#### Top 10 languages by number of native speakers stored in a Pandas Dataframe"
   ]
  },
  {
   "cell_type": "code",
   "execution_count": 37,
   "metadata": {},
   "outputs": [],
   "source": [
    "# This is the url you will scrape in this exercise\n",
    "url = 'https://en.wikipedia.org/wiki/List_of_languages_by_number_of_native_speakers'"
   ]
  },
  {
   "cell_type": "code",
   "execution_count": 38,
   "metadata": {},
   "outputs": [
    {
     "data": {
      "text/plain": [
       "<Response [200]>"
      ]
     },
     "execution_count": 38,
     "metadata": {},
     "output_type": "execute_result"
    }
   ],
   "source": [
    "#your code\n",
    "req = requests.get(url)\n",
    "req"
   ]
  },
  {
   "cell_type": "code",
   "execution_count": 39,
   "metadata": {},
   "outputs": [],
   "source": [
    "import numpy as np\n",
    "sopa = BeautifulSoup( req.content, 'html.parser')\n",
    "sopa_enc = sopa.findAll('tr')\n",
    "\n",
    "lst =[]\n",
    "for i in sopa_enc:\n",
    "    lst.append(i.text.split('\\n'))\n",
    "    \n",
    "lst_enc = [i for i in lst[0] if i!='' ]\n",
    "lst_enc\n",
    "\n",
    "lst_info = []\n",
    "\n",
    "for lista in lst:\n",
    "    for e in lista:\n",
    "        if e != '':\n",
    "            lst_info.append(e)\n",
    "\n"
   ]
  },
  {
   "cell_type": "code",
   "execution_count": 40,
   "metadata": {},
   "outputs": [
    {
     "data": {
      "text/html": [
       "<div>\n",
       "<style scoped>\n",
       "    .dataframe tbody tr th:only-of-type {\n",
       "        vertical-align: middle;\n",
       "    }\n",
       "\n",
       "    .dataframe tbody tr th {\n",
       "        vertical-align: top;\n",
       "    }\n",
       "\n",
       "    .dataframe thead th {\n",
       "        text-align: right;\n",
       "    }\n",
       "</style>\n",
       "<table border=\"1\" class=\"dataframe\">\n",
       "  <thead>\n",
       "    <tr style=\"text-align: right;\">\n",
       "      <th></th>\n",
       "      <th>Rank</th>\n",
       "      <th>Language</th>\n",
       "      <th>Speakers(millions)</th>\n",
       "      <th>% of World pop.(March 2019)[8]</th>\n",
       "      <th>Language family</th>\n",
       "      <th>Branch</th>\n",
       "    </tr>\n",
       "  </thead>\n",
       "  <tbody>\n",
       "    <tr>\n",
       "      <th>1</th>\n",
       "      <td>1</td>\n",
       "      <td>Mandarin Chinese</td>\n",
       "      <td>918</td>\n",
       "      <td>11.922</td>\n",
       "      <td>Sino-Tibetan</td>\n",
       "      <td>Sinitic</td>\n",
       "    </tr>\n",
       "    <tr>\n",
       "      <th>2</th>\n",
       "      <td>2</td>\n",
       "      <td>Spanish</td>\n",
       "      <td>480</td>\n",
       "      <td>5.994</td>\n",
       "      <td>Indo-European</td>\n",
       "      <td>Romance</td>\n",
       "    </tr>\n",
       "    <tr>\n",
       "      <th>3</th>\n",
       "      <td>3</td>\n",
       "      <td>English</td>\n",
       "      <td>379</td>\n",
       "      <td>4.922</td>\n",
       "      <td>Indo-European</td>\n",
       "      <td>Germanic</td>\n",
       "    </tr>\n",
       "    <tr>\n",
       "      <th>4</th>\n",
       "      <td>4</td>\n",
       "      <td>Hindi (Sanskritised Hindustani)[9]</td>\n",
       "      <td>341</td>\n",
       "      <td>4.429</td>\n",
       "      <td>Indo-European</td>\n",
       "      <td>Indo-Aryan</td>\n",
       "    </tr>\n",
       "    <tr>\n",
       "      <th>5</th>\n",
       "      <td>5</td>\n",
       "      <td>Bengali</td>\n",
       "      <td>228</td>\n",
       "      <td>2.961</td>\n",
       "      <td>Indo-European</td>\n",
       "      <td>Indo-Aryan</td>\n",
       "    </tr>\n",
       "    <tr>\n",
       "      <th>6</th>\n",
       "      <td>6</td>\n",
       "      <td>Portuguese</td>\n",
       "      <td>221</td>\n",
       "      <td>2.870</td>\n",
       "      <td>Indo-European</td>\n",
       "      <td>Romance</td>\n",
       "    </tr>\n",
       "    <tr>\n",
       "      <th>7</th>\n",
       "      <td>7</td>\n",
       "      <td>Russian</td>\n",
       "      <td>154</td>\n",
       "      <td>2.000</td>\n",
       "      <td>Indo-European</td>\n",
       "      <td>Balto-Slavic</td>\n",
       "    </tr>\n",
       "    <tr>\n",
       "      <th>8</th>\n",
       "      <td>8</td>\n",
       "      <td>Japanese</td>\n",
       "      <td>128</td>\n",
       "      <td>1.662</td>\n",
       "      <td>Japonic</td>\n",
       "      <td>Japanese</td>\n",
       "    </tr>\n",
       "    <tr>\n",
       "      <th>9</th>\n",
       "      <td>9</td>\n",
       "      <td>Western Punjabi[10]</td>\n",
       "      <td>92.7</td>\n",
       "      <td>1.204</td>\n",
       "      <td>Indo-European</td>\n",
       "      <td>Indo-Aryan</td>\n",
       "    </tr>\n",
       "    <tr>\n",
       "      <th>10</th>\n",
       "      <td>10</td>\n",
       "      <td>Marathi</td>\n",
       "      <td>83.1</td>\n",
       "      <td>1.079</td>\n",
       "      <td>Indo-European</td>\n",
       "      <td>Indo-Aryan</td>\n",
       "    </tr>\n",
       "  </tbody>\n",
       "</table>\n",
       "</div>"
      ],
      "text/plain": [
       "   Rank                            Language Speakers(millions)  \\\n",
       "1     1                    Mandarin Chinese                918   \n",
       "2     2                             Spanish                480   \n",
       "3     3                             English                379   \n",
       "4     4  Hindi (Sanskritised Hindustani)[9]                341   \n",
       "5     5                             Bengali                228   \n",
       "6     6                          Portuguese                221   \n",
       "7     7                             Russian                154   \n",
       "8     8                            Japanese                128   \n",
       "9     9                 Western Punjabi[10]               92.7   \n",
       "10   10                             Marathi               83.1   \n",
       "\n",
       "   % of World pop.(March 2019)[8] Language family        Branch  \n",
       "1                          11.922    Sino-Tibetan       Sinitic  \n",
       "2                           5.994   Indo-European       Romance  \n",
       "3                           4.922   Indo-European      Germanic  \n",
       "4                           4.429   Indo-European    Indo-Aryan  \n",
       "5                           2.961   Indo-European    Indo-Aryan  \n",
       "6                           2.870   Indo-European       Romance  \n",
       "7                           2.000   Indo-European  Balto-Slavic  \n",
       "8                           1.662         Japonic      Japanese  \n",
       "9                           1.204   Indo-European    Indo-Aryan  \n",
       "10                          1.079   Indo-European    Indo-Aryan  "
      ]
     },
     "execution_count": 40,
     "metadata": {},
     "output_type": "execute_result"
    }
   ],
   "source": [
    "array_ = np.array(lst_info[0:66])\n",
    "array_ = np.reshape(array_, (11, 6))\n",
    "\n",
    "df_lang = pd.DataFrame(data = array_, columns = lst_enc)\n",
    "\n",
    "df_lang.drop(index = 0, inplace=True)\n",
    "df_lang"
   ]
  },
  {
   "cell_type": "markdown",
   "metadata": {},
   "source": [
    "### BONUS QUESTIONS"
   ]
  },
  {
   "cell_type": "markdown",
   "metadata": {},
   "source": [
    "#### Scrape a certain number of tweets of a given Twitter account."
   ]
  },
  {
   "cell_type": "code",
   "execution_count": 41,
   "metadata": {},
   "outputs": [],
   "source": [
    "# This is the url you will scrape in this exercise \n",
    "# You will need to add the account credentials to this url\n",
    "url = 'https://twitter.com/'"
   ]
  },
  {
   "cell_type": "code",
   "execution_count": 42,
   "metadata": {},
   "outputs": [],
   "source": [
    "# your code"
   ]
  },
  {
   "cell_type": "markdown",
   "metadata": {},
   "source": [
    "#### IMDB's Top 250 data (movie name, Initial release, director name and stars) as a pandas dataframe"
   ]
  },
  {
   "cell_type": "code",
   "execution_count": 43,
   "metadata": {},
   "outputs": [],
   "source": [
    "# This is the url you will scrape in this exercise \n",
    "url = 'https://www.imdb.com/chart/top'"
   ]
  },
  {
   "cell_type": "code",
   "execution_count": 44,
   "metadata": {},
   "outputs": [],
   "source": [
    "# your code"
   ]
  },
  {
   "cell_type": "markdown",
   "metadata": {},
   "source": [
    "#### Movie name, year and a brief summary of the top 10 random movies (IMDB) as a pandas dataframe."
   ]
  },
  {
   "cell_type": "code",
   "execution_count": 45,
   "metadata": {},
   "outputs": [],
   "source": [
    "#This is the url you will scrape in this exercise\n",
    "url = 'http://www.imdb.com/chart/top'"
   ]
  },
  {
   "cell_type": "code",
   "execution_count": 46,
   "metadata": {},
   "outputs": [],
   "source": [
    "#your code"
   ]
  },
  {
   "cell_type": "markdown",
   "metadata": {},
   "source": [
    "#### Find the live weather report (temperature, wind speed, description and weather) of a given city."
   ]
  },
  {
   "cell_type": "code",
   "execution_count": null,
   "metadata": {
    "scrolled": false
   },
   "outputs": [],
   "source": [
    "#https://openweathermap.org/current\n",
    "city = city=input('Enter the city:')\n",
    "url = 'http://api.openweathermap.org/data/2.5/weather?'+'q='+city+'&APPID=b35975e18dc93725acb092f7272cc6b8&units=metric'"
   ]
  },
  {
   "cell_type": "code",
   "execution_count": null,
   "metadata": {},
   "outputs": [],
   "source": [
    "# your code"
   ]
  },
  {
   "cell_type": "markdown",
   "metadata": {},
   "source": [
    "#### Book name,price and stock availability as a pandas dataframe."
   ]
  },
  {
   "cell_type": "code",
   "execution_count": null,
   "metadata": {},
   "outputs": [],
   "source": [
    "# This is the url you will scrape in this exercise. \n",
    "# It is a fictional bookstore created to be scraped. \n",
    "url = 'http://books.toscrape.com/'"
   ]
  },
  {
   "cell_type": "code",
   "execution_count": null,
   "metadata": {},
   "outputs": [],
   "source": [
    "#your code"
   ]
  }
 ],
 "metadata": {
  "kernelspec": {
   "display_name": "Python 3",
   "language": "python",
   "name": "python3"
  },
  "language_info": {
   "codemirror_mode": {
    "name": "ipython",
    "version": 3
   },
   "file_extension": ".py",
   "mimetype": "text/x-python",
   "name": "python",
   "nbconvert_exporter": "python",
   "pygments_lexer": "ipython3",
   "version": "3.8.3"
  }
 },
 "nbformat": 4,
 "nbformat_minor": 2
}
