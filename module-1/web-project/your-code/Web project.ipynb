{
 "cells": [
  {
   "cell_type": "markdown",
   "metadata": {},
   "source": [
    "# Base de datos de Programas de tv"
   ]
  },
  {
   "cell_type": "markdown",
   "metadata": {},
   "source": [
    "Este script genera una base datos con las siguientes columnas:\n",
    "    \n",
    "- **title:** título del programa de televisión\n",
    "- **network:** cadena de televisión.\n",
    "- **country:** país de la productora del programa de televisión.\n",
    "- **classification:** clasificación del programa con base en la edad.\n",
    "- **start_date:** fecha de transmisión del primer capitulo.\n",
    "- **seasons:** número de temporadas.\n",
    "- **status:** estatus del programa (en desarrollo, en transmisión, terminado)\n",
    "- **rating:** rating del show según IMDb \n",
    "- **votes:** número de votos\n",
    "- **cast:** actores del programa de televisión\n",
    "- **description:** breve descripción de la trama del programa\n",
    "- **+15 columnas dummies:** 'TV Comedies', 'Crime TV Shows', 'TV Dramas', 'Docuseries', 'Teen TV Shows', 'TV Horror', \"Kids' TV\", etc.\n",
    "\n",
    "\n",
    "A partir de la extracción de 3 fuentes de información:\n",
    "\n",
    "1. **Archivo csv:** https://www.kaggle.com/shivamb/netflix-shows?select=netflix_titles.csv\n",
    "2. **API:** https://www.episodate.com/api\n",
    "3. **Web scraping:** https://www.imdb.com/search/title/?title_type=tv_series"
   ]
  },
  {
   "cell_type": "markdown",
   "metadata": {},
   "source": [
    "## Librerías"
   ]
  },
  {
   "cell_type": "code",
   "execution_count": 1,
   "metadata": {},
   "outputs": [],
   "source": [
    "import pandas as pd\n",
    "import requests\n",
    "import re\n",
    "from bs4 import BeautifulSoup\n",
    "import urllib"
   ]
  },
  {
   "cell_type": "markdown",
   "metadata": {},
   "source": [
    "## DATA CSV"
   ]
  },
  {
   "cell_type": "markdown",
   "metadata": {},
   "source": [
    "### Descripción \n",
    "El archivo netflix_titles.csv se encuentra en: https://www.kaggle.com/shivamb/netflix-shows?select=netflix_titles.csv este archivo contiene 6,234 registros de programas de televisión y películas con 12 columnas:\n",
    "\n",
    "##### Descripción de las columnas\n",
    "    \n",
    "01. **show_id:** Id único para cada película / serie de televisión\n",
    "02. **type:** película /  serie de televisión\n",
    "03. **title:** título de la película\n",
    "04. **director:** director de la película\n",
    "05. **cast:** actores de la película / serie de televisión\n",
    "06. **country:** país donde la película / serie de televisión fue producida.\n",
    "07. **date_added:** fecha en la que fue agregada a Netflix.\n",
    "08. **release_year:** año de lanzamiento.\n",
    "09. **rating:** clasificación por edad.\n",
    "10. **duration:** duración de la película o número de temporadas\n",
    "11. **listed_in:** género.\n",
    "12. **description:** breve descripción"
   ]
  },
  {
   "cell_type": "markdown",
   "metadata": {},
   "source": [
    "### Código lectura"
   ]
  },
  {
   "cell_type": "code",
   "execution_count": 2,
   "metadata": {},
   "outputs": [],
   "source": [
    "# Lectura del archivo\n",
    "path = 'C:/Users/Itzel/Downloads/netflix_titles.csv'\n",
    "df_csv = pd.read_csv(path)"
   ]
  },
  {
   "cell_type": "code",
   "execution_count": 3,
   "metadata": {},
   "outputs": [
    {
     "name": "stdout",
     "output_type": "stream",
     "text": [
      "(6234, 12)\n"
     ]
    },
    {
     "data": {
      "text/html": [
       "<div>\n",
       "<style scoped>\n",
       "    .dataframe tbody tr th:only-of-type {\n",
       "        vertical-align: middle;\n",
       "    }\n",
       "\n",
       "    .dataframe tbody tr th {\n",
       "        vertical-align: top;\n",
       "    }\n",
       "\n",
       "    .dataframe thead th {\n",
       "        text-align: right;\n",
       "    }\n",
       "</style>\n",
       "<table border=\"1\" class=\"dataframe\">\n",
       "  <thead>\n",
       "    <tr style=\"text-align: right;\">\n",
       "      <th></th>\n",
       "      <th>show_id</th>\n",
       "      <th>type</th>\n",
       "      <th>title</th>\n",
       "      <th>director</th>\n",
       "      <th>cast</th>\n",
       "      <th>country</th>\n",
       "      <th>date_added</th>\n",
       "      <th>release_year</th>\n",
       "      <th>rating</th>\n",
       "      <th>duration</th>\n",
       "      <th>listed_in</th>\n",
       "      <th>description</th>\n",
       "    </tr>\n",
       "  </thead>\n",
       "  <tbody>\n",
       "    <tr>\n",
       "      <th>0</th>\n",
       "      <td>81145628</td>\n",
       "      <td>Movie</td>\n",
       "      <td>Norm of the North: King Sized Adventure</td>\n",
       "      <td>Richard Finn, Tim Maltby</td>\n",
       "      <td>Alan Marriott, Andrew Toth, Brian Dobson, Cole...</td>\n",
       "      <td>United States, India, South Korea, China</td>\n",
       "      <td>September 9, 2019</td>\n",
       "      <td>2019</td>\n",
       "      <td>TV-PG</td>\n",
       "      <td>90 min</td>\n",
       "      <td>Children &amp; Family Movies, Comedies</td>\n",
       "      <td>Before planning an awesome wedding for his gra...</td>\n",
       "    </tr>\n",
       "    <tr>\n",
       "      <th>1</th>\n",
       "      <td>80117401</td>\n",
       "      <td>Movie</td>\n",
       "      <td>Jandino: Whatever it Takes</td>\n",
       "      <td>NaN</td>\n",
       "      <td>Jandino Asporaat</td>\n",
       "      <td>United Kingdom</td>\n",
       "      <td>September 9, 2016</td>\n",
       "      <td>2016</td>\n",
       "      <td>TV-MA</td>\n",
       "      <td>94 min</td>\n",
       "      <td>Stand-Up Comedy</td>\n",
       "      <td>Jandino Asporaat riffs on the challenges of ra...</td>\n",
       "    </tr>\n",
       "    <tr>\n",
       "      <th>2</th>\n",
       "      <td>70234439</td>\n",
       "      <td>TV Show</td>\n",
       "      <td>Transformers Prime</td>\n",
       "      <td>NaN</td>\n",
       "      <td>Peter Cullen, Sumalee Montano, Frank Welker, J...</td>\n",
       "      <td>United States</td>\n",
       "      <td>September 8, 2018</td>\n",
       "      <td>2013</td>\n",
       "      <td>TV-Y7-FV</td>\n",
       "      <td>1 Season</td>\n",
       "      <td>Kids' TV</td>\n",
       "      <td>With the help of three human allies, the Autob...</td>\n",
       "    </tr>\n",
       "    <tr>\n",
       "      <th>3</th>\n",
       "      <td>80058654</td>\n",
       "      <td>TV Show</td>\n",
       "      <td>Transformers: Robots in Disguise</td>\n",
       "      <td>NaN</td>\n",
       "      <td>Will Friedle, Darren Criss, Constance Zimmer, ...</td>\n",
       "      <td>United States</td>\n",
       "      <td>September 8, 2018</td>\n",
       "      <td>2016</td>\n",
       "      <td>TV-Y7</td>\n",
       "      <td>1 Season</td>\n",
       "      <td>Kids' TV</td>\n",
       "      <td>When a prison ship crash unleashes hundreds of...</td>\n",
       "    </tr>\n",
       "    <tr>\n",
       "      <th>4</th>\n",
       "      <td>80125979</td>\n",
       "      <td>Movie</td>\n",
       "      <td>#realityhigh</td>\n",
       "      <td>Fernando Lebrija</td>\n",
       "      <td>Nesta Cooper, Kate Walsh, John Michael Higgins...</td>\n",
       "      <td>United States</td>\n",
       "      <td>September 8, 2017</td>\n",
       "      <td>2017</td>\n",
       "      <td>TV-14</td>\n",
       "      <td>99 min</td>\n",
       "      <td>Comedies</td>\n",
       "      <td>When nerdy high schooler Dani finally attracts...</td>\n",
       "    </tr>\n",
       "  </tbody>\n",
       "</table>\n",
       "</div>"
      ],
      "text/plain": [
       "    show_id     type                                    title  \\\n",
       "0  81145628    Movie  Norm of the North: King Sized Adventure   \n",
       "1  80117401    Movie               Jandino: Whatever it Takes   \n",
       "2  70234439  TV Show                       Transformers Prime   \n",
       "3  80058654  TV Show         Transformers: Robots in Disguise   \n",
       "4  80125979    Movie                             #realityhigh   \n",
       "\n",
       "                   director  \\\n",
       "0  Richard Finn, Tim Maltby   \n",
       "1                       NaN   \n",
       "2                       NaN   \n",
       "3                       NaN   \n",
       "4          Fernando Lebrija   \n",
       "\n",
       "                                                cast  \\\n",
       "0  Alan Marriott, Andrew Toth, Brian Dobson, Cole...   \n",
       "1                                   Jandino Asporaat   \n",
       "2  Peter Cullen, Sumalee Montano, Frank Welker, J...   \n",
       "3  Will Friedle, Darren Criss, Constance Zimmer, ...   \n",
       "4  Nesta Cooper, Kate Walsh, John Michael Higgins...   \n",
       "\n",
       "                                    country         date_added  release_year  \\\n",
       "0  United States, India, South Korea, China  September 9, 2019          2019   \n",
       "1                            United Kingdom  September 9, 2016          2016   \n",
       "2                             United States  September 8, 2018          2013   \n",
       "3                             United States  September 8, 2018          2016   \n",
       "4                             United States  September 8, 2017          2017   \n",
       "\n",
       "     rating  duration                           listed_in  \\\n",
       "0     TV-PG    90 min  Children & Family Movies, Comedies   \n",
       "1     TV-MA    94 min                     Stand-Up Comedy   \n",
       "2  TV-Y7-FV  1 Season                            Kids' TV   \n",
       "3     TV-Y7  1 Season                            Kids' TV   \n",
       "4     TV-14    99 min                            Comedies   \n",
       "\n",
       "                                         description  \n",
       "0  Before planning an awesome wedding for his gra...  \n",
       "1  Jandino Asporaat riffs on the challenges of ra...  \n",
       "2  With the help of three human allies, the Autob...  \n",
       "3  When a prison ship crash unleashes hundreds of...  \n",
       "4  When nerdy high schooler Dani finally attracts...  "
      ]
     },
     "execution_count": 3,
     "metadata": {},
     "output_type": "execute_result"
    }
   ],
   "source": [
    "# Visualizar rasgos generales\n",
    "print(df_csv.shape)\n",
    "df_csv.head(5)"
   ]
  },
  {
   "cell_type": "markdown",
   "metadata": {},
   "source": [
    "Seleccionamos unicamente los registros de tipo TV Show y las columnas: title, director, cast, duration, rating, listed_in, description. Obteniendo XXX  registros."
   ]
  },
  {
   "cell_type": "code",
   "execution_count": 4,
   "metadata": {},
   "outputs": [
    {
     "name": "stdout",
     "output_type": "stream",
     "text": [
      "Total de tv shows: 1969\n"
     ]
    }
   ],
   "source": [
    "# Filtramos por TV Show\n",
    "df_csv = df_csv[ df_csv.type == 'TV Show']\n",
    "\n",
    "# Seleccionar columnas\n",
    "df_csv = df_csv [['title', 'director', 'cast', 'duration', 'rating', 'listed_in', 'description']]\n",
    "\n",
    "print('Total de tv shows:', df_csv.shape[0])"
   ]
  },
  {
   "cell_type": "code",
   "execution_count": 5,
   "metadata": {},
   "outputs": [],
   "source": [
    "# Renombrar columnas\n",
    "df_csv.rename(columns={'rating': 'classification'}, inplace = True)"
   ]
  },
  {
   "cell_type": "code",
   "execution_count": 24,
   "metadata": {},
   "outputs": [
    {
     "name": "stdout",
     "output_type": "stream",
     "text": [
      "Títulos unicos 1958\n"
     ]
    }
   ],
   "source": [
    "print('Títulos unicos', len(df_csv.title.unique()))"
   ]
  },
  {
   "cell_type": "code",
   "execution_count": 33,
   "metadata": {},
   "outputs": [],
   "source": [
    "# Quitamos duplicados sobre el título\n",
    "df_csv.drop_duplicates(['title'], inplace=True)"
   ]
  },
  {
   "cell_type": "markdown",
   "metadata": {},
   "source": [
    "## DATA API"
   ]
  },
  {
   "cell_type": "markdown",
   "metadata": {},
   "source": [
    "### Descripción del archivo\n",
    "\n",
    "Los datos obtenidos a través de la api, se encuentran en https://www.episodate.com/api tomando el endpoint _/most-popular_\n",
    "la cual ofrece una lista completa de los programas de televisión más populares con la siguiente información:\n",
    "\n",
    "#### Descripción de las columnas\n",
    "\n",
    "1. **id:** id único del programa de televisión.\n",
    "2. **name:** título del programa de televisión.\n",
    "3. **permalink:** título separado por -\n",
    "4. **start_date:** fecha de inicio de transmisión del primer capitulo.\n",
    "5. **end_date:** fecha de transmisión del último capitulo.\n",
    "6. **country**: país de la productora del programa de televisión.\n",
    "7. **network:** cadena de televisión.\n",
    "8. **status:** estatus del programa de televisión.\n",
    "9. **image_thumbnail_path:** path "
   ]
  },
  {
   "cell_type": "markdown",
   "metadata": {},
   "source": [
    "### Código extracción"
   ]
  },
  {
   "cell_type": "code",
   "execution_count": 6,
   "metadata": {},
   "outputs": [
    {
     "data": {
      "text/plain": [
       "<Response [200]>"
      ]
     },
     "execution_count": 6,
     "metadata": {},
     "output_type": "execute_result"
    }
   ],
   "source": [
    "# Url\n",
    "url = 'https://www.episodate.com/api/most-popular'\n",
    "req = requests.get(url)\n",
    "req"
   ]
  },
  {
   "cell_type": "code",
   "execution_count": 7,
   "metadata": {},
   "outputs": [
    {
     "name": "stdout",
     "output_type": "stream",
     "text": [
      "dict_keys(['total', 'page', 'pages', 'tv_shows'])\n"
     ]
    }
   ],
   "source": [
    "api = req.json()\n",
    "\n",
    "# Exploración de las llaves\n",
    "print(api.keys())"
   ]
  },
  {
   "cell_type": "code",
   "execution_count": 8,
   "metadata": {},
   "outputs": [
    {
     "name": "stdout",
     "output_type": "stream",
     "text": [
      "{'total': '17130', 'page': 1, 'pages': 857, 'tv_shows': [{'id': 35624, 'name': 'The Flash', 'permalink': 'the-flash', 'start_date': '2014-10-07', 'end_date': None, 'country': 'US', 'network': 'The CW', 'status': 'Running', 'image_thumbnail_path': 'https://static.episodate.com/images/tv-show/thumbnail/35624.jpg'}, {'id': 23455, 'name': 'Game of Thrones', 'permalink': 'game-of-thrones', 'start_date': '2011-04-17', 'end_date': None, 'country': 'US', 'network': 'HBO', 'status': 'Ended', 'image_thumbnail_path': 'https://static.episodate.com/images/tv-show/thumbnail/23455.jpg'}, {'id': 29560, 'name': 'Arrow', 'permalink': 'arrow', 'start_date': '2012-10-10', 'end_date': None, 'country': 'US', 'network': 'The CW', 'status': 'Ended', 'image_thumbnail_path': 'https://static.episodate.com/images/tv-show/thumbnail/29560.jpg'}, {'id': 43467, 'name': 'Lucifer', 'permalink': 'lucifer', 'start_date': '2016-01-25', 'end_date': None, 'country': 'US', 'network': 'Netflix', 'status': 'Running', 'image_thumbnail_path': 'https://static.episodate.com/images/tv-show/thumbnail/43467.com'}, {'id': 43234, 'name': 'Supergirl', 'permalink': 'supergirl', 'start_date': '2015-10-26', 'end_date': None, 'country': 'US', 'network': 'The CW', 'status': 'Running', 'image_thumbnail_path': 'https://static.episodate.com/images/tv-show/thumbnail/43234.jpg'}, {'id': 46692, 'name': \"DC's Legends of Tomorrow\", 'permalink': 'dcs-legends-of-tomorrow', 'start_date': '2016-01-21', 'end_date': None, 'country': 'US', 'network': 'The CW', 'status': 'Running', 'image_thumbnail_path': 'https://static.episodate.com/images/tv-show/thumbnail/46692.jpg'}, {'id': 24010, 'name': 'The Walking Dead', 'permalink': 'the-walking-dead', 'start_date': '2010-10-31', 'end_date': None, 'country': 'US', 'network': 'AMC', 'status': 'Running', 'image_thumbnail_path': 'https://static.episodate.com/images/tv-show/thumbnail/24010.jpg'}, {'id': 47145, 'name': 'Dragon Ball Super', 'permalink': 'dragon-ball-super', 'start_date': '2015-07-05', 'end_date': None, 'country': 'JP', 'network': 'Fuji TV', 'status': 'Ended', 'image_thumbnail_path': 'https://static.episodate.com/images/tv-show/thumbnail/47145.'}, {'id': 46778, 'name': 'Stranger Things', 'permalink': 'montauk', 'start_date': '2016-07-15', 'end_date': None, 'country': 'US', 'network': 'Netflix', 'status': 'Running', 'image_thumbnail_path': 'https://static.episodate.com/images/tv-show/thumbnail/46778.jpg'}, {'id': 33514, 'name': 'The 100', 'permalink': 'the-100', 'start_date': '2014-03-19', 'end_date': None, 'country': 'US', 'network': 'The CW', 'status': 'Ended', 'image_thumbnail_path': 'https://static.episodate.com/images/tv-show/thumbnail/33514.jpg'}, {'id': 5348, 'name': 'Supernatural', 'permalink': 'supernatural', 'start_date': '2005-09-13', 'end_date': None, 'country': 'US', 'network': 'The CW', 'status': 'Running', 'image_thumbnail_path': 'https://static.episodate.com/images/tv-show/thumbnail/5348.jpg'}, {'id': 22410, 'name': 'Sherlock', 'permalink': 'sherlock', 'start_date': '2010-07-25', 'end_date': None, 'country': 'UK', 'network': 'BBC One', 'status': 'To Be Determined', 'image_thumbnail_path': 'https://static.episodate.com/images/tv-show/thumbnail/22410.jpg'}, {'id': 8362, 'name': 'The Big Bang Theory', 'permalink': 'the-big-bang-theory', 'start_date': '2007-09-24', 'end_date': None, 'country': 'US', 'network': 'CBS', 'status': 'Ended', 'image_thumbnail_path': 'https://static.episodate.com/images/tv-show/thumbnail/8362.jpg'}, {'id': 52439, 'name': 'Boku no Hero Academia', 'permalink': 'boku-no-hero-academia', 'start_date': '2016-04-03', 'end_date': None, 'country': 'JP', 'network': 'MBS', 'status': 'Running', 'image_thumbnail_path': 'https://static.episodate.com/images/tv-show/thumbnail/52439.jpg'}, {'id': 31452, 'name': \"Marvel's Agents of S.H.I.E.L.D.\", 'permalink': 'marvel-s-agents-of-s-h-i-e-l-d', 'start_date': '2013-09-24', 'end_date': None, 'country': 'US', 'network': 'ABC', 'status': 'Ended', 'image_thumbnail_path': 'https://static.episodate.com/images/tv-show/thumbnail/31452.jpg'}, {'id': 37444, 'name': \"Marvel's Daredevil\", 'permalink': 'daredevil', 'start_date': '2015-04-10', 'end_date': None, 'country': 'US', 'network': 'Netflix', 'status': 'Ended', 'image_thumbnail_path': 'https://static.episodate.com/images/tv-show/thumbnail/37444.jpg'}, {'id': 29977, 'name': 'Vikings', 'permalink': 'vikings', 'start_date': '2013-03-03', 'end_date': None, 'country': 'CA', 'network': 'History', 'status': 'Running', 'image_thumbnail_path': 'https://static.episodate.com/images/tv-show/thumbnail/29977.jpg'}, {'id': 29671, 'name': 'Gotham', 'permalink': 'gotham', 'start_date': '2014-09-22', 'end_date': None, 'country': 'US', 'network': 'FOX', 'status': 'Ended', 'image_thumbnail_path': 'https://static.episodate.com/images/tv-show/thumbnail/29671.png'}, {'id': 36210, 'name': 'Westworld', 'permalink': 'westworld', 'start_date': '2016-10-02', 'end_date': None, 'country': 'US', 'network': 'HBO', 'status': 'Running', 'image_thumbnail_path': 'https://static.episodate.com/images/tv-show/thumbnail/36210.jpg'}, {'id': 49269, 'name': 'Miraculous LadyBug', 'permalink': 'miraculous-ladybug', 'start_date': '2015-09-01', 'end_date': None, 'country': 'FR', 'network': 'TF1', 'status': 'Running', 'image_thumbnail_path': 'https://static.episodate.com/images/tv-show/thumbnail/49269.jpg'}]}\n"
     ]
    }
   ],
   "source": [
    "# Exploración del archivo json\n",
    "print(api)"
   ]
  },
  {
   "cell_type": "markdown",
   "metadata": {},
   "source": [
    "Al revisar el contenido de la API observamos que existen un total de 17130 de registros distribuidos en 857 páginas.\n",
    "Para recolectar toda la data, tomaremos la siguiente url más el número de página:\n",
    "    \n",
    "    https://www.episodate.com/api/most-popular?page= + número de página\n",
    "    \n",
    "Por ejemplo:\n",
    "    https://www.episodate.com/api/most-popular?page=1"
   ]
  },
  {
   "cell_type": "code",
   "execution_count": 9,
   "metadata": {},
   "outputs": [
    {
     "name": "stdout",
     "output_type": "stream",
     "text": [
      "Wall time: 1h 10min 55s\n"
     ]
    }
   ],
   "source": [
    "%%time\n",
    "# Código para extraer la información\n",
    "\n",
    "# Url\n",
    "api_url = 'https://www.episodate.com/api/most-popular?page='\n",
    "\n",
    "# df que guardará la información de la api\n",
    "df_api = pd.DataFrame()\n",
    "\n",
    "# Iterar sobre todas las páginas\n",
    "for i in range(1,858):\n",
    "    try:                \n",
    "        req = requests.get(api_url + str(i))\n",
    "        req_json = req.json()\n",
    "        tv_shows = req_json['tv_shows']\n",
    "        df_api = pd.concat([df_api, pd.DataFrame(tv_shows)])\n",
    "    except:\n",
    "        pass\n",
    "\n"
   ]
  },
  {
   "cell_type": "code",
   "execution_count": 10,
   "metadata": {},
   "outputs": [
    {
     "data": {
      "text/html": [
       "<div>\n",
       "<style scoped>\n",
       "    .dataframe tbody tr th:only-of-type {\n",
       "        vertical-align: middle;\n",
       "    }\n",
       "\n",
       "    .dataframe tbody tr th {\n",
       "        vertical-align: top;\n",
       "    }\n",
       "\n",
       "    .dataframe thead th {\n",
       "        text-align: right;\n",
       "    }\n",
       "</style>\n",
       "<table border=\"1\" class=\"dataframe\">\n",
       "  <thead>\n",
       "    <tr style=\"text-align: right;\">\n",
       "      <th></th>\n",
       "      <th>id</th>\n",
       "      <th>name</th>\n",
       "      <th>permalink</th>\n",
       "      <th>start_date</th>\n",
       "      <th>end_date</th>\n",
       "      <th>country</th>\n",
       "      <th>network</th>\n",
       "      <th>status</th>\n",
       "      <th>image_thumbnail_path</th>\n",
       "    </tr>\n",
       "  </thead>\n",
       "  <tbody>\n",
       "    <tr>\n",
       "      <th>0</th>\n",
       "      <td>35624</td>\n",
       "      <td>The Flash</td>\n",
       "      <td>the-flash</td>\n",
       "      <td>2014-10-07</td>\n",
       "      <td>None</td>\n",
       "      <td>US</td>\n",
       "      <td>The CW</td>\n",
       "      <td>Running</td>\n",
       "      <td>https://static.episodate.com/images/tv-show/th...</td>\n",
       "    </tr>\n",
       "    <tr>\n",
       "      <th>1</th>\n",
       "      <td>23455</td>\n",
       "      <td>Game of Thrones</td>\n",
       "      <td>game-of-thrones</td>\n",
       "      <td>2011-04-17</td>\n",
       "      <td>None</td>\n",
       "      <td>US</td>\n",
       "      <td>HBO</td>\n",
       "      <td>Ended</td>\n",
       "      <td>https://static.episodate.com/images/tv-show/th...</td>\n",
       "    </tr>\n",
       "    <tr>\n",
       "      <th>2</th>\n",
       "      <td>29560</td>\n",
       "      <td>Arrow</td>\n",
       "      <td>arrow</td>\n",
       "      <td>2012-10-10</td>\n",
       "      <td>None</td>\n",
       "      <td>US</td>\n",
       "      <td>The CW</td>\n",
       "      <td>Ended</td>\n",
       "      <td>https://static.episodate.com/images/tv-show/th...</td>\n",
       "    </tr>\n",
       "    <tr>\n",
       "      <th>3</th>\n",
       "      <td>43467</td>\n",
       "      <td>Lucifer</td>\n",
       "      <td>lucifer</td>\n",
       "      <td>2016-01-25</td>\n",
       "      <td>None</td>\n",
       "      <td>US</td>\n",
       "      <td>Netflix</td>\n",
       "      <td>Running</td>\n",
       "      <td>https://static.episodate.com/images/tv-show/th...</td>\n",
       "    </tr>\n",
       "    <tr>\n",
       "      <th>4</th>\n",
       "      <td>43234</td>\n",
       "      <td>Supergirl</td>\n",
       "      <td>supergirl</td>\n",
       "      <td>2015-10-26</td>\n",
       "      <td>None</td>\n",
       "      <td>US</td>\n",
       "      <td>The CW</td>\n",
       "      <td>Running</td>\n",
       "      <td>https://static.episodate.com/images/tv-show/th...</td>\n",
       "    </tr>\n",
       "  </tbody>\n",
       "</table>\n",
       "</div>"
      ],
      "text/plain": [
       "      id             name        permalink  start_date end_date country  \\\n",
       "0  35624        The Flash        the-flash  2014-10-07     None      US   \n",
       "1  23455  Game of Thrones  game-of-thrones  2011-04-17     None      US   \n",
       "2  29560            Arrow            arrow  2012-10-10     None      US   \n",
       "3  43467          Lucifer          lucifer  2016-01-25     None      US   \n",
       "4  43234        Supergirl        supergirl  2015-10-26     None      US   \n",
       "\n",
       "   network   status                               image_thumbnail_path  \n",
       "0   The CW  Running  https://static.episodate.com/images/tv-show/th...  \n",
       "1      HBO    Ended  https://static.episodate.com/images/tv-show/th...  \n",
       "2   The CW    Ended  https://static.episodate.com/images/tv-show/th...  \n",
       "3  Netflix  Running  https://static.episodate.com/images/tv-show/th...  \n",
       "4   The CW  Running  https://static.episodate.com/images/tv-show/th...  "
      ]
     },
     "execution_count": 10,
     "metadata": {},
     "output_type": "execute_result"
    }
   ],
   "source": [
    "df_api.head()"
   ]
  },
  {
   "cell_type": "code",
   "execution_count": 11,
   "metadata": {},
   "outputs": [],
   "source": [
    "# Seleccionamos las columnas deseadas\n",
    "df_api =  df_api[['name', 'start_date', 'end_date', 'country', 'network', 'status']]"
   ]
  },
  {
   "cell_type": "code",
   "execution_count": 12,
   "metadata": {},
   "outputs": [],
   "source": [
    "# Renombramos\n",
    "df_api.rename(columns={'name': 'title'}, inplace = True)"
   ]
  },
  {
   "cell_type": "code",
   "execution_count": 35,
   "metadata": {},
   "outputs": [
    {
     "name": "stdout",
     "output_type": "stream",
     "text": [
      "Total de títulos: 17126\n",
      "Títulos unicos 16327\n"
     ]
    }
   ],
   "source": [
    "print('Total de títulos:', df_api.shape[0])\n",
    "print('Títulos unicos', len(df_api.title.unique()))"
   ]
  },
  {
   "cell_type": "code",
   "execution_count": 41,
   "metadata": {},
   "outputs": [],
   "source": [
    "# quitando duplicados\n",
    "df_api.drop_duplicates(['title'], inplace=True)"
   ]
  },
  {
   "cell_type": "markdown",
   "metadata": {},
   "source": [
    "## DATA WEB SCRAPING"
   ]
  },
  {
   "cell_type": "markdown",
   "metadata": {},
   "source": [
    "### Descripción\n",
    "\n",
    "Por medio de web scraping https://www.imdb.com/search/title/?title_type=tv_series se obtiene la siguiente información acerca del rating según IMDb:\n",
    "\n",
    "#### Descripción de las columnas:\n",
    "1. **title:** título de la serie de televisión\n",
    "2. **rating:** rating del show según IMDb\n",
    "3. **votes:** número de votos\n"
   ]
  },
  {
   "cell_type": "markdown",
   "metadata": {},
   "source": [
    "### Código de extracción"
   ]
  },
  {
   "cell_type": "code",
   "execution_count": 64,
   "metadata": {},
   "outputs": [
    {
     "data": {
      "text/plain": [
       "<Response [200]>"
      ]
     },
     "execution_count": 64,
     "metadata": {},
     "output_type": "execute_result"
    }
   ],
   "source": [
    "url2 = 'https://www.imdb.com/search/title/?title_type=tv_series'\n",
    "req =  requests.get(url2)\n",
    "\n",
    "# Verificar respuesta\n",
    "req"
   ]
  },
  {
   "cell_type": "code",
   "execution_count": 65,
   "metadata": {},
   "outputs": [],
   "source": [
    "sopa =  BeautifulSoup(req.content, 'html.parser')\n",
    "\n",
    "# Filtrar sopa por el tag que nos interesa\n",
    "lst_sopa= sopa.findAll('div', {'class': 'lister-item-content'})"
   ]
  },
  {
   "cell_type": "code",
   "execution_count": 66,
   "metadata": {},
   "outputs": [
    {
     "data": {
      "text/plain": [
       "50"
      ]
     },
     "execution_count": 66,
     "metadata": {},
     "output_type": "execute_result"
    }
   ],
   "source": [
    "# Imprimir longitud de la lista de sopas\n",
    "len(lst_sopa)"
   ]
  },
  {
   "cell_type": "code",
   "execution_count": 67,
   "metadata": {},
   "outputs": [],
   "source": [
    "# # Explorar lista de sopas\n",
    "# lst_sopa"
   ]
  },
  {
   "cell_type": "code",
   "execution_count": 68,
   "metadata": {},
   "outputs": [],
   "source": [
    "###########################################################################################################\n",
    "################################        Funciones      ####################################################\n",
    "###########################################################################################################\n",
    "\n",
    "def data_web(lst_sopa):\n",
    "    \"\"\"Función que recibe como argumento una lista de sopa del url, regresa 3 listas:\n",
    "    titles, ratings, votes\n",
    "    \"\"\"\n",
    "    titles = []\n",
    "\n",
    "    #Ratings\n",
    "    ratings = []\n",
    "\n",
    "    # Votes\n",
    "    votes = []\n",
    "    for i in range(len(lst_sopa)):\n",
    "\n",
    "        try:\n",
    "            # Títulos\n",
    "            title = re.findall('href=\"\\/title\\/.*', str(lst_sopa[i]))[0]\n",
    "            title_clean = re.findall('>.*?<', title)[0].replace('<', '').replace('>', '')\n",
    "\n",
    "            # Rating\n",
    "            rating = lst_sopa[i].findAll('div',  {'class': 'inline-block ratings-imdb-rating'})[0]\n",
    "            rating_clean = rating.text.replace('\\n', '')\n",
    "\n",
    "            # Votes\n",
    "            vote = lst_sopa[i].findAll('span')[-1].text\n",
    "            vote_clean = vote.replace(',', '')\n",
    "\n",
    "            # Agregar resultados        \n",
    "            titles.append(title_clean)\n",
    "            ratings.append(rating_clean)\n",
    "            votes.append(vote_clean)\n",
    "\n",
    "        except:\n",
    "            pass\n",
    "    return titles, ratings, votes"
   ]
  },
  {
   "cell_type": "markdown",
   "metadata": {},
   "source": [
    "Al analizar la información de la url, se observa que viene la información por página registros **1-50 of 193,919 titles**, al dar click a la siguiente página, el url se actualiza a https://www.imdb.com/search/title/?title_type=tv_series&start=51&ref_=adv_nxt por lo que se iterará sobre el número 51 para extraer la información de al menos 15,000 registros aproximadamente."
   ]
  },
  {
   "cell_type": "code",
   "execution_count": 69,
   "metadata": {},
   "outputs": [
    {
     "name": "stdout",
     "output_type": "stream",
     "text": [
      "Wall time: 9min 38s\n"
     ]
    }
   ],
   "source": [
    "%%time\n",
    "\n",
    "# Contador para detener el ciclo while cuando se tengan más de 15,000 registros\n",
    "n_data = 0\n",
    "\n",
    "# df que guardará la información obtenida a través de web scraping\n",
    "df_web =pd.DataFrame(columns=['title', 'rating', 'votes'])\n",
    "\n",
    "\n",
    "# Contador auxiliar para cambiar de url\n",
    "n_url=1 \n",
    "\n",
    "while n_data <= 15000:\n",
    "    \n",
    "    # Condición if para la primera iteración\n",
    "    if n_data == 0:\n",
    "        url2 = 'https://www.imdb.com/search/title/?title_type=tv_series'\n",
    "        req =  requests.get(url2)\n",
    "        sopa =  BeautifulSoup(req.content, 'html.parser')\n",
    "        lst_sopa= sopa.findAll('div', {'class': 'lister-item-content'})\n",
    "\n",
    "    # Para el resto de las iteraciones\n",
    "    else:\n",
    "        url3 = 'https://www.imdb.com/search/title/?title_type=tv_series&start='+str(n_url)+'&ref_=adv_nxt'\n",
    "        req =  requests.get(url3)\n",
    "        sopa =  BeautifulSoup(req.content, 'html.parser')\n",
    "        lst_sopa= sopa.findAll('div', {'class': 'lister-item-content'})        \n",
    "    \n",
    "    # Extraer titulos, rating y votos\n",
    "    titles, ratings, votes = data_web(lst_sopa)\n",
    "    \n",
    "    \n",
    "    # Lista auxiliar para identificar de cuál url vienen los datos\n",
    "    lst_pag = [n_url]*len(titles)\n",
    "    \n",
    "    # agregar la información en df_web\n",
    "    df_web = pd.concat([df_web, pd.DataFrame({'title':titles, 'rating': ratings, 'votes': votes, 'pag': lst_pag})])\n",
    "    \n",
    "    # Actualizar el número de registros que hay en el dataframe\n",
    "    n_data= df_web.shape[0]\n",
    "    \n",
    "    # aumentar el contador auxiliar para cambiar de url del url\n",
    "    n_url+=50"
   ]
  },
  {
   "cell_type": "code",
   "execution_count": 70,
   "metadata": {},
   "outputs": [
    {
     "name": "stdout",
     "output_type": "stream",
     "text": [
      "Total de registros: 15045\n"
     ]
    },
    {
     "data": {
      "text/html": [
       "<div>\n",
       "<style scoped>\n",
       "    .dataframe tbody tr th:only-of-type {\n",
       "        vertical-align: middle;\n",
       "    }\n",
       "\n",
       "    .dataframe tbody tr th {\n",
       "        vertical-align: top;\n",
       "    }\n",
       "\n",
       "    .dataframe thead th {\n",
       "        text-align: right;\n",
       "    }\n",
       "</style>\n",
       "<table border=\"1\" class=\"dataframe\">\n",
       "  <thead>\n",
       "    <tr style=\"text-align: right;\">\n",
       "      <th></th>\n",
       "      <th>title</th>\n",
       "      <th>rating</th>\n",
       "      <th>votes</th>\n",
       "      <th>pag</th>\n",
       "    </tr>\n",
       "  </thead>\n",
       "  <tbody>\n",
       "    <tr>\n",
       "      <th>0</th>\n",
       "      <td>The Boys</td>\n",
       "      <td>8.7</td>\n",
       "      <td>205184</td>\n",
       "      <td>1.0</td>\n",
       "    </tr>\n",
       "    <tr>\n",
       "      <th>1</th>\n",
       "      <td>Schitt's Creek</td>\n",
       "      <td>8.5</td>\n",
       "      <td>50488</td>\n",
       "      <td>1.0</td>\n",
       "    </tr>\n",
       "    <tr>\n",
       "      <th>2</th>\n",
       "      <td>Scam 1992: The Harshad Mehta Story</td>\n",
       "      <td>9.6</td>\n",
       "      <td>37823</td>\n",
       "      <td>1.0</td>\n",
       "    </tr>\n",
       "    <tr>\n",
       "      <th>3</th>\n",
       "      <td>Emily en París</td>\n",
       "      <td>7.2</td>\n",
       "      <td>24066</td>\n",
       "      <td>1.0</td>\n",
       "    </tr>\n",
       "    <tr>\n",
       "      <th>4</th>\n",
       "      <td>The Mandalorian</td>\n",
       "      <td>8.7</td>\n",
       "      <td>202500</td>\n",
       "      <td>1.0</td>\n",
       "    </tr>\n",
       "  </tbody>\n",
       "</table>\n",
       "</div>"
      ],
      "text/plain": [
       "                                title rating   votes  pag\n",
       "0                            The Boys    8.7  205184  1.0\n",
       "1                      Schitt's Creek    8.5   50488  1.0\n",
       "2  Scam 1992: The Harshad Mehta Story    9.6   37823  1.0\n",
       "3                      Emily en París    7.2   24066  1.0\n",
       "4                     The Mandalorian    8.7  202500  1.0"
      ]
     },
     "execution_count": 70,
     "metadata": {},
     "output_type": "execute_result"
    }
   ],
   "source": [
    "print('Total de registros:', df_web.shape[0])\n",
    "\n",
    "df_web.head()"
   ]
  },
  {
   "cell_type": "markdown",
   "metadata": {},
   "source": [
    "#### Análisis de duplicados"
   ]
  },
  {
   "cell_type": "code",
   "execution_count": 20,
   "metadata": {},
   "outputs": [
    {
     "data": {
      "text/plain": [
       "9299"
      ]
     },
     "execution_count": 20,
     "metadata": {},
     "output_type": "execute_result"
    }
   ],
   "source": [
    "# Validamos\n",
    "len(df_web.title.unique())"
   ]
  },
  {
   "cell_type": "code",
   "execution_count": 71,
   "metadata": {
    "collapsed": true
   },
   "outputs": [
    {
     "data": {
      "text/html": [
       "<div>\n",
       "<style scoped>\n",
       "    .dataframe tbody tr th:only-of-type {\n",
       "        vertical-align: middle;\n",
       "    }\n",
       "\n",
       "    .dataframe tbody tr th {\n",
       "        vertical-align: top;\n",
       "    }\n",
       "\n",
       "    .dataframe thead th {\n",
       "        text-align: right;\n",
       "    }\n",
       "</style>\n",
       "<table border=\"1\" class=\"dataframe\">\n",
       "  <thead>\n",
       "    <tr style=\"text-align: right;\">\n",
       "      <th></th>\n",
       "      <th>title</th>\n",
       "    </tr>\n",
       "  </thead>\n",
       "  <tbody>\n",
       "    <tr>\n",
       "      <th>Utopia</th>\n",
       "      <td>115</td>\n",
       "    </tr>\n",
       "    <tr>\n",
       "      <th>Shameless</th>\n",
       "      <td>114</td>\n",
       "    </tr>\n",
       "    <tr>\n",
       "      <th>Raised by Wolves</th>\n",
       "      <td>114</td>\n",
       "    </tr>\n",
       "    <tr>\n",
       "      <th>Stranger Things</th>\n",
       "      <td>114</td>\n",
       "    </tr>\n",
       "    <tr>\n",
       "      <th>The Blacklist</th>\n",
       "      <td>113</td>\n",
       "    </tr>\n",
       "    <tr>\n",
       "      <th>Helstrom</th>\n",
       "      <td>113</td>\n",
       "    </tr>\n",
       "    <tr>\n",
       "      <th>The Umbrella Academy</th>\n",
       "      <td>113</td>\n",
       "    </tr>\n",
       "    <tr>\n",
       "      <th>The Boys</th>\n",
       "      <td>113</td>\n",
       "    </tr>\n",
       "    <tr>\n",
       "      <th>The Alienist</th>\n",
       "      <td>113</td>\n",
       "    </tr>\n",
       "    <tr>\n",
       "      <th>Grand Army</th>\n",
       "      <td>113</td>\n",
       "    </tr>\n",
       "    <tr>\n",
       "      <th>New Girl</th>\n",
       "      <td>113</td>\n",
       "    </tr>\n",
       "    <tr>\n",
       "      <th>Bárbaros</th>\n",
       "      <td>113</td>\n",
       "    </tr>\n",
       "    <tr>\n",
       "      <th>Mentes Criminales</th>\n",
       "      <td>113</td>\n",
       "    </tr>\n",
       "    <tr>\n",
       "      <th>La Oficina\" AKA \"The Office</th>\n",
       "      <td>113</td>\n",
       "    </tr>\n",
       "    <tr>\n",
       "      <th>Vikingos</th>\n",
       "      <td>113</td>\n",
       "    </tr>\n",
       "    <tr>\n",
       "      <th>Outlander</th>\n",
       "      <td>113</td>\n",
       "    </tr>\n",
       "    <tr>\n",
       "      <th>Emily en París</th>\n",
       "      <td>113</td>\n",
       "    </tr>\n",
       "    <tr>\n",
       "      <th>Supernatural</th>\n",
       "      <td>113</td>\n",
       "    </tr>\n",
       "    <tr>\n",
       "      <th>Scam 1992: The Harshad Mehta Story</th>\n",
       "      <td>113</td>\n",
       "    </tr>\n",
       "    <tr>\n",
       "      <th>The Walking Dead</th>\n",
       "      <td>113</td>\n",
       "    </tr>\n",
       "    <tr>\n",
       "      <th>Schitt's Creek</th>\n",
       "      <td>113</td>\n",
       "    </tr>\n",
       "    <tr>\n",
       "      <th>Hacia el lago</th>\n",
       "      <td>113</td>\n",
       "    </tr>\n",
       "    <tr>\n",
       "      <th>The West Wing</th>\n",
       "      <td>113</td>\n",
       "    </tr>\n",
       "    <tr>\n",
       "      <th>The Walking Dead: World Beyond</th>\n",
       "      <td>113</td>\n",
       "    </tr>\n",
       "    <tr>\n",
       "      <th>Grey's Anatomy</th>\n",
       "      <td>113</td>\n",
       "    </tr>\n",
       "    <tr>\n",
       "      <th>Cobra Kai</th>\n",
       "      <td>113</td>\n",
       "    </tr>\n",
       "    <tr>\n",
       "      <th>The Big Bang Theory</th>\n",
       "      <td>113</td>\n",
       "    </tr>\n",
       "    <tr>\n",
       "      <th>Mirzapur</th>\n",
       "      <td>113</td>\n",
       "    </tr>\n",
       "    <tr>\n",
       "      <th>Evil</th>\n",
       "      <td>113</td>\n",
       "    </tr>\n",
       "    <tr>\n",
       "      <th>Game of Thrones</th>\n",
       "      <td>113</td>\n",
       "    </tr>\n",
       "  </tbody>\n",
       "</table>\n",
       "</div>"
      ],
      "text/plain": [
       "                                    title\n",
       "Utopia                                115\n",
       "Shameless                             114\n",
       "Raised by Wolves                      114\n",
       "Stranger Things                       114\n",
       "The Blacklist                         113\n",
       "Helstrom                              113\n",
       "The Umbrella Academy                  113\n",
       "The Boys                              113\n",
       "The Alienist                          113\n",
       "Grand Army                            113\n",
       "New Girl                              113\n",
       "Bárbaros                              113\n",
       "Mentes Criminales                     113\n",
       "La Oficina\" AKA \"The Office           113\n",
       "Vikingos                              113\n",
       "Outlander                             113\n",
       "Emily en París                        113\n",
       "Supernatural                          113\n",
       "Scam 1992: The Harshad Mehta Story    113\n",
       "The Walking Dead                      113\n",
       "Schitt's Creek                        113\n",
       "Hacia el lago                         113\n",
       "The West Wing                         113\n",
       "The Walking Dead: World Beyond        113\n",
       "Grey's Anatomy                        113\n",
       "Cobra Kai                             113\n",
       "The Big Bang Theory                   113\n",
       "Mirzapur                              113\n",
       "Evil                                  113\n",
       "Game of Thrones                       113"
      ]
     },
     "execution_count": 71,
     "metadata": {},
     "output_type": "execute_result"
    }
   ],
   "source": [
    "df_web.title.value_counts().to_frame().head(30)"
   ]
  },
  {
   "cell_type": "code",
   "execution_count": 72,
   "metadata": {},
   "outputs": [
    {
     "data": {
      "text/html": [
       "<div>\n",
       "<style scoped>\n",
       "    .dataframe tbody tr th:only-of-type {\n",
       "        vertical-align: middle;\n",
       "    }\n",
       "\n",
       "    .dataframe tbody tr th {\n",
       "        vertical-align: top;\n",
       "    }\n",
       "\n",
       "    .dataframe thead th {\n",
       "        text-align: right;\n",
       "    }\n",
       "</style>\n",
       "<table border=\"1\" class=\"dataframe\">\n",
       "  <thead>\n",
       "    <tr style=\"text-align: right;\">\n",
       "      <th></th>\n",
       "      <th>title</th>\n",
       "      <th>rating</th>\n",
       "      <th>votes</th>\n",
       "      <th>pag</th>\n",
       "    </tr>\n",
       "  </thead>\n",
       "  <tbody>\n",
       "    <tr>\n",
       "      <th>9</th>\n",
       "      <td>The Walking Dead</td>\n",
       "      <td>8.2</td>\n",
       "      <td>837704</td>\n",
       "      <td>1.0</td>\n",
       "    </tr>\n",
       "    <tr>\n",
       "      <th>9</th>\n",
       "      <td>The Walking Dead</td>\n",
       "      <td>8.2</td>\n",
       "      <td>837704</td>\n",
       "      <td>10001.0</td>\n",
       "    </tr>\n",
       "    <tr>\n",
       "      <th>9</th>\n",
       "      <td>The Walking Dead</td>\n",
       "      <td>8.2</td>\n",
       "      <td>837704</td>\n",
       "      <td>10051.0</td>\n",
       "    </tr>\n",
       "    <tr>\n",
       "      <th>9</th>\n",
       "      <td>The Walking Dead</td>\n",
       "      <td>8.2</td>\n",
       "      <td>837704</td>\n",
       "      <td>10101.0</td>\n",
       "    </tr>\n",
       "    <tr>\n",
       "      <th>9</th>\n",
       "      <td>The Walking Dead</td>\n",
       "      <td>8.2</td>\n",
       "      <td>837704</td>\n",
       "      <td>10151.0</td>\n",
       "    </tr>\n",
       "    <tr>\n",
       "      <th>...</th>\n",
       "      <td>...</td>\n",
       "      <td>...</td>\n",
       "      <td>...</td>\n",
       "      <td>...</td>\n",
       "    </tr>\n",
       "    <tr>\n",
       "      <th>9</th>\n",
       "      <td>The Walking Dead</td>\n",
       "      <td>8.2</td>\n",
       "      <td>837704</td>\n",
       "      <td>15351.0</td>\n",
       "    </tr>\n",
       "    <tr>\n",
       "      <th>9</th>\n",
       "      <td>The Walking Dead</td>\n",
       "      <td>8.2</td>\n",
       "      <td>837704</td>\n",
       "      <td>15401.0</td>\n",
       "    </tr>\n",
       "    <tr>\n",
       "      <th>9</th>\n",
       "      <td>The Walking Dead</td>\n",
       "      <td>8.2</td>\n",
       "      <td>837704</td>\n",
       "      <td>15451.0</td>\n",
       "    </tr>\n",
       "    <tr>\n",
       "      <th>9</th>\n",
       "      <td>The Walking Dead</td>\n",
       "      <td>8.2</td>\n",
       "      <td>837704</td>\n",
       "      <td>15501.0</td>\n",
       "    </tr>\n",
       "    <tr>\n",
       "      <th>9</th>\n",
       "      <td>The Walking Dead</td>\n",
       "      <td>8.2</td>\n",
       "      <td>837704</td>\n",
       "      <td>15551.0</td>\n",
       "    </tr>\n",
       "  </tbody>\n",
       "</table>\n",
       "<p>113 rows × 4 columns</p>\n",
       "</div>"
      ],
      "text/plain": [
       "               title rating   votes      pag\n",
       "9   The Walking Dead    8.2  837704      1.0\n",
       "9   The Walking Dead    8.2  837704  10001.0\n",
       "9   The Walking Dead    8.2  837704  10051.0\n",
       "9   The Walking Dead    8.2  837704  10101.0\n",
       "9   The Walking Dead    8.2  837704  10151.0\n",
       "..               ...    ...     ...      ...\n",
       "9   The Walking Dead    8.2  837704  15351.0\n",
       "9   The Walking Dead    8.2  837704  15401.0\n",
       "9   The Walking Dead    8.2  837704  15451.0\n",
       "9   The Walking Dead    8.2  837704  15501.0\n",
       "9   The Walking Dead    8.2  837704  15551.0\n",
       "\n",
       "[113 rows x 4 columns]"
      ]
     },
     "execution_count": 72,
     "metadata": {},
     "output_type": "execute_result"
    }
   ],
   "source": [
    "df_web[ df_web.title == 'The Walking Dead']"
   ]
  },
  {
   "cell_type": "markdown",
   "metadata": {},
   "source": [
    "Observamos que los registros duplicados solamente cambian en la pag que se refiere al url"
   ]
  },
  {
   "cell_type": "code",
   "execution_count": 78,
   "metadata": {},
   "outputs": [],
   "source": [
    "df_web.drop_duplicates(['title'], inplace=True)"
   ]
  },
  {
   "cell_type": "code",
   "execution_count": 79,
   "metadata": {},
   "outputs": [],
   "source": [
    "# Eliminamos columna página\n",
    "df_web.drop(['pag'], axis=1, inplace=True)"
   ]
  },
  {
   "cell_type": "markdown",
   "metadata": {},
   "source": [
    "### CONSOLIDACIÓN DE LA BDD"
   ]
  },
  {
   "cell_type": "markdown",
   "metadata": {},
   "source": [
    "Para cruzar las 3 bdd (df_csv, df_api, df_web), se cruzarán por medio de la llave 'title' conservando sólo las coincidencias entre las 3 tablas."
   ]
  },
  {
   "cell_type": "code",
   "execution_count": 145,
   "metadata": {},
   "outputs": [],
   "source": [
    "# La llave para realizar los cruces es title\n",
    "bdd = pd.merge(df_csv, df_api, on='title', how='inner')"
   ]
  },
  {
   "cell_type": "code",
   "execution_count": 146,
   "metadata": {},
   "outputs": [
    {
     "name": "stdout",
     "output_type": "stream",
     "text": [
      "Total de registros en la bdd: 875\n",
      "Títulos únicos: 875\n"
     ]
    }
   ],
   "source": [
    "# Verificamos duplicados\n",
    "print('Total de registros en la bdd:', bdd.shape[0])\n",
    "print('Títulos únicos:', len(bdd.title.unique()))"
   ]
  },
  {
   "cell_type": "code",
   "execution_count": 147,
   "metadata": {},
   "outputs": [],
   "source": [
    "bdd = pd.merge(bdd, df_web, on='title', how='inner')"
   ]
  },
  {
   "cell_type": "code",
   "execution_count": 148,
   "metadata": {},
   "outputs": [
    {
     "name": "stdout",
     "output_type": "stream",
     "text": [
      "Total de registros en la bdd: 531\n",
      "Títulos únicos: 531\n"
     ]
    }
   ],
   "source": [
    "# Verificamos duplicados\n",
    "print('Total de registros en la bdd:', bdd.shape[0])\n",
    "print('Títulos únicos:', len(bdd.title.unique()))"
   ]
  },
  {
   "cell_type": "markdown",
   "metadata": {},
   "source": [
    "### LIMPIEZA DE LA BDD"
   ]
  },
  {
   "cell_type": "code",
   "execution_count": 149,
   "metadata": {},
   "outputs": [
    {
     "name": "stdout",
     "output_type": "stream",
     "text": [
      "-------------- Porcentaje de nulos -----------------\n"
     ]
    },
    {
     "data": {
      "text/plain": [
       "title              0.000000\n",
       "director          94.161959\n",
       "cast               6.779661\n",
       "duration           0.000000\n",
       "classification     0.188324\n",
       "listed_in          0.000000\n",
       "description        0.000000\n",
       "start_date         0.941620\n",
       "end_date          96.986817\n",
       "country            0.000000\n",
       "network            0.000000\n",
       "status             0.000000\n",
       "rating             0.000000\n",
       "votes              0.000000\n",
       "dtype: float64"
      ]
     },
     "execution_count": 149,
     "metadata": {},
     "output_type": "execute_result"
    }
   ],
   "source": [
    "print('-------------- Porcentaje de nulos -----------------')\n",
    "bdd.isna().sum()/bdd.shape[0]*100\n"
   ]
  },
  {
   "cell_type": "code",
   "execution_count": 150,
   "metadata": {},
   "outputs": [
    {
     "data": {
      "text/plain": [
       "55.55555555555556"
      ]
     },
     "execution_count": 150,
     "metadata": {},
     "output_type": "execute_result"
    }
   ],
   "source": [
    "# Análisis de los títulos con status == 'Ended' y 'end_date' vacío\n",
    "bdd[ (bdd.end_date.isna()) & (bdd.status == 'Ended')].shape[0]/bdd.shape[0]*100"
   ]
  },
  {
   "cell_type": "markdown",
   "metadata": {},
   "source": [
    "Las columnas 'director' y 'end_date' tienen más del 90% de nulos por los que no son columnas que aporten información significativa."
   ]
  },
  {
   "cell_type": "code",
   "execution_count": 151,
   "metadata": {},
   "outputs": [],
   "source": [
    "bdd.drop(['director', 'end_date'], axis = 1, inplace=True )"
   ]
  },
  {
   "cell_type": "markdown",
   "metadata": {},
   "source": [
    "Llenar vacíos de  columnas 'cast' y 'classification' y eliminamos los 4 registros que tienen vacío el campo start_date"
   ]
  },
  {
   "cell_type": "code",
   "execution_count": 152,
   "metadata": {},
   "outputs": [],
   "source": [
    "bdd['cast'].fillna('Unknown', inplace=True)\n",
    "\n",
    "bdd['classification'].fillna('Unknown', inplace=True)"
   ]
  },
  {
   "cell_type": "code",
   "execution_count": 153,
   "metadata": {},
   "outputs": [],
   "source": [
    "# Eliminamos los 4 registros que tienen vacío el campo start_date\n",
    "bdd = bdd [ bdd.start_date.isna() == False]\n"
   ]
  },
  {
   "cell_type": "markdown",
   "metadata": {},
   "source": [
    "Transformamos la columna 'duration' en un campo numérico"
   ]
  },
  {
   "cell_type": "code",
   "execution_count": 154,
   "metadata": {},
   "outputs": [],
   "source": [
    "bdd['duration'] = bdd['duration'].str.replace('Season', '').str.replace('s', '')\n",
    "\n",
    "bdd['duration'] = bdd['duration'].str.strip()\n",
    "\n",
    "bdd['duration'] = bdd['duration'].astype(int)\n",
    "\n",
    "# Renombramos a seasons\n",
    "bdd.rename(columns = {'duration':'seasons'}, inplace=True)"
   ]
  },
  {
   "cell_type": "code",
   "execution_count": 155,
   "metadata": {},
   "outputs": [],
   "source": [
    "# Cambiar tipo de datos\n",
    "bdd['votes'] = bdd['votes'].astype(int)\n",
    "bdd['rating'] = bdd['rating'].astype(float)"
   ]
  },
  {
   "cell_type": "code",
   "execution_count": 158,
   "metadata": {},
   "outputs": [],
   "source": [
    "# Reorganizando las columnas\n",
    "bdd =  bdd[['title', 'network', 'country', 'classification', 'start_date', 'seasons', 'status', 'rating', 'votes',\n",
    "            'cast', 'description', 'listed_in']]"
   ]
  },
  {
   "cell_type": "markdown",
   "metadata": {},
   "source": [
    "Transformar columna 'listed_in' en columnas dummies"
   ]
  },
  {
   "cell_type": "code",
   "execution_count": 159,
   "metadata": {
    "collapsed": true
   },
   "outputs": [
    {
     "name": "stderr",
     "output_type": "stream",
     "text": [
      "<ipython-input-159-bb104fffba1a>:14: SettingWithCopyWarning: \n",
      "A value is trying to be set on a copy of a slice from a DataFrame.\n",
      "Try using .loc[row_indexer,col_indexer] = value instead\n",
      "\n",
      "See the caveats in the documentation: https://pandas.pydata.org/pandas-docs/stable/user_guide/indexing.html#returning-a-view-versus-a-copy\n",
      "  bdd[s] = bdd['listed_in'].apply(lambda x: 1 if t in x else 0)\n",
      "C:\\Users\\Itzel\\Documents\\Software\\Anaconda\\Anaconda\\lib\\site-packages\\pandas\\core\\frame.py:3990: SettingWithCopyWarning: \n",
      "A value is trying to be set on a copy of a slice from a DataFrame\n",
      "\n",
      "See the caveats in the documentation: https://pandas.pydata.org/pandas-docs/stable/user_guide/indexing.html#returning-a-view-versus-a-copy\n",
      "  return super().drop(\n"
     ]
    }
   ],
   "source": [
    "type_show = ['TV Comedies', 'Crime TV Shows', 'TV Dramas', 'Docuseries', 'Teen TV Shows', 'TV Horror', \"Kids' TV\", \n",
    "             'Romantic TV Shows', 'Science & Nature TV', 'British TV Shows', 'TV Action & Adventure', 'Anime Series', \n",
    "             'Reality TV', 'TV Mysteries', 'TV Sci-Fi & Fantasy']\n",
    "\n",
    "for t in type_show:\n",
    "    \n",
    "    # Generar el nombre de las columnas\n",
    "    s = t.replace(\"'\", '').replace('&', '').replace('-','').lower()\n",
    "    lst = s.split()\n",
    "    s = '_'.join(lst)\n",
    "\n",
    "    \n",
    "    # Crear columnas dummies según el tipo de show\n",
    "    bdd[s] = bdd['listed_in'].apply(lambda x: 1 if t in x else 0)\n",
    "    \n",
    "# Eliminamos columna listed_in\n",
    "bdd.drop(['listed_in'], axis=1, inplace=True)"
   ]
  },
  {
   "cell_type": "code",
   "execution_count": 161,
   "metadata": {},
   "outputs": [],
   "source": [
    "# Exportar\n",
    "bdd.to_csv('tv_shows_bdd.csv', index=None)"
   ]
  }
 ],
 "metadata": {
  "kernelspec": {
   "display_name": "Python 3",
   "language": "python",
   "name": "python3"
  },
  "language_info": {
   "codemirror_mode": {
    "name": "ipython",
    "version": 3
   },
   "file_extension": ".py",
   "mimetype": "text/x-python",
   "name": "python",
   "nbconvert_exporter": "python",
   "pygments_lexer": "ipython3",
   "version": "3.8.3"
  }
 },
 "nbformat": 4,
 "nbformat_minor": 4
}
