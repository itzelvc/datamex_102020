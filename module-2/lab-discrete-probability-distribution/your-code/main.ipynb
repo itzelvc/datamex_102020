{
 "cells": [
  {
   "cell_type": "markdown",
   "metadata": {},
   "source": [
    "# Before your start:\n",
    "\n",
    "    Read the README.md file\n",
    "    Comment as much as you can and use the resources (README.md file)\n",
    "    Happy learning!\n",
    "\n",
    "*Notes:* \n",
    "\n",
    "- Solve the questions with python.\n",
    "\n",
    "- Round the final answer to three decimal places."
   ]
  },
  {
   "cell_type": "markdown",
   "metadata": {},
   "source": [
    "## Bernoulli's Distribution\n",
    "\n",
    "In a basket containing 100 fruits, there are 60 apples and 40 oranges. \n",
    "\n",
    "A fruit is picked randomly from the basket. \n",
    "\n",
    "1. **What is the probability that the fruit is apple?**\n",
    "1. **What is the probability that it is an orange?**"
   ]
  },
  {
   "cell_type": "code",
   "execution_count": 35,
   "metadata": {},
   "outputs": [],
   "source": [
    "# Librerías\n",
    "from scipy.stats import *\n",
    "import numpy as np\n",
    "import pandas as pd"
   ]
  },
  {
   "cell_type": "code",
   "execution_count": 2,
   "metadata": {},
   "outputs": [
    {
     "name": "stdout",
     "output_type": "stream",
     "text": [
      "probability that the fruit is an apple: 0.6\n",
      "probability that the fruit is an orange: 0.4\n"
     ]
    }
   ],
   "source": [
    "\"\"\"\n",
    "Calculate:\n",
    "p = probability that the fruit is an apple \n",
    "q = probability that the fruit is an orange\n",
    "\"\"\"\n",
    "\n",
    "# your code here\n",
    "apples=60\n",
    "oranges=40\n",
    "total_fruits = apples + oranges\n",
    "\n",
    "p=apples/total_fruits\n",
    "q=1-p\n",
    "print('probability that the fruit is an apple:', round(p,3))\n",
    "print('probability that the fruit is an orange:', round(q,3))"
   ]
  },
  {
   "cell_type": "markdown",
   "metadata": {},
   "source": [
    "Now we take a random sample of 20 fruits from the basket. After each fruit is taken, a new fruit of the same type is replaced in the basket. Therefore, every time we are taking 1 fruit from 100 fruits. \n",
    "\n",
    "1. **What is the probability that the first 5 fruits are all apples?**\n",
    "\n",
    "1. **What is the probability that the first 5 fruits are all apples and the next 15 fruits are all oranges?**\n",
    "\n",
    "You can include the `p` a\n",
    "nd `q` probabilities you previous calculated in your solution."
   ]
  },
  {
   "cell_type": "code",
   "execution_count": 10,
   "metadata": {},
   "outputs": [
    {
     "name": "stdout",
     "output_type": "stream",
     "text": [
      "What is the probability that the first 5 fruits are all apples?: 0.078\n",
      "What is the probability that the first 5 fruits are all apples?: 8.349416423424006e-08\n"
     ]
    }
   ],
   "source": [
    "# your code here\n",
    "\n",
    "print('What is the probability that the first 5 fruits are all apples?:', round(p**5,3))\n",
    "\n",
    "print('What is the probability that the first 5 fruits are all apples?:', (p**5)*(q**15) )"
   ]
  },
  {
   "cell_type": "markdown",
   "metadata": {},
   "source": [
    "## Binomial Distribution\n",
    "\n",
    "Similar to the above problem, this time again we randomly sample 20 fruits.\n",
    "\n",
    "**What is the probability that this time the sample contains 5 apples and 15 oranges?**\n",
    "\n",
    "Please note that this time the order of the fruits being picked does not matter."
   ]
  },
  {
   "cell_type": "code",
   "execution_count": 17,
   "metadata": {},
   "outputs": [
    {
     "name": "stdout",
     "output_type": "stream",
     "text": [
      "0.001\n"
     ]
    }
   ],
   "source": [
    "# your code here\n",
    "print(round(binom.pmf(5,20, p),3))"
   ]
  },
  {
   "cell_type": "markdown",
   "metadata": {},
   "source": [
    "In the lesson we also discussed CDF (cumulative distribution function). In the context of the above problem, **what is the probability that less than 5 fruits picked are apples?**\n",
    "\n",
    "Write the formula and calculate the probability below."
   ]
  },
  {
   "cell_type": "code",
   "execution_count": 31,
   "metadata": {},
   "outputs": [
    {
     "data": {
      "text/plain": [
       "0.0003170311211686301"
      ]
     },
     "execution_count": 31,
     "metadata": {},
     "output_type": "execute_result"
    }
   ],
   "source": [
    "# your code here\n",
    "# La probabilidad de obtener menos de 5 manzanas puede calcularse como:\n",
    "# probabilidad de obtener 0 manzanas + probabilidad de obtener 1 manzanas + probabilidad de obtener 2 manzanas + ...\n",
    "# que sería igual a obtener la probabilidad acumulada cuando x vale 4\n",
    "binom.cdf(4, 20, p)"
   ]
  },
  {
   "cell_type": "markdown",
   "metadata": {},
   "source": [
    "**Plot the PDF (probability distributiom function) for the above binomial distribution.**\n",
    "\n",
    "*Hint: The range of x in a binomial distribution is from `0` to `n`.*"
   ]
  },
  {
   "cell_type": "code",
   "execution_count": 33,
   "metadata": {},
   "outputs": [
    {
     "data": {
      "image/png": "[encoded data removed]",
      "text/plain": [
       "<Figure size 432x288 with 1 Axes>"
      ]
     },
     "metadata": {
      "needs_background": "light"
     },
     "output_type": "display_data"
    }
   ],
   "source": [
    "# your code here\n",
    "# Please label the axes and give a title to the plot \n",
    "import matplotlib.pyplot as plt\n",
    "\n",
    "X=[i for i in range(21)]  # numero de exitos va de 0 a 20\n",
    "y=[binom.cdf(x, 20, p) for x in X] # su probabilidad\n",
    "\n",
    "plt.plot(x, y)\n",
    "plt.xlabel('Número de manzanas obtenidas')\n",
    "plt.ylabel('Probabilidad')\n",
    "plt.title('Probabilidad acumulada de obtener x manzanas');\n"
   ]
  },
  {
   "cell_type": "code",
   "execution_count": 38,
   "metadata": {},
   "outputs": [
    {
     "data": {
      "text/html": [
       "<div>\n",
       "<style scoped>\n",
       "    .dataframe tbody tr th:only-of-type {\n",
       "        vertical-align: middle;\n",
       "    }\n",
       "\n",
       "    .dataframe tbody tr th {\n",
       "        vertical-align: top;\n",
       "    }\n",
       "\n",
       "    .dataframe thead th {\n",
       "        text-align: right;\n",
       "    }\n",
       "</style>\n",
       "<table border=\"1\" class=\"dataframe\">\n",
       "  <thead>\n",
       "    <tr style=\"text-align: right;\">\n",
       "      <th></th>\n",
       "      <th>no_manzanas</th>\n",
       "      <th>probabilidad</th>\n",
       "      <th>probabilidad_acumulada</th>\n",
       "    </tr>\n",
       "  </thead>\n",
       "  <tbody>\n",
       "    <tr>\n",
       "      <th>0</th>\n",
       "      <td>0</td>\n",
       "      <td>1.099512e-08</td>\n",
       "      <td>1.099512e-08</td>\n",
       "    </tr>\n",
       "    <tr>\n",
       "      <th>1</th>\n",
       "      <td>1</td>\n",
       "      <td>3.298535e-07</td>\n",
       "      <td>3.408486e-07</td>\n",
       "    </tr>\n",
       "    <tr>\n",
       "      <th>2</th>\n",
       "      <td>2</td>\n",
       "      <td>4.700412e-06</td>\n",
       "      <td>5.041261e-06</td>\n",
       "    </tr>\n",
       "    <tr>\n",
       "      <th>3</th>\n",
       "      <td>3</td>\n",
       "      <td>4.230371e-05</td>\n",
       "      <td>4.734497e-05</td>\n",
       "    </tr>\n",
       "    <tr>\n",
       "      <th>4</th>\n",
       "      <td>4</td>\n",
       "      <td>2.696862e-04</td>\n",
       "      <td>3.170311e-04</td>\n",
       "    </tr>\n",
       "    <tr>\n",
       "      <th>5</th>\n",
       "      <td>5</td>\n",
       "      <td>1.294494e-03</td>\n",
       "      <td>1.611525e-03</td>\n",
       "    </tr>\n",
       "    <tr>\n",
       "      <th>6</th>\n",
       "      <td>6</td>\n",
       "      <td>4.854351e-03</td>\n",
       "      <td>6.465875e-03</td>\n",
       "    </tr>\n",
       "    <tr>\n",
       "      <th>7</th>\n",
       "      <td>7</td>\n",
       "      <td>1.456305e-02</td>\n",
       "      <td>2.102893e-02</td>\n",
       "    </tr>\n",
       "    <tr>\n",
       "      <th>8</th>\n",
       "      <td>8</td>\n",
       "      <td>3.549744e-02</td>\n",
       "      <td>5.652637e-02</td>\n",
       "    </tr>\n",
       "    <tr>\n",
       "      <th>9</th>\n",
       "      <td>9</td>\n",
       "      <td>7.099488e-02</td>\n",
       "      <td>1.275212e-01</td>\n",
       "    </tr>\n",
       "    <tr>\n",
       "      <th>10</th>\n",
       "      <td>10</td>\n",
       "      <td>1.171416e-01</td>\n",
       "      <td>2.446628e-01</td>\n",
       "    </tr>\n",
       "    <tr>\n",
       "      <th>11</th>\n",
       "      <td>11</td>\n",
       "      <td>1.597385e-01</td>\n",
       "      <td>4.044013e-01</td>\n",
       "    </tr>\n",
       "    <tr>\n",
       "      <th>12</th>\n",
       "      <td>12</td>\n",
       "      <td>1.797058e-01</td>\n",
       "      <td>5.841071e-01</td>\n",
       "    </tr>\n",
       "    <tr>\n",
       "      <th>13</th>\n",
       "      <td>13</td>\n",
       "      <td>1.658823e-01</td>\n",
       "      <td>7.499893e-01</td>\n",
       "    </tr>\n",
       "    <tr>\n",
       "      <th>14</th>\n",
       "      <td>14</td>\n",
       "      <td>1.244117e-01</td>\n",
       "      <td>8.744010e-01</td>\n",
       "    </tr>\n",
       "    <tr>\n",
       "      <th>15</th>\n",
       "      <td>15</td>\n",
       "      <td>7.464702e-02</td>\n",
       "      <td>9.490480e-01</td>\n",
       "    </tr>\n",
       "    <tr>\n",
       "      <th>16</th>\n",
       "      <td>16</td>\n",
       "      <td>3.499079e-02</td>\n",
       "      <td>9.840388e-01</td>\n",
       "    </tr>\n",
       "    <tr>\n",
       "      <th>17</th>\n",
       "      <td>17</td>\n",
       "      <td>1.234969e-02</td>\n",
       "      <td>9.963885e-01</td>\n",
       "    </tr>\n",
       "    <tr>\n",
       "      <th>18</th>\n",
       "      <td>18</td>\n",
       "      <td>3.087423e-03</td>\n",
       "      <td>9.994760e-01</td>\n",
       "    </tr>\n",
       "    <tr>\n",
       "      <th>19</th>\n",
       "      <td>19</td>\n",
       "      <td>4.874878e-04</td>\n",
       "      <td>9.999634e-01</td>\n",
       "    </tr>\n",
       "    <tr>\n",
       "      <th>20</th>\n",
       "      <td>20</td>\n",
       "      <td>3.656158e-05</td>\n",
       "      <td>1.000000e+00</td>\n",
       "    </tr>\n",
       "  </tbody>\n",
       "</table>\n",
       "</div>"
      ],
      "text/plain": [
       "    no_manzanas  probabilidad  probabilidad_acumulada\n",
       "0             0  1.099512e-08            1.099512e-08\n",
       "1             1  3.298535e-07            3.408486e-07\n",
       "2             2  4.700412e-06            5.041261e-06\n",
       "3             3  4.230371e-05            4.734497e-05\n",
       "4             4  2.696862e-04            3.170311e-04\n",
       "5             5  1.294494e-03            1.611525e-03\n",
       "6             6  4.854351e-03            6.465875e-03\n",
       "7             7  1.456305e-02            2.102893e-02\n",
       "8             8  3.549744e-02            5.652637e-02\n",
       "9             9  7.099488e-02            1.275212e-01\n",
       "10           10  1.171416e-01            2.446628e-01\n",
       "11           11  1.597385e-01            4.044013e-01\n",
       "12           12  1.797058e-01            5.841071e-01\n",
       "13           13  1.658823e-01            7.499893e-01\n",
       "14           14  1.244117e-01            8.744010e-01\n",
       "15           15  7.464702e-02            9.490480e-01\n",
       "16           16  3.499079e-02            9.840388e-01\n",
       "17           17  1.234969e-02            9.963885e-01\n",
       "18           18  3.087423e-03            9.994760e-01\n",
       "19           19  4.874878e-04            9.999634e-01\n",
       "20           20  3.656158e-05            1.000000e+00"
      ]
     },
     "execution_count": 38,
     "metadata": {},
     "output_type": "execute_result"
    }
   ],
   "source": [
    "dist_proba=pd.DataFrame(data={'no_manzanas': X, \n",
    "                              'probabilidad': [binom.pmf(i, 20, p) for i in range(21)], \n",
    "                              'probabilidad_acumulada':y})\n",
    "dist_proba"
   ]
  },
  {
   "cell_type": "markdown",
   "metadata": {},
   "source": [
    "## Poisson Distribution\n",
    "\n",
    "In this challenge you are required to use the Math library in python to solve the problems.\n",
    "\n",
    "In the UEFA champions league tournament, the average number of goals scored in a match is 2.3. \n",
    "\n",
    "**What is the probability that the number of goals scored in a match is 5?**\n",
    "\n",
    "*Hint: Use the exp() in the math library*\n",
    "\n",
    "And to calculate the factorial, you can use the following code:\n",
    "\n",
    "```python\n",
    "import math\n",
    "math.factorial(n) # n is the number you want to find the factorial of\n",
    "```"
   ]
  },
  {
   "cell_type": "code",
   "execution_count": 42,
   "metadata": {},
   "outputs": [
    {
     "name": "stdout",
     "output_type": "stream",
     "text": [
      "f(5, 2.3)= 0.053775025581946814\n"
     ]
    }
   ],
   "source": [
    "# your code here \n",
    "import math\n",
    "# math.factorial(n)\n",
    "\n",
    "# La función de probabilidad de una distribución de Poisson está dada por: \n",
    "# f(k, lambda) = (exp^(-lambda)*lambda^k) k!\n",
    "\n",
    "print('f(5, 2.3)=', poisson.pmf(5, 2.3))\n"
   ]
  },
  {
   "cell_type": "markdown",
   "metadata": {},
   "source": [
    "**Draw a poisson probability distribution plot for the number of goals to be between 0 to 10.**"
   ]
  },
  {
   "cell_type": "code",
   "execution_count": 56,
   "metadata": {},
   "outputs": [
    {
     "data": {
      "image/png": "[encoded data removed]",
      "text/plain": [
       "<Figure size 432x288 with 1 Axes>"
      ]
     },
     "metadata": {
      "needs_background": "light"
     },
     "output_type": "display_data"
    }
   ],
   "source": [
    "# your code here\n",
    "# Please label the axes and give a title to the plot \n",
    "k = [i for i in range(11)]\n",
    "f =[ poisson.pmf(k, 2.3) for k in k]\n",
    "\n",
    "plt.plot(k, f, 'c')\n",
    "plt.plot(k, f, 'bo')\n",
    "plt.xlabel('Número de goles')\n",
    "plt.ylabel('Probabilidad')\n",
    "plt.title('Distribución de probabilidad del número de goles scored in a match');"
   ]
  }
 ],
 "metadata": {
  "kernelspec": {
   "display_name": "Python 3",
   "language": "python",
   "name": "python3"
  },
  "language_info": {
   "codemirror_mode": {
    "name": "ipython",
    "version": 3
   },
   "file_extension": ".py",
   "mimetype": "text/x-python",
   "name": "python",
   "nbconvert_exporter": "python",
   "pygments_lexer": "ipython3",
   "version": "3.8.3"
  }
 },
 "nbformat": 4,
 "nbformat_minor": 2
}
